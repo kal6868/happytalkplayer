{
 "cells": [
  {
   "cell_type": "code",
   "execution_count": 1,
   "metadata": {
    "colab": {
     "base_uri": "https://localhost:8080/"
    },
    "executionInfo": {
     "elapsed": 30747,
     "status": "ok",
     "timestamp": 1653668381784,
     "user": {
      "displayName": "Alex Kim",
      "userId": "14000404201898213847"
     },
     "user_tz": -540
    },
    "id": "LGR32eWHowzr",
    "outputId": "1e8a2171-add0-4a0e-c3bb-76ce004efe21"
   },
   "outputs": [
    {
     "name": "stdout",
     "output_type": "stream",
     "text": [
      "Mounted at /content/drive\n"
     ]
    }
   ],
   "source": [
    "from google.colab import drive\n",
    "drive.mount('/content/drive')"
   ]
  },
  {
   "cell_type": "code",
   "execution_count": 2,
   "metadata": {
    "executionInfo": {
     "elapsed": 1354,
     "status": "ok",
     "timestamp": 1653668383122,
     "user": {
      "displayName": "Alex Kim",
      "userId": "14000404201898213847"
     },
     "user_tz": -540
    },
    "id": "BMNgHz6ruDJv"
   },
   "outputs": [],
   "source": [
    "import pandas as pd\n",
    "from tqdm import tqdm\n",
    "import os\n",
    "from tqdm import tqdm"
   ]
  },
  {
   "cell_type": "code",
   "execution_count": 3,
   "metadata": {
    "colab": {
     "base_uri": "https://localhost:8080/"
    },
    "executionInfo": {
     "elapsed": 20800,
     "status": "ok",
     "timestamp": 1653668403914,
     "user": {
      "displayName": "Alex Kim",
      "userId": "14000404201898213847"
     },
     "user_tz": -540
    },
    "id": "WhNG7xCPuDGB",
    "outputId": "848ddb61-f54a-4ca8-c24a-afae959007f4"
   },
   "outputs": [
    {
     "data": {
      "text/plain": [
       "Index(['번호', '연령', '성별', '상황키워드', '신체질환', '감정_대분류', '감정_소분류', '사람문장1',\n",
       "       '시스템응답1', '사람문장2', '시스템응답2', '사람문장3', '시스템응답3', '사람문장4', '시스템응답4'],\n",
       "      dtype='object')"
      ]
     },
     "execution_count": 3,
     "metadata": {},
     "output_type": "execute_result"
    }
   ],
   "source": [
    "#data_raw = pd.read_excel('__file_location__/emo_training.xlsx')\n",
    "data_raw.columns"
   ]
  },
  {
   "cell_type": "code",
   "execution_count": 4,
   "metadata": {
    "colab": {
     "base_uri": "https://localhost:8080/"
    },
    "executionInfo": {
     "elapsed": 12,
     "status": "ok",
     "timestamp": 1653668403915,
     "user": {
      "displayName": "Alex Kim",
      "userId": "14000404201898213847"
     },
     "user_tz": -540
    },
    "id": "5E_HFSoiucHa",
    "outputId": "8809720f-2431-4809-ac2d-3a80d39b3827"
   },
   "outputs": [
    {
     "name": "stdout",
     "output_type": "stream",
     "text": [
      "Index(['감정_대분류', '감정_소분류', '사람문장1', '시스템응답1', '사람문장2', '시스템응답2', '사람문장3',\n",
      "       '시스템응답3', '사람문장4', '시스템응답4'],\n",
      "      dtype='object')\n"
     ]
    }
   ],
   "source": [
    "data_train = data_raw.loc[:,'감정_대분류':'시스템응답4']\n",
    "print(data_train.columns)"
   ]
  },
  {
   "cell_type": "code",
   "execution_count": 5,
   "metadata": {
    "colab": {
     "base_uri": "https://localhost:8080/"
    },
    "executionInfo": {
     "elapsed": 10,
     "status": "ok",
     "timestamp": 1653668403915,
     "user": {
      "displayName": "Alex Kim",
      "userId": "14000404201898213847"
     },
     "user_tz": -540
    },
    "id": "q6KRAKd-uk46",
    "outputId": "b810b725-ac33-445b-b6da-81028d88b8f1"
   },
   "outputs": [
    {
     "data": {
      "text/plain": [
       "array(['기쁨', '불안', '당황', '슬픔', '분노', '상처', '불안 ', '기쁨 '], dtype=object)"
      ]
     },
     "execution_count": 5,
     "metadata": {},
     "output_type": "execute_result"
    }
   ],
   "source": [
    "data_train['감정_대분류'].unique()"
   ]
  },
  {
   "cell_type": "code",
   "execution_count": 6,
   "metadata": {
    "colab": {
     "base_uri": "https://localhost:8080/"
    },
    "executionInfo": {
     "elapsed": 8,
     "status": "ok",
     "timestamp": 1653668403915,
     "user": {
      "displayName": "Alex Kim",
      "userId": "14000404201898213847"
     },
     "user_tz": -540
    },
    "id": "aJuS6CP_u57A",
    "outputId": "41fadaf4-c9b2-4628-a693-bf1e7fc010aa"
   },
   "outputs": [
    {
     "data": {
      "text/plain": [
       "{0: '기쁨', 1: '불안', 2: '당황', 3: '슬픔', 4: '분노', 5: '상처', 6: '불안 ', 7: '기쁨 '}"
      ]
     },
     "execution_count": 6,
     "metadata": {},
     "output_type": "execute_result"
    }
   ],
   "source": [
    "{index:mood for index, mood in enumerate(data_train['감정_대분류'].unique())}"
   ]
  },
  {
   "cell_type": "code",
   "execution_count": 7,
   "metadata": {
    "colab": {
     "base_uri": "https://localhost:8080/"
    },
    "executionInfo": {
     "elapsed": 7,
     "status": "ok",
     "timestamp": 1653668403916,
     "user": {
      "displayName": "Alex Kim",
      "userId": "14000404201898213847"
     },
     "user_tz": -540
    },
    "id": "xvZHe2kAucFa",
    "outputId": "34f77c12-fd18-4338-b8bb-9b8c3a37d62c"
   },
   "outputs": [
    {
     "data": {
      "text/plain": [
       "{0: '신이 난',\n",
       " 1: '스트레스 받는',\n",
       " 2: '당황',\n",
       " 3: '안도',\n",
       " 4: '취약한',\n",
       " 5: '우울한',\n",
       " 6: '구역질 나는',\n",
       " 7: '좌절한',\n",
       " 8: '눈물이 나는',\n",
       " 9: '배신당한',\n",
       " 10: '남의 시선을 의식하는',\n",
       " 11: '죄책감의',\n",
       " 12: '당혹스러운',\n",
       " 13: '분노',\n",
       " 14: '두려운',\n",
       " 15: '낙담한',\n",
       " 16: '회의적인',\n",
       " 17: '마비된',\n",
       " 18: '혼란스러운',\n",
       " 19: '흥분',\n",
       " 20: '한심한',\n",
       " 21: '염세적인',\n",
       " 22: '안달하는',\n",
       " 23: '걱정스러운',\n",
       " 24: '조심스러운',\n",
       " 25: '충격 받은',\n",
       " 26: '상처',\n",
       " 27: '불안',\n",
       " 28: '노여워하는',\n",
       " 29: '기쁨',\n",
       " 30: '짜증내는',\n",
       " 31: '환멸을 느끼는',\n",
       " 32: '비통한',\n",
       " 33: '혐오스러운',\n",
       " 34: '억울한',\n",
       " 35: '만족스러운',\n",
       " 36: '부끄러운',\n",
       " 37: '버려진',\n",
       " 38: '고립된',\n",
       " 39: '괴로워하는',\n",
       " 40: '자신하는',\n",
       " 41: '외로운',\n",
       " 42: '방어적인',\n",
       " 43: '편안한',\n",
       " 44: '질투하는',\n",
       " 45: '감사하는',\n",
       " 46: '초조한',\n",
       " 47: '실망한',\n",
       " 48: '슬픔',\n",
       " 49: '신뢰하는',\n",
       " 50: '가난한, 불우한',\n",
       " 51: '후회되는',\n",
       " 52: '툴툴대는',\n",
       " 53: '성가신',\n",
       " 54: '열등감',\n",
       " 55: '희생된',\n",
       " 56: '느긋',\n",
       " 57: '악의적인'}"
      ]
     },
     "execution_count": 7,
     "metadata": {},
     "output_type": "execute_result"
    }
   ],
   "source": [
    "{index:mood for index, mood in enumerate(data_train['감정_소분류'].unique())}"
   ]
  },
  {
   "cell_type": "code",
   "execution_count": 8,
   "metadata": {
    "executionInfo": {
     "elapsed": 1233,
     "status": "ok",
     "timestamp": 1653668405144,
     "user": {
      "displayName": "Alex Kim",
      "userId": "14000404201898213847"
     },
     "user_tz": -540
    },
    "id": "iyH73-V4uDEJ"
   },
   "outputs": [],
   "source": [
    "def emo_eco(data):\n",
    "    data_c = data.copy()\n",
    "    data_c.columns = ['main_cate', 'sub_cate', 'usr1', 'sys1', 'usr2', 'sys2', 'usr3', 'sys3', 'usr4', 'sys4']\n",
    "\n",
    "    data_c['mc_enco'] = data_c['main_cate']\n",
    "    data_c['sub_enco'] = data_c['sub_cate']\n",
    "\n",
    "    for i, mc in enumerate(data_c['main_cate'].unique()):\n",
    "        data_c.loc[:,'mc_enco'][data_c.loc[:,'mc_enco'] == mc] = i\n",
    "\n",
    "    for i, mc in enumerate(data_c['sub_cate'].unique()):\n",
    "        data_c.loc[:,'sub_enco'][data_c.loc[:,'sub_enco'] == mc] = i\n",
    "\n",
    "    data_c = data_c.loc[:,'usr1':'sub_enco']\n",
    "    return data_c\n",
    "\n",
    "data_enco = emo_eco(data_train)"
   ]
  },
  {
   "cell_type": "code",
   "execution_count": 9,
   "metadata": {
    "colab": {
     "base_uri": "https://localhost:8080/"
    },
    "executionInfo": {
     "elapsed": 15661,
     "status": "ok",
     "timestamp": 1653668420785,
     "user": {
      "displayName": "Alex Kim",
      "userId": "14000404201898213847"
     },
     "user_tz": -540
    },
    "id": "b0Ja8oXBuDCX",
    "outputId": "a622a5a2-e424-4c03-d2a8-cd150089a4dc"
   },
   "outputs": [
    {
     "name": "stderr",
     "output_type": "stream",
     "text": [
      "100%|██████████| 40879/40879 [00:16<00:00, 2520.10it/s]\n"
     ]
    }
   ],
   "source": [
    "def reshape_data(data):\n",
    "    final = []\n",
    "    talk = data.iloc[:, :-2]\n",
    "\n",
    "    for i in tqdm(range(len(talk))):\n",
    "        mc_enco = data.iloc[i, :]['mc_enco']\n",
    "        sub_enco = data.iloc[i, :]['sub_enco']\n",
    "        cvs = talk.iloc[i, :]\n",
    "\n",
    "        for cvs_i in range(len(cvs)//2):\n",
    "            if (pd.notnull(cvs['usr' + str(cvs_i + 1)])) and (pd.notnull(cvs['sys' + str(cvs_i + 1)])):\n",
    "                usr = cvs['usr' + str(cvs_i + 1)]\n",
    "                sys = cvs['sys' + str(cvs_i + 1)]\n",
    "                final.append([usr, sys, mc_enco, sub_enco])\n",
    "    df_final = pd.DataFrame(final)\n",
    "    df_final.columns = ['usr', 'sys', 'mc_enco', 'sub_enco']\n",
    "    return df_final\n",
    "\n",
    "prepro_df = reshape_data(data_enco)\n",
    "\n",
    "for c_name in ['usr', 'sys']:\n",
    "    prepro_df[c_name] = prepro_df[c_name].apply(lambda x: x.replace('\\xa0', ''))\n",
    "\n",
    "#prepro_df.to_csv('/content/drive/MyDrive/Saltlux 인공지능 자연어처리/220500_Final_project/220508_1st_output/dataset/df_preprocessing_220524.csv', encoding='cp949', index = False)"
   ]
  },
  {
   "cell_type": "code",
   "execution_count": 10,
   "metadata": {
    "colab": {
     "base_uri": "https://localhost:8080/",
     "height": 206
    },
    "executionInfo": {
     "elapsed": 35,
     "status": "ok",
     "timestamp": 1653668420786,
     "user": {
      "displayName": "Alex Kim",
      "userId": "14000404201898213847"
     },
     "user_tz": -540
    },
    "id": "1CyF8nr-y_pN",
    "outputId": "b06fc172-2429-4793-81ee-035ca23f5d3b"
   },
   "outputs": [
    {
     "data": {
      "text/html": [
       "\n",
       "  <div id=\"df-6305185d-cf2b-4d16-8043-b93f44a94501\">\n",
       "    <div class=\"colab-df-container\">\n",
       "      <div>\n",
       "<style scoped>\n",
       "    .dataframe tbody tr th:only-of-type {\n",
       "        vertical-align: middle;\n",
       "    }\n",
       "\n",
       "    .dataframe tbody tr th {\n",
       "        vertical-align: top;\n",
       "    }\n",
       "\n",
       "    .dataframe thead th {\n",
       "        text-align: right;\n",
       "    }\n",
       "</style>\n",
       "<table border=\"1\" class=\"dataframe\">\n",
       "  <thead>\n",
       "    <tr style=\"text-align: right;\">\n",
       "      <th></th>\n",
       "      <th>usr</th>\n",
       "      <th>sys</th>\n",
       "      <th>mc_enco</th>\n",
       "      <th>sub_enco</th>\n",
       "    </tr>\n",
       "  </thead>\n",
       "  <tbody>\n",
       "    <tr>\n",
       "      <th>0</th>\n",
       "      <td>아내가 드디어 출산하게 되어서 정말 신이 나.</td>\n",
       "      <td>아내분이 출산을 하시는군요. 정말 축하드려요.</td>\n",
       "      <td>0</td>\n",
       "      <td>0</td>\n",
       "    </tr>\n",
       "    <tr>\n",
       "      <th>1</th>\n",
       "      <td>아 지금 정말 신이 나.</td>\n",
       "      <td>잘 된 일이네요.</td>\n",
       "      <td>0</td>\n",
       "      <td>0</td>\n",
       "    </tr>\n",
       "    <tr>\n",
       "      <th>2</th>\n",
       "      <td>아기가 점점 클게 벌써 기대가 되네. 내가 많이 놀아줘야지.</td>\n",
       "      <td>좋은 아빠가 되실 거 같아요. 진심으로 축하드려요.</td>\n",
       "      <td>0</td>\n",
       "      <td>0</td>\n",
       "    </tr>\n",
       "    <tr>\n",
       "      <th>3</th>\n",
       "      <td>당뇨랑 합병증 때문에 먹어야 할 약이 열 가지가 넘어가니까 스트레스야.</td>\n",
       "      <td>약 종류가 많아 번거로우시겠어요.</td>\n",
       "      <td>1</td>\n",
       "      <td>1</td>\n",
       "    </tr>\n",
       "    <tr>\n",
       "      <th>4</th>\n",
       "      <td>건강할 때 관리 좀 잘할걸 하는 생각이 들더라고.</td>\n",
       "      <td>현재 상황에서 변화를 주기 위해 어떻게 하면 될까요?</td>\n",
       "      <td>1</td>\n",
       "      <td>1</td>\n",
       "    </tr>\n",
       "  </tbody>\n",
       "</table>\n",
       "</div>\n",
       "      <button class=\"colab-df-convert\" onclick=\"convertToInteractive('df-6305185d-cf2b-4d16-8043-b93f44a94501')\"\n",
       "              title=\"Convert this dataframe to an interactive table.\"\n",
       "              style=\"display:none;\">\n",
       "        \n",
       "  <svg xmlns=\"http://www.w3.org/2000/svg\" height=\"24px\"viewBox=\"0 0 24 24\"\n",
       "       width=\"24px\">\n",
       "    <path d=\"M0 0h24v24H0V0z\" fill=\"none\"/>\n",
       "    <path d=\"M18.56 5.44l.94 2.06.94-2.06 2.06-.94-2.06-.94-.94-2.06-.94 2.06-2.06.94zm-11 1L8.5 8.5l.94-2.06 2.06-.94-2.06-.94L8.5 2.5l-.94 2.06-2.06.94zm10 10l.94 2.06.94-2.06 2.06-.94-2.06-.94-.94-2.06-.94 2.06-2.06.94z\"/><path d=\"M17.41 7.96l-1.37-1.37c-.4-.4-.92-.59-1.43-.59-.52 0-1.04.2-1.43.59L10.3 9.45l-7.72 7.72c-.78.78-.78 2.05 0 2.83L4 21.41c.39.39.9.59 1.41.59.51 0 1.02-.2 1.41-.59l7.78-7.78 2.81-2.81c.8-.78.8-2.07 0-2.86zM5.41 20L4 18.59l7.72-7.72 1.47 1.35L5.41 20z\"/>\n",
       "  </svg>\n",
       "      </button>\n",
       "      \n",
       "  <style>\n",
       "    .colab-df-container {\n",
       "      display:flex;\n",
       "      flex-wrap:wrap;\n",
       "      gap: 12px;\n",
       "    }\n",
       "\n",
       "    .colab-df-convert {\n",
       "      background-color: #E8F0FE;\n",
       "      border: none;\n",
       "      border-radius: 50%;\n",
       "      cursor: pointer;\n",
       "      display: none;\n",
       "      fill: #1967D2;\n",
       "      height: 32px;\n",
       "      padding: 0 0 0 0;\n",
       "      width: 32px;\n",
       "    }\n",
       "\n",
       "    .colab-df-convert:hover {\n",
       "      background-color: #E2EBFA;\n",
       "      box-shadow: 0px 1px 2px rgba(60, 64, 67, 0.3), 0px 1px 3px 1px rgba(60, 64, 67, 0.15);\n",
       "      fill: #174EA6;\n",
       "    }\n",
       "\n",
       "    [theme=dark] .colab-df-convert {\n",
       "      background-color: #3B4455;\n",
       "      fill: #D2E3FC;\n",
       "    }\n",
       "\n",
       "    [theme=dark] .colab-df-convert:hover {\n",
       "      background-color: #434B5C;\n",
       "      box-shadow: 0px 1px 3px 1px rgba(0, 0, 0, 0.15);\n",
       "      filter: drop-shadow(0px 1px 2px rgba(0, 0, 0, 0.3));\n",
       "      fill: #FFFFFF;\n",
       "    }\n",
       "  </style>\n",
       "\n",
       "      <script>\n",
       "        const buttonEl =\n",
       "          document.querySelector('#df-6305185d-cf2b-4d16-8043-b93f44a94501 button.colab-df-convert');\n",
       "        buttonEl.style.display =\n",
       "          google.colab.kernel.accessAllowed ? 'block' : 'none';\n",
       "\n",
       "        async function convertToInteractive(key) {\n",
       "          const element = document.querySelector('#df-6305185d-cf2b-4d16-8043-b93f44a94501');\n",
       "          const dataTable =\n",
       "            await google.colab.kernel.invokeFunction('convertToInteractive',\n",
       "                                                     [key], {});\n",
       "          if (!dataTable) return;\n",
       "\n",
       "          const docLinkHtml = 'Like what you see? Visit the ' +\n",
       "            '<a target=\"_blank\" href=https://colab.research.google.com/notebooks/data_table.ipynb>data table notebook</a>'\n",
       "            + ' to learn more about interactive tables.';\n",
       "          element.innerHTML = '';\n",
       "          dataTable['output_type'] = 'display_data';\n",
       "          await google.colab.output.renderOutput(dataTable, element);\n",
       "          const docLink = document.createElement('div');\n",
       "          docLink.innerHTML = docLinkHtml;\n",
       "          element.appendChild(docLink);\n",
       "        }\n",
       "      </script>\n",
       "    </div>\n",
       "  </div>\n",
       "  "
      ],
      "text/plain": [
       "                                       usr                            sys  \\\n",
       "0                아내가 드디어 출산하게 되어서 정말 신이 나.      아내분이 출산을 하시는군요. 정말 축하드려요.   \n",
       "1                            아 지금 정말 신이 나.                      잘 된 일이네요.   \n",
       "2       아기가 점점 클게 벌써 기대가 되네. 내가 많이 놀아줘야지.    좋은 아빠가 되실 거 같아요. 진심으로 축하드려요.   \n",
       "3  당뇨랑 합병증 때문에 먹어야 할 약이 열 가지가 넘어가니까 스트레스야.             약 종류가 많아 번거로우시겠어요.   \n",
       "4              건강할 때 관리 좀 잘할걸 하는 생각이 들더라고.  현재 상황에서 변화를 주기 위해 어떻게 하면 될까요?   \n",
       "\n",
       "   mc_enco  sub_enco  \n",
       "0        0         0  \n",
       "1        0         0  \n",
       "2        0         0  \n",
       "3        1         1  \n",
       "4        1         1  "
      ]
     },
     "execution_count": 10,
     "metadata": {},
     "output_type": "execute_result"
    }
   ],
   "source": [
    "prepro_df.head()"
   ]
  },
  {
   "cell_type": "code",
   "execution_count": 11,
   "metadata": {
    "colab": {
     "base_uri": "https://localhost:8080/"
    },
    "executionInfo": {
     "elapsed": 645149,
     "status": "ok",
     "timestamp": 1653669065926,
     "user": {
      "displayName": "Alex Kim",
      "userId": "14000404201898213847"
     },
     "user_tz": -540
    },
    "id": "1Zqq6iy0y_nV",
    "outputId": "beb2ee31-cb2c-48e1-e101-57b24f37cfa9"
   },
   "outputs": [
    {
     "name": "stdout",
     "output_type": "stream",
     "text": [
      "0\n",
      "1000\n",
      "2000\n",
      "3000\n",
      "4000\n",
      "5000\n",
      "6000\n",
      "7000\n",
      "8000\n",
      "9000\n",
      "10000\n",
      "11000\n",
      "12000\n",
      "13000\n",
      "14000\n",
      "15000\n",
      "16000\n",
      "17000\n",
      "18000\n",
      "19000\n",
      "20000\n",
      "21000\n",
      "22000\n",
      "23000\n",
      "24000\n",
      "25000\n",
      "26000\n",
      "27000\n",
      "28000\n",
      "29000\n",
      "30000\n",
      "31000\n",
      "32000\n",
      "33000\n",
      "34000\n",
      "35000\n",
      "36000\n",
      "37000\n",
      "38000\n",
      "39000\n",
      "40000\n",
      "41000\n",
      "42000\n",
      "43000\n",
      "44000\n",
      "45000\n",
      "46000\n",
      "47000\n",
      "48000\n",
      "49000\n",
      "50000\n",
      "51000\n",
      "52000\n",
      "53000\n",
      "54000\n",
      "55000\n",
      "56000\n",
      "57000\n",
      "58000\n",
      "59000\n",
      "60000\n",
      "61000\n",
      "62000\n",
      "63000\n",
      "64000\n",
      "65000\n",
      "66000\n",
      "67000\n",
      "68000\n",
      "69000\n",
      "70000\n",
      "71000\n",
      "72000\n",
      "73000\n",
      "74000\n",
      "75000\n",
      "76000\n",
      "77000\n",
      "78000\n",
      "79000\n",
      "80000\n",
      "81000\n",
      "82000\n",
      "83000\n",
      "84000\n",
      "85000\n",
      "86000\n",
      "87000\n",
      "88000\n",
      "89000\n",
      "90000\n",
      "91000\n",
      "92000\n",
      "93000\n",
      "94000\n",
      "95000\n",
      "96000\n",
      "97000\n",
      "98000\n",
      "99000\n",
      "100000\n",
      "101000\n",
      "102000\n",
      "103000\n",
      "104000\n",
      "105000\n",
      "106000\n",
      "107000\n",
      "108000\n",
      "109000\n",
      "110000\n",
      "111000\n",
      "112000\n",
      "113000\n",
      "114000\n"
     ]
    }
   ],
   "source": [
    "prepro_df_nq = prepro_df.copy()\n",
    "for i, sys_ans in enumerate(prepro_df.loc[:, 'sys']):\n",
    "  if sys_ans.endswith('?'):\n",
    "    prepro_df_nq.drop(index = i, axis = 0, inplace = True)\n",
    "  if (i % 1000) == 0:\n",
    "    print(i)"
   ]
  },
  {
   "cell_type": "code",
   "execution_count": 12,
   "metadata": {
    "executionInfo": {
     "elapsed": 547,
     "status": "ok",
     "timestamp": 1653669066468,
     "user": {
      "displayName": "Alex Kim",
      "userId": "14000404201898213847"
     },
     "user_tz": -540
    },
    "id": "HNyLPYr32jcB"
   },
   "outputs": [],
   "source": [
    "prepro_df_nq.to_csv('/content/drive/MyDrive/Saltlux 인공지능 자연어처리/220500_Final_project/220508_1st_output/dataset/no_question_220525.csv', encoding='cp949', index = False)"
   ]
  },
  {
   "cell_type": "code",
   "execution_count": 13,
   "metadata": {
    "executionInfo": {
     "elapsed": 575,
     "status": "ok",
     "timestamp": 1653669067041,
     "user": {
      "displayName": "Alex Kim",
      "userId": "14000404201898213847"
     },
     "user_tz": -540
    },
    "id": "wMFngxNn6pE7"
   },
   "outputs": [],
   "source": [
    "emo_conv = pd.read_csv('/content/drive/MyDrive/Saltlux 인공지능 자연어처리/220500_Final_project/220511/emo_conv.csv', encoding = 'cp949')"
   ]
  },
  {
   "cell_type": "code",
   "execution_count": 14,
   "metadata": {
    "executionInfo": {
     "elapsed": 18,
     "status": "ok",
     "timestamp": 1653669067043,
     "user": {
      "displayName": "Alex Kim",
      "userId": "14000404201898213847"
     },
     "user_tz": -540
    },
    "id": "mYu2WK-l66lH"
   },
   "outputs": [],
   "source": [
    "emo_conv['mc_enco'] = '<unk_s>'\n",
    "emo_conv['sub_enco'] = '<unk_s>'"
   ]
  },
  {
   "cell_type": "code",
   "execution_count": 15,
   "metadata": {
    "colab": {
     "base_uri": "https://localhost:8080/",
     "height": 206
    },
    "executionInfo": {
     "elapsed": 17,
     "status": "ok",
     "timestamp": 1653669067043,
     "user": {
      "displayName": "Alex Kim",
      "userId": "14000404201898213847"
     },
     "user_tz": -540
    },
    "id": "bpAQzN5D68IQ",
    "outputId": "ec8e2d73-4d02-4cc7-f9c0-46b3b70d1423"
   },
   "outputs": [
    {
     "data": {
      "text/html": [
       "\n",
       "  <div id=\"df-4cc66fab-e6a7-4d2f-b70b-d13231e91684\">\n",
       "    <div class=\"colab-df-container\">\n",
       "      <div>\n",
       "<style scoped>\n",
       "    .dataframe tbody tr th:only-of-type {\n",
       "        vertical-align: middle;\n",
       "    }\n",
       "\n",
       "    .dataframe tbody tr th {\n",
       "        vertical-align: top;\n",
       "    }\n",
       "\n",
       "    .dataframe thead th {\n",
       "        text-align: right;\n",
       "    }\n",
       "</style>\n",
       "<table border=\"1\" class=\"dataframe\">\n",
       "  <thead>\n",
       "    <tr style=\"text-align: right;\">\n",
       "      <th></th>\n",
       "      <th>usr</th>\n",
       "      <th>sys</th>\n",
       "      <th>mc_enco</th>\n",
       "      <th>sub_enco</th>\n",
       "    </tr>\n",
       "  </thead>\n",
       "  <tbody>\n",
       "    <tr>\n",
       "      <th>0</th>\n",
       "      <td>제 감정이 이상해진 것 같아요. 남편만 보면 화가 치밀어 오르고 감정 조절이 안되요.</td>\n",
       "      <td>감정이 조절이 안 될 때만큼 힘들 때는 없는 거 같아요.</td>\n",
       "      <td>&lt;unk_s&gt;</td>\n",
       "      <td>&lt;unk_s&gt;</td>\n",
       "    </tr>\n",
       "    <tr>\n",
       "      <th>1</th>\n",
       "      <td>제 감정이 이상해진 것 같아요. 남편만 보면 화가 치밀어 오르고 감정 조절이 안되요.</td>\n",
       "      <td>저도 그 기분 이해해요. 많이 힘드시죠?</td>\n",
       "      <td>&lt;unk_s&gt;</td>\n",
       "      <td>&lt;unk_s&gt;</td>\n",
       "    </tr>\n",
       "    <tr>\n",
       "      <th>2</th>\n",
       "      <td>제 감정이 이상해진 것 같아요. 남편만 보면 화가 치밀어 오르고 감정 조절이 안되요.</td>\n",
       "      <td>그럴 때는 밥은 잘 먹었는지, 잠은 잘 잤는지 체크해보는 것도 좋아요.</td>\n",
       "      <td>&lt;unk_s&gt;</td>\n",
       "      <td>&lt;unk_s&gt;</td>\n",
       "    </tr>\n",
       "    <tr>\n",
       "      <th>3</th>\n",
       "      <td>더 이상 내 감정을 내가 컨트롤 못 하겠어.</td>\n",
       "      <td>감정이 조절이 안 될 때만큼 힘들 때는 없는 거 같아요.</td>\n",
       "      <td>&lt;unk_s&gt;</td>\n",
       "      <td>&lt;unk_s&gt;</td>\n",
       "    </tr>\n",
       "    <tr>\n",
       "      <th>4</th>\n",
       "      <td>더 이상 내 감정을 내가 컨트롤 못 하겠어.</td>\n",
       "      <td>저도 그 기분 이해해요. 많이 힘드시죠?</td>\n",
       "      <td>&lt;unk_s&gt;</td>\n",
       "      <td>&lt;unk_s&gt;</td>\n",
       "    </tr>\n",
       "  </tbody>\n",
       "</table>\n",
       "</div>\n",
       "      <button class=\"colab-df-convert\" onclick=\"convertToInteractive('df-4cc66fab-e6a7-4d2f-b70b-d13231e91684')\"\n",
       "              title=\"Convert this dataframe to an interactive table.\"\n",
       "              style=\"display:none;\">\n",
       "        \n",
       "  <svg xmlns=\"http://www.w3.org/2000/svg\" height=\"24px\"viewBox=\"0 0 24 24\"\n",
       "       width=\"24px\">\n",
       "    <path d=\"M0 0h24v24H0V0z\" fill=\"none\"/>\n",
       "    <path d=\"M18.56 5.44l.94 2.06.94-2.06 2.06-.94-2.06-.94-.94-2.06-.94 2.06-2.06.94zm-11 1L8.5 8.5l.94-2.06 2.06-.94-2.06-.94L8.5 2.5l-.94 2.06-2.06.94zm10 10l.94 2.06.94-2.06 2.06-.94-2.06-.94-.94-2.06-.94 2.06-2.06.94z\"/><path d=\"M17.41 7.96l-1.37-1.37c-.4-.4-.92-.59-1.43-.59-.52 0-1.04.2-1.43.59L10.3 9.45l-7.72 7.72c-.78.78-.78 2.05 0 2.83L4 21.41c.39.39.9.59 1.41.59.51 0 1.02-.2 1.41-.59l7.78-7.78 2.81-2.81c.8-.78.8-2.07 0-2.86zM5.41 20L4 18.59l7.72-7.72 1.47 1.35L5.41 20z\"/>\n",
       "  </svg>\n",
       "      </button>\n",
       "      \n",
       "  <style>\n",
       "    .colab-df-container {\n",
       "      display:flex;\n",
       "      flex-wrap:wrap;\n",
       "      gap: 12px;\n",
       "    }\n",
       "\n",
       "    .colab-df-convert {\n",
       "      background-color: #E8F0FE;\n",
       "      border: none;\n",
       "      border-radius: 50%;\n",
       "      cursor: pointer;\n",
       "      display: none;\n",
       "      fill: #1967D2;\n",
       "      height: 32px;\n",
       "      padding: 0 0 0 0;\n",
       "      width: 32px;\n",
       "    }\n",
       "\n",
       "    .colab-df-convert:hover {\n",
       "      background-color: #E2EBFA;\n",
       "      box-shadow: 0px 1px 2px rgba(60, 64, 67, 0.3), 0px 1px 3px 1px rgba(60, 64, 67, 0.15);\n",
       "      fill: #174EA6;\n",
       "    }\n",
       "\n",
       "    [theme=dark] .colab-df-convert {\n",
       "      background-color: #3B4455;\n",
       "      fill: #D2E3FC;\n",
       "    }\n",
       "\n",
       "    [theme=dark] .colab-df-convert:hover {\n",
       "      background-color: #434B5C;\n",
       "      box-shadow: 0px 1px 3px 1px rgba(0, 0, 0, 0.15);\n",
       "      filter: drop-shadow(0px 1px 2px rgba(0, 0, 0, 0.3));\n",
       "      fill: #FFFFFF;\n",
       "    }\n",
       "  </style>\n",
       "\n",
       "      <script>\n",
       "        const buttonEl =\n",
       "          document.querySelector('#df-4cc66fab-e6a7-4d2f-b70b-d13231e91684 button.colab-df-convert');\n",
       "        buttonEl.style.display =\n",
       "          google.colab.kernel.accessAllowed ? 'block' : 'none';\n",
       "\n",
       "        async function convertToInteractive(key) {\n",
       "          const element = document.querySelector('#df-4cc66fab-e6a7-4d2f-b70b-d13231e91684');\n",
       "          const dataTable =\n",
       "            await google.colab.kernel.invokeFunction('convertToInteractive',\n",
       "                                                     [key], {});\n",
       "          if (!dataTable) return;\n",
       "\n",
       "          const docLinkHtml = 'Like what you see? Visit the ' +\n",
       "            '<a target=\"_blank\" href=https://colab.research.google.com/notebooks/data_table.ipynb>data table notebook</a>'\n",
       "            + ' to learn more about interactive tables.';\n",
       "          element.innerHTML = '';\n",
       "          dataTable['output_type'] = 'display_data';\n",
       "          await google.colab.output.renderOutput(dataTable, element);\n",
       "          const docLink = document.createElement('div');\n",
       "          docLink.innerHTML = docLinkHtml;\n",
       "          element.appendChild(docLink);\n",
       "        }\n",
       "      </script>\n",
       "    </div>\n",
       "  </div>\n",
       "  "
      ],
      "text/plain": [
       "                                               usr  \\\n",
       "0  제 감정이 이상해진 것 같아요. 남편만 보면 화가 치밀어 오르고 감정 조절이 안되요.   \n",
       "1  제 감정이 이상해진 것 같아요. 남편만 보면 화가 치밀어 오르고 감정 조절이 안되요.   \n",
       "2  제 감정이 이상해진 것 같아요. 남편만 보면 화가 치밀어 오르고 감정 조절이 안되요.   \n",
       "3                         더 이상 내 감정을 내가 컨트롤 못 하겠어.   \n",
       "4                         더 이상 내 감정을 내가 컨트롤 못 하겠어.   \n",
       "\n",
       "                                       sys  mc_enco sub_enco  \n",
       "0          감정이 조절이 안 될 때만큼 힘들 때는 없는 거 같아요.  <unk_s>  <unk_s>  \n",
       "1                   저도 그 기분 이해해요. 많이 힘드시죠?  <unk_s>  <unk_s>  \n",
       "2  그럴 때는 밥은 잘 먹었는지, 잠은 잘 잤는지 체크해보는 것도 좋아요.  <unk_s>  <unk_s>  \n",
       "3          감정이 조절이 안 될 때만큼 힘들 때는 없는 거 같아요.  <unk_s>  <unk_s>  \n",
       "4                   저도 그 기분 이해해요. 많이 힘드시죠?  <unk_s>  <unk_s>  "
      ]
     },
     "execution_count": 15,
     "metadata": {},
     "output_type": "execute_result"
    }
   ],
   "source": [
    "emo_conv.head()"
   ]
  },
  {
   "cell_type": "code",
   "execution_count": 16,
   "metadata": {
    "executionInfo": {
     "elapsed": 434,
     "status": "ok",
     "timestamp": 1653669067466,
     "user": {
      "displayName": "Alex Kim",
      "userId": "14000404201898213847"
     },
     "user_tz": -540
    },
    "id": "RoZjtATT7O82"
   },
   "outputs": [],
   "source": [
    "data_unified = pd.concat([prepro_df_nq, emo_conv], axis = 0).reset_index(drop=True)"
   ]
  },
  {
   "cell_type": "code",
   "execution_count": 17,
   "metadata": {
    "executionInfo": {
     "elapsed": 17,
     "status": "ok",
     "timestamp": 1653669067467,
     "user": {
      "displayName": "Alex Kim",
      "userId": "14000404201898213847"
     },
     "user_tz": -540
    },
    "id": "onXt80gM7cyu"
   },
   "outputs": [],
   "source": [
    "#data_unified.to_csv('/content/drive/MyDrive/Saltlux 인공지능 자연어처리/220500_Final_project/220525/unified.csv', encoding = 'cp949')"
   ]
  },
  {
   "cell_type": "code",
   "execution_count": 22,
   "metadata": {
    "colab": {
     "base_uri": "https://localhost:8080/"
    },
    "executionInfo": {
     "elapsed": 9,
     "status": "ok",
     "timestamp": 1653669169246,
     "user": {
      "displayName": "Alex Kim",
      "userId": "14000404201898213847"
     },
     "user_tz": -540
    },
    "id": "j9wMu5EKXP4K",
    "outputId": "9bc44314-dd2c-4e10-d796-9637646133a6"
   },
   "outputs": [
    {
     "data": {
      "text/plain": [
       "27604"
      ]
     },
     "execution_count": 22,
     "metadata": {},
     "output_type": "execute_result"
    }
   ],
   "source": [
    "len(emo_conv)"
   ]
  },
  {
   "cell_type": "code",
   "execution_count": 24,
   "metadata": {
    "colab": {
     "base_uri": "https://localhost:8080/"
    },
    "executionInfo": {
     "elapsed": 368,
     "status": "ok",
     "timestamp": 1653669218287,
     "user": {
      "displayName": "Alex Kim",
      "userId": "14000404201898213847"
     },
     "user_tz": -540
    },
    "id": "ZyiNolNz70iP",
    "outputId": "eac79d57-b037-4e8d-f80b-08ee02c228b2"
   },
   "outputs": [
    {
     "data": {
      "text/plain": [
       "array([ 0,  1,  2,  3,  4,  5,  6,  7,  8,  9, 10, 11, 12, 13, 14, 15, 16,\n",
       "       17, 18, 19, 20, 21, 22, 23, 24, 25, 26, 29, 30, 31, 32, 33, 34, 35,\n",
       "       36, 37, 38, 39, 40, 41, 42, 43, 44, 45, 27, 46, 47, 48, 49, 50, 28,\n",
       "       51, 52, 53, 54, 55, 56, 57])"
      ]
     },
     "execution_count": 24,
     "metadata": {},
     "output_type": "execute_result"
    }
   ],
   "source": [
    "prepro_df_nq['sub_enco'].unique()"
   ]
  },
  {
   "cell_type": "code",
   "execution_count": 26,
   "metadata": {
    "colab": {
     "base_uri": "https://localhost:8080/"
    },
    "executionInfo": {
     "elapsed": 357,
     "status": "ok",
     "timestamp": 1653669249915,
     "user": {
      "displayName": "Alex Kim",
      "userId": "14000404201898213847"
     },
     "user_tz": -540
    },
    "id": "27bLsWdpXfwo",
    "outputId": "01962d26-8848-4c54-df1b-1826590b9eef"
   },
   "outputs": [
    {
     "data": {
      "text/plain": [
       "484.280701754386"
      ]
     },
     "execution_count": 26,
     "metadata": {},
     "output_type": "execute_result"
    }
   ],
   "source": [
    "len(emo_conv)/57"
   ]
  },
  {
   "cell_type": "code",
   "execution_count": 36,
   "metadata": {
    "executionInfo": {
     "elapsed": 396,
     "status": "ok",
     "timestamp": 1653669509499,
     "user": {
      "displayName": "Alex Kim",
      "userId": "14000404201898213847"
     },
     "user_tz": -540
    },
    "id": "72fzx5ifXzh2"
   },
   "outputs": [],
   "source": [
    "data_equal = pd.DataFrame({})"
   ]
  },
  {
   "cell_type": "code",
   "execution_count": 37,
   "metadata": {
    "executionInfo": {
     "elapsed": 560,
     "status": "ok",
     "timestamp": 1653669511343,
     "user": {
      "displayName": "Alex Kim",
      "userId": "14000404201898213847"
     },
     "user_tz": -540
    },
    "id": "1AfO3aSBXj7P"
   },
   "outputs": [],
   "source": [
    "#485개씩\n",
    "for i in prepro_df_nq['sub_enco'].unique():\n",
    "  downsample = prepro_df_nq[prepro_df_nq['sub_enco'] == i].sample(485)\n",
    "  data_equal = pd.concat([data_equal, downsample], axis = 0)"
   ]
  },
  {
   "cell_type": "code",
   "execution_count": 42,
   "metadata": {
    "colab": {
     "base_uri": "https://localhost:8080/",
     "height": 424
    },
    "executionInfo": {
     "elapsed": 524,
     "status": "ok",
     "timestamp": 1653669566177,
     "user": {
      "displayName": "Alex Kim",
      "userId": "14000404201898213847"
     },
     "user_tz": -540
    },
    "id": "EoWcLKjQX4L8",
    "outputId": "0e4d6041-4e32-4f3e-beb5-57889b1f1792"
   },
   "outputs": [
    {
     "data": {
      "text/html": [
       "\n",
       "  <div id=\"df-b33cede5-2c06-478c-8722-b5dcb0d7bf08\">\n",
       "    <div class=\"colab-df-container\">\n",
       "      <div>\n",
       "<style scoped>\n",
       "    .dataframe tbody tr th:only-of-type {\n",
       "        vertical-align: middle;\n",
       "    }\n",
       "\n",
       "    .dataframe tbody tr th {\n",
       "        vertical-align: top;\n",
       "    }\n",
       "\n",
       "    .dataframe thead th {\n",
       "        text-align: right;\n",
       "    }\n",
       "</style>\n",
       "<table border=\"1\" class=\"dataframe\">\n",
       "  <thead>\n",
       "    <tr style=\"text-align: right;\">\n",
       "      <th></th>\n",
       "      <th>usr</th>\n",
       "      <th>sys</th>\n",
       "      <th>mc_enco</th>\n",
       "      <th>sub_enco</th>\n",
       "    </tr>\n",
       "  </thead>\n",
       "  <tbody>\n",
       "    <tr>\n",
       "      <th>88963</th>\n",
       "      <td>은퇴 후에 가족들끼리 시작한 음식점 사업이 승승장구 해서 너무 기분이 좋아!</td>\n",
       "      <td>은퇴 후에 가족들끼리 시작한 사업의 성공이 기쁘시군요.</td>\n",
       "      <td>0</td>\n",
       "      <td>0</td>\n",
       "    </tr>\n",
       "    <tr>\n",
       "      <th>43928</th>\n",
       "      <td>맞아. 고마우니까 자식들 놀러오면 맛있는 거라도 잔뜩 해줘야지.</td>\n",
       "      <td>자식들에게 고마움을 느끼고 계시는군요.</td>\n",
       "      <td>0</td>\n",
       "      <td>0</td>\n",
       "    </tr>\n",
       "    <tr>\n",
       "      <th>107781</th>\n",
       "      <td>앞으로 더 노력해서 좋은 성과 얻어야지.</td>\n",
       "      <td>앞으로도 좋은 소식만 있으시길 바라요.</td>\n",
       "      <td>0</td>\n",
       "      <td>0</td>\n",
       "    </tr>\n",
       "    <tr>\n",
       "      <th>95750</th>\n",
       "      <td>응. 나보다 부모님이 더 좋아하시는 것 같네.</td>\n",
       "      <td>부모님이 더 좋아하시는군요. 그동안 고생한 보람이 있네요.</td>\n",
       "      <td>0</td>\n",
       "      <td>0</td>\n",
       "    </tr>\n",
       "    <tr>\n",
       "      <th>5372</th>\n",
       "      <td>이번 주에 샌드위치 휴일이 있어서 너무 좋아.</td>\n",
       "      <td>주중에 쉬는 날이 있어서 좋으신가 봐요.</td>\n",
       "      <td>0</td>\n",
       "      <td>0</td>\n",
       "    </tr>\n",
       "    <tr>\n",
       "      <th>...</th>\n",
       "      <td>...</td>\n",
       "      <td>...</td>\n",
       "      <td>...</td>\n",
       "      <td>...</td>\n",
       "    </tr>\n",
       "    <tr>\n",
       "      <th>32535</th>\n",
       "      <td>맞아. 악의적이라고 해도 어쩔 수 없는 게 그 사람도 나한테 그랬잖아.</td>\n",
       "      <td>눈에는 눈 이에는 이 방식으로 동료에게 복수를 하시려는 것처럼 보여요.</td>\n",
       "      <td>4</td>\n",
       "      <td>57</td>\n",
       "    </tr>\n",
       "    <tr>\n",
       "      <th>15314</th>\n",
       "      <td>과장님이 짧은 기간 내에 일을 너무 많이 주셔서 그냥 대충 해버렸어. 짜증 나.</td>\n",
       "      <td>과장님이 과중한 업무를 주셔서 짜증이 나셨군요.</td>\n",
       "      <td>4</td>\n",
       "      <td>57</td>\n",
       "    </tr>\n",
       "    <tr>\n",
       "      <th>37366</th>\n",
       "      <td>어떤 친구가 참석 못 한 다른 친구에 대해 악담을 하는데 심하더라고. 그렇게 살면 ...</td>\n",
       "      <td>악담의 정도가 지나쳐서 더 기분이 안 좋으셨군요.</td>\n",
       "      <td>4</td>\n",
       "      <td>57</td>\n",
       "    </tr>\n",
       "    <tr>\n",
       "      <th>9404</th>\n",
       "      <td>김 씨가 나를 밀어서 빠뜨리려 했어. 몹시 화가 나.</td>\n",
       "      <td>김 씨가 밀어서 화가 나셨군요.</td>\n",
       "      <td>4</td>\n",
       "      <td>57</td>\n",
       "    </tr>\n",
       "    <tr>\n",
       "      <th>14700</th>\n",
       "      <td>퇴사했으니까 이제 남는 시간에 자기 계발도 좀 하고 취미 생활을 즐겨야지!</td>\n",
       "      <td>자기 계발과 취미 생활로 매일 좋은 기분이면 좋겠어요.</td>\n",
       "      <td>4</td>\n",
       "      <td>57</td>\n",
       "    </tr>\n",
       "  </tbody>\n",
       "</table>\n",
       "<p>28130 rows × 4 columns</p>\n",
       "</div>\n",
       "      <button class=\"colab-df-convert\" onclick=\"convertToInteractive('df-b33cede5-2c06-478c-8722-b5dcb0d7bf08')\"\n",
       "              title=\"Convert this dataframe to an interactive table.\"\n",
       "              style=\"display:none;\">\n",
       "        \n",
       "  <svg xmlns=\"http://www.w3.org/2000/svg\" height=\"24px\"viewBox=\"0 0 24 24\"\n",
       "       width=\"24px\">\n",
       "    <path d=\"M0 0h24v24H0V0z\" fill=\"none\"/>\n",
       "    <path d=\"M18.56 5.44l.94 2.06.94-2.06 2.06-.94-2.06-.94-.94-2.06-.94 2.06-2.06.94zm-11 1L8.5 8.5l.94-2.06 2.06-.94-2.06-.94L8.5 2.5l-.94 2.06-2.06.94zm10 10l.94 2.06.94-2.06 2.06-.94-2.06-.94-.94-2.06-.94 2.06-2.06.94z\"/><path d=\"M17.41 7.96l-1.37-1.37c-.4-.4-.92-.59-1.43-.59-.52 0-1.04.2-1.43.59L10.3 9.45l-7.72 7.72c-.78.78-.78 2.05 0 2.83L4 21.41c.39.39.9.59 1.41.59.51 0 1.02-.2 1.41-.59l7.78-7.78 2.81-2.81c.8-.78.8-2.07 0-2.86zM5.41 20L4 18.59l7.72-7.72 1.47 1.35L5.41 20z\"/>\n",
       "  </svg>\n",
       "      </button>\n",
       "      \n",
       "  <style>\n",
       "    .colab-df-container {\n",
       "      display:flex;\n",
       "      flex-wrap:wrap;\n",
       "      gap: 12px;\n",
       "    }\n",
       "\n",
       "    .colab-df-convert {\n",
       "      background-color: #E8F0FE;\n",
       "      border: none;\n",
       "      border-radius: 50%;\n",
       "      cursor: pointer;\n",
       "      display: none;\n",
       "      fill: #1967D2;\n",
       "      height: 32px;\n",
       "      padding: 0 0 0 0;\n",
       "      width: 32px;\n",
       "    }\n",
       "\n",
       "    .colab-df-convert:hover {\n",
       "      background-color: #E2EBFA;\n",
       "      box-shadow: 0px 1px 2px rgba(60, 64, 67, 0.3), 0px 1px 3px 1px rgba(60, 64, 67, 0.15);\n",
       "      fill: #174EA6;\n",
       "    }\n",
       "\n",
       "    [theme=dark] .colab-df-convert {\n",
       "      background-color: #3B4455;\n",
       "      fill: #D2E3FC;\n",
       "    }\n",
       "\n",
       "    [theme=dark] .colab-df-convert:hover {\n",
       "      background-color: #434B5C;\n",
       "      box-shadow: 0px 1px 3px 1px rgba(0, 0, 0, 0.15);\n",
       "      filter: drop-shadow(0px 1px 2px rgba(0, 0, 0, 0.3));\n",
       "      fill: #FFFFFF;\n",
       "    }\n",
       "  </style>\n",
       "\n",
       "      <script>\n",
       "        const buttonEl =\n",
       "          document.querySelector('#df-b33cede5-2c06-478c-8722-b5dcb0d7bf08 button.colab-df-convert');\n",
       "        buttonEl.style.display =\n",
       "          google.colab.kernel.accessAllowed ? 'block' : 'none';\n",
       "\n",
       "        async function convertToInteractive(key) {\n",
       "          const element = document.querySelector('#df-b33cede5-2c06-478c-8722-b5dcb0d7bf08');\n",
       "          const dataTable =\n",
       "            await google.colab.kernel.invokeFunction('convertToInteractive',\n",
       "                                                     [key], {});\n",
       "          if (!dataTable) return;\n",
       "\n",
       "          const docLinkHtml = 'Like what you see? Visit the ' +\n",
       "            '<a target=\"_blank\" href=https://colab.research.google.com/notebooks/data_table.ipynb>data table notebook</a>'\n",
       "            + ' to learn more about interactive tables.';\n",
       "          element.innerHTML = '';\n",
       "          dataTable['output_type'] = 'display_data';\n",
       "          await google.colab.output.renderOutput(dataTable, element);\n",
       "          const docLink = document.createElement('div');\n",
       "          docLink.innerHTML = docLinkHtml;\n",
       "          element.appendChild(docLink);\n",
       "        }\n",
       "      </script>\n",
       "    </div>\n",
       "  </div>\n",
       "  "
      ],
      "text/plain": [
       "                                                      usr  \\\n",
       "88963          은퇴 후에 가족들끼리 시작한 음식점 사업이 승승장구 해서 너무 기분이 좋아!   \n",
       "43928                 맞아. 고마우니까 자식들 놀러오면 맛있는 거라도 잔뜩 해줘야지.   \n",
       "107781                             앞으로 더 노력해서 좋은 성과 얻어야지.   \n",
       "95750                           응. 나보다 부모님이 더 좋아하시는 것 같네.   \n",
       "5372                            이번 주에 샌드위치 휴일이 있어서 너무 좋아.   \n",
       "...                                                   ...   \n",
       "32535             맞아. 악의적이라고 해도 어쩔 수 없는 게 그 사람도 나한테 그랬잖아.   \n",
       "15314        과장님이 짧은 기간 내에 일을 너무 많이 주셔서 그냥 대충 해버렸어. 짜증 나.   \n",
       "37366   어떤 친구가 참석 못 한 다른 친구에 대해 악담을 하는데 심하더라고. 그렇게 살면 ...   \n",
       "9404                        김 씨가 나를 밀어서 빠뜨리려 했어. 몹시 화가 나.   \n",
       "14700           퇴사했으니까 이제 남는 시간에 자기 계발도 좀 하고 취미 생활을 즐겨야지!   \n",
       "\n",
       "                                            sys  mc_enco  sub_enco  \n",
       "88963            은퇴 후에 가족들끼리 시작한 사업의 성공이 기쁘시군요.        0         0  \n",
       "43928                     자식들에게 고마움을 느끼고 계시는군요.        0         0  \n",
       "107781                    앞으로도 좋은 소식만 있으시길 바라요.        0         0  \n",
       "95750          부모님이 더 좋아하시는군요. 그동안 고생한 보람이 있네요.        0         0  \n",
       "5372                     주중에 쉬는 날이 있어서 좋으신가 봐요.        0         0  \n",
       "...                                         ...      ...       ...  \n",
       "32535   눈에는 눈 이에는 이 방식으로 동료에게 복수를 하시려는 것처럼 보여요.        4        57  \n",
       "15314                과장님이 과중한 업무를 주셔서 짜증이 나셨군요.        4        57  \n",
       "37366              악담의 정도가 지나쳐서 더 기분이 안 좋으셨군요.         4        57  \n",
       "9404                          김 씨가 밀어서 화가 나셨군요.        4        57  \n",
       "14700            자기 계발과 취미 생활로 매일 좋은 기분이면 좋겠어요.        4        57  \n",
       "\n",
       "[28130 rows x 4 columns]"
      ]
     },
     "execution_count": 42,
     "metadata": {},
     "output_type": "execute_result"
    }
   ],
   "source": [
    "data_equal"
   ]
  },
  {
   "cell_type": "code",
   "execution_count": 43,
   "metadata": {
    "executionInfo": {
     "elapsed": 4,
     "status": "ok",
     "timestamp": 1653669609109,
     "user": {
      "displayName": "Alex Kim",
      "userId": "14000404201898213847"
     },
     "user_tz": -540
    },
    "id": "dv1cR6uDX5p9"
   },
   "outputs": [],
   "source": [
    "data_equal_uni = pd.concat([data_equal, emo_conv], axis =0).reset_index(drop=True)"
   ]
  },
  {
   "cell_type": "code",
   "execution_count": 45,
   "metadata": {
    "executionInfo": {
     "elapsed": 866,
     "status": "ok",
     "timestamp": 1653669643857,
     "user": {
      "displayName": "Alex Kim",
      "userId": "14000404201898213847"
     },
     "user_tz": -540
    },
    "id": "vRhNFAbrY7q9"
   },
   "outputs": [],
   "source": [
    "#data_equal_uni.to_csv('__file_location__/data_equal_uni.csv', encoding = 'cp949')"
   ]
  }
 ],
 "metadata": {
  "colab": {
   "authorship_tag": "ABX9TyPXfkjPpHa7dvl3MFMdRTbL",
   "collapsed_sections": [],
   "name": "data_preprocess.ipynb",
   "provenance": []
  },
  "kernelspec": {
   "display_name": "Python 3 (ipykernel)",
   "language": "python",
   "name": "python3"
  },
  "language_info": {
   "codemirror_mode": {
    "name": "ipython",
    "version": 3
   },
   "file_extension": ".py",
   "mimetype": "text/x-python",
   "name": "python",
   "nbconvert_exporter": "python",
   "pygments_lexer": "ipython3",
   "version": "3.9.7"
  }
 },
 "nbformat": 4,
 "nbformat_minor": 1
}
