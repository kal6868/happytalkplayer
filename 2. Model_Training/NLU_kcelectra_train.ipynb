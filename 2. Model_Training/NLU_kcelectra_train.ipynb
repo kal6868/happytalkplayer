{
 "cells": [
  {
   "cell_type": "code",
   "execution_count": null,
   "metadata": {
    "colab": {
     "base_uri": "https://localhost:8080/"
    },
    "executionInfo": {
     "elapsed": 16663,
     "status": "ok",
     "timestamp": 1654564891607,
     "user": {
      "displayName": "Alex Kim",
      "userId": "14000404201898213847"
     },
     "user_tz": -540
    },
    "id": "qJG0Xiv4kOcB",
    "outputId": "133c2d44-fe0d-4314-b711-ccc6ba173943"
   },
   "outputs": [
    {
     "name": "stdout",
     "output_type": "stream",
     "text": [
      "Mounted at /content/drive\n"
     ]
    }
   ],
   "source": [
    "from google.colab import drive\n",
    "drive.mount('/content/drive')"
   ]
  },
  {
   "cell_type": "code",
   "execution_count": null,
   "metadata": {
    "colab": {
     "base_uri": "https://localhost:8080/"
    },
    "executionInfo": {
     "elapsed": 10084,
     "status": "ok",
     "timestamp": 1654564904666,
     "user": {
      "displayName": "Alex Kim",
      "userId": "14000404201898213847"
     },
     "user_tz": -540
    },
    "id": "AkfWYjE4kbcw",
    "outputId": "b0911d31-4b35-4e8e-e151-1f23916dc9aa"
   },
   "outputs": [
    {
     "name": "stdout",
     "output_type": "stream",
     "text": [
      "Looking in indexes: https://pypi.org/simple, https://us-python.pkg.dev/colab-wheels/public/simple/\n",
      "Collecting transformers\n",
      "  Downloading transformers-4.19.2-py3-none-any.whl (4.2 MB)\n",
      "\u001b[K     |████████████████████████████████| 4.2 MB 7.3 MB/s \n",
      "\u001b[?25hRequirement already satisfied: regex!=2019.12.17 in /usr/local/lib/python3.7/dist-packages (from transformers) (2019.12.20)\n",
      "Requirement already satisfied: filelock in /usr/local/lib/python3.7/dist-packages (from transformers) (3.7.0)\n",
      "Requirement already satisfied: tqdm>=4.27 in /usr/local/lib/python3.7/dist-packages (from transformers) (4.64.0)\n",
      "Requirement already satisfied: importlib-metadata in /usr/local/lib/python3.7/dist-packages (from transformers) (4.11.4)\n",
      "Requirement already satisfied: requests in /usr/local/lib/python3.7/dist-packages (from transformers) (2.23.0)\n",
      "Requirement already satisfied: packaging>=20.0 in /usr/local/lib/python3.7/dist-packages (from transformers) (21.3)\n",
      "Collecting pyyaml>=5.1\n",
      "  Downloading PyYAML-6.0-cp37-cp37m-manylinux_2_5_x86_64.manylinux1_x86_64.manylinux_2_12_x86_64.manylinux2010_x86_64.whl (596 kB)\n",
      "\u001b[K     |████████████████████████████████| 596 kB 54.9 MB/s \n",
      "\u001b[?25hCollecting huggingface-hub<1.0,>=0.1.0\n",
      "  Downloading huggingface_hub-0.7.0-py3-none-any.whl (86 kB)\n",
      "\u001b[K     |████████████████████████████████| 86 kB 5.7 MB/s \n",
      "\u001b[?25hRequirement already satisfied: numpy>=1.17 in /usr/local/lib/python3.7/dist-packages (from transformers) (1.21.6)\n",
      "Collecting tokenizers!=0.11.3,<0.13,>=0.11.1\n",
      "  Downloading tokenizers-0.12.1-cp37-cp37m-manylinux_2_12_x86_64.manylinux2010_x86_64.whl (6.6 MB)\n",
      "\u001b[K     |████████████████████████████████| 6.6 MB 49.2 MB/s \n",
      "\u001b[?25hRequirement already satisfied: typing-extensions>=3.7.4.3 in /usr/local/lib/python3.7/dist-packages (from huggingface-hub<1.0,>=0.1.0->transformers) (4.2.0)\n",
      "Requirement already satisfied: pyparsing!=3.0.5,>=2.0.2 in /usr/local/lib/python3.7/dist-packages (from packaging>=20.0->transformers) (3.0.9)\n",
      "Requirement already satisfied: zipp>=0.5 in /usr/local/lib/python3.7/dist-packages (from importlib-metadata->transformers) (3.8.0)\n",
      "Requirement already satisfied: urllib3!=1.25.0,!=1.25.1,<1.26,>=1.21.1 in /usr/local/lib/python3.7/dist-packages (from requests->transformers) (1.24.3)\n",
      "Requirement already satisfied: certifi>=2017.4.17 in /usr/local/lib/python3.7/dist-packages (from requests->transformers) (2022.5.18.1)\n",
      "Requirement already satisfied: chardet<4,>=3.0.2 in /usr/local/lib/python3.7/dist-packages (from requests->transformers) (3.0.4)\n",
      "Requirement already satisfied: idna<3,>=2.5 in /usr/local/lib/python3.7/dist-packages (from requests->transformers) (2.10)\n",
      "Installing collected packages: pyyaml, tokenizers, huggingface-hub, transformers\n",
      "  Attempting uninstall: pyyaml\n",
      "    Found existing installation: PyYAML 3.13\n",
      "    Uninstalling PyYAML-3.13:\n",
      "      Successfully uninstalled PyYAML-3.13\n",
      "Successfully installed huggingface-hub-0.7.0 pyyaml-6.0 tokenizers-0.12.1 transformers-4.19.2\n"
     ]
    }
   ],
   "source": [
    "!pip install transformers"
   ]
  },
  {
   "cell_type": "code",
   "execution_count": null,
   "metadata": {
    "id": "LvYAEHRKklVF"
   },
   "outputs": [],
   "source": [
    "import pandas as pd\n",
    "import torch\n",
    "from torch.nn import functional as F\n",
    "from torch.utils.data import DataLoader, Dataset\n",
    "from transformers import AutoTokenizer, AutoModel, AdamW \n",
    "import numpy as np\n",
    "from tqdm.notebook import tqdm\n",
    "from sklearn.model_selection import train_test_split"
   ]
  },
  {
   "cell_type": "code",
   "execution_count": null,
   "metadata": {
    "id": "g6MkIlaRkmM_"
   },
   "outputs": [],
   "source": [
    "device = torch.device(\"cuda\")"
   ]
  },
  {
   "cell_type": "code",
   "execution_count": null,
   "metadata": {
    "id": "Oak-0-iakoGS"
   },
   "outputs": [],
   "source": [
    "train_data = pd.read_csv(\"__file_location__/preprocessed_emo_class.csv\", encoding=\"cp949\")"
   ]
  },
  {
   "cell_type": "code",
   "execution_count": null,
   "metadata": {
    "id": "RZVcoFHdliZ0"
   },
   "outputs": [],
   "source": [
    "X_train, X_test = train_test_split(train_data, test_size = 0.2)"
   ]
  },
  {
   "cell_type": "code",
   "execution_count": null,
   "metadata": {
    "colab": {
     "base_uri": "https://localhost:8080/",
     "height": 424
    },
    "executionInfo": {
     "elapsed": 288,
     "status": "ok",
     "timestamp": 1654566138165,
     "user": {
      "displayName": "Alex Kim",
      "userId": "14000404201898213847"
     },
     "user_tz": -540
    },
    "id": "6R6_9ts504Yw",
    "outputId": "ee2397cd-f9fb-452d-d648-5cb2aff6d842"
   },
   "outputs": [
    {
     "data": {
      "text/html": [
       "\n",
       "  <div id=\"df-bd2af8d3-d292-4cdc-b392-7b8f365c2772\">\n",
       "    <div class=\"colab-df-container\">\n",
       "      <div>\n",
       "<style scoped>\n",
       "    .dataframe tbody tr th:only-of-type {\n",
       "        vertical-align: middle;\n",
       "    }\n",
       "\n",
       "    .dataframe tbody tr th {\n",
       "        vertical-align: top;\n",
       "    }\n",
       "\n",
       "    .dataframe thead th {\n",
       "        text-align: right;\n",
       "    }\n",
       "</style>\n",
       "<table border=\"1\" class=\"dataframe\">\n",
       "  <thead>\n",
       "    <tr style=\"text-align: right;\">\n",
       "      <th></th>\n",
       "      <th>text</th>\n",
       "      <th>label</th>\n",
       "    </tr>\n",
       "  </thead>\n",
       "  <tbody>\n",
       "    <tr>\n",
       "      <th>3562</th>\n",
       "      <td>나 요즘 주식을 시작했어.</td>\n",
       "      <td>2</td>\n",
       "    </tr>\n",
       "    <tr>\n",
       "      <th>547</th>\n",
       "      <td>프로젝트를 진행하느라고 친구들을 못 만났는데, 이번 기회에 만나봐야겠어.</td>\n",
       "      <td>0</td>\n",
       "    </tr>\n",
       "    <tr>\n",
       "      <th>645</th>\n",
       "      <td>나 축하해 달라구.</td>\n",
       "      <td>0</td>\n",
       "    </tr>\n",
       "    <tr>\n",
       "      <th>6466</th>\n",
       "      <td>집에 와서 조금 쉬었더니 마음이 진정되었어.</td>\n",
       "      <td>4</td>\n",
       "    </tr>\n",
       "    <tr>\n",
       "      <th>7248</th>\n",
       "      <td>아직까지는 집 안으로 물이 들어오지 않았어. 내 몸도 아픈데는 없어.</td>\n",
       "      <td>5</td>\n",
       "    </tr>\n",
       "    <tr>\n",
       "      <th>...</th>\n",
       "      <td>...</td>\n",
       "      <td>...</td>\n",
       "    </tr>\n",
       "    <tr>\n",
       "      <th>1166</th>\n",
       "      <td>내가 너무나 좋아하는 인플루언서가 진행하는 이벤트가 있었는데 거기에 당첨되었어.</td>\n",
       "      <td>0</td>\n",
       "    </tr>\n",
       "    <tr>\n",
       "      <th>3145</th>\n",
       "      <td>어. 집에만 있으니까 우울한 거 같애.</td>\n",
       "      <td>2</td>\n",
       "    </tr>\n",
       "    <tr>\n",
       "      <th>6334</th>\n",
       "      <td>산책하다가 목줄이 끊어졌다니까?</td>\n",
       "      <td>4</td>\n",
       "    </tr>\n",
       "    <tr>\n",
       "      <th>5009</th>\n",
       "      <td>그래야 할 것 같아. 냄새가 너무 독해. 냄새를 맡을 수가 없어. 청소도 더 해야될...</td>\n",
       "      <td>3</td>\n",
       "    </tr>\n",
       "    <tr>\n",
       "      <th>138</th>\n",
       "      <td>그래. 나중에 시간 되면 보여줄게.</td>\n",
       "      <td>0</td>\n",
       "    </tr>\n",
       "  </tbody>\n",
       "</table>\n",
       "<p>1678 rows × 2 columns</p>\n",
       "</div>\n",
       "      <button class=\"colab-df-convert\" onclick=\"convertToInteractive('df-bd2af8d3-d292-4cdc-b392-7b8f365c2772')\"\n",
       "              title=\"Convert this dataframe to an interactive table.\"\n",
       "              style=\"display:none;\">\n",
       "        \n",
       "  <svg xmlns=\"http://www.w3.org/2000/svg\" height=\"24px\"viewBox=\"0 0 24 24\"\n",
       "       width=\"24px\">\n",
       "    <path d=\"M0 0h24v24H0V0z\" fill=\"none\"/>\n",
       "    <path d=\"M18.56 5.44l.94 2.06.94-2.06 2.06-.94-2.06-.94-.94-2.06-.94 2.06-2.06.94zm-11 1L8.5 8.5l.94-2.06 2.06-.94-2.06-.94L8.5 2.5l-.94 2.06-2.06.94zm10 10l.94 2.06.94-2.06 2.06-.94-2.06-.94-.94-2.06-.94 2.06-2.06.94z\"/><path d=\"M17.41 7.96l-1.37-1.37c-.4-.4-.92-.59-1.43-.59-.52 0-1.04.2-1.43.59L10.3 9.45l-7.72 7.72c-.78.78-.78 2.05 0 2.83L4 21.41c.39.39.9.59 1.41.59.51 0 1.02-.2 1.41-.59l7.78-7.78 2.81-2.81c.8-.78.8-2.07 0-2.86zM5.41 20L4 18.59l7.72-7.72 1.47 1.35L5.41 20z\"/>\n",
       "  </svg>\n",
       "      </button>\n",
       "      \n",
       "  <style>\n",
       "    .colab-df-container {\n",
       "      display:flex;\n",
       "      flex-wrap:wrap;\n",
       "      gap: 12px;\n",
       "    }\n",
       "\n",
       "    .colab-df-convert {\n",
       "      background-color: #E8F0FE;\n",
       "      border: none;\n",
       "      border-radius: 50%;\n",
       "      cursor: pointer;\n",
       "      display: none;\n",
       "      fill: #1967D2;\n",
       "      height: 32px;\n",
       "      padding: 0 0 0 0;\n",
       "      width: 32px;\n",
       "    }\n",
       "\n",
       "    .colab-df-convert:hover {\n",
       "      background-color: #E2EBFA;\n",
       "      box-shadow: 0px 1px 2px rgba(60, 64, 67, 0.3), 0px 1px 3px 1px rgba(60, 64, 67, 0.15);\n",
       "      fill: #174EA6;\n",
       "    }\n",
       "\n",
       "    [theme=dark] .colab-df-convert {\n",
       "      background-color: #3B4455;\n",
       "      fill: #D2E3FC;\n",
       "    }\n",
       "\n",
       "    [theme=dark] .colab-df-convert:hover {\n",
       "      background-color: #434B5C;\n",
       "      box-shadow: 0px 1px 3px 1px rgba(0, 0, 0, 0.15);\n",
       "      filter: drop-shadow(0px 1px 2px rgba(0, 0, 0, 0.3));\n",
       "      fill: #FFFFFF;\n",
       "    }\n",
       "  </style>\n",
       "\n",
       "      <script>\n",
       "        const buttonEl =\n",
       "          document.querySelector('#df-bd2af8d3-d292-4cdc-b392-7b8f365c2772 button.colab-df-convert');\n",
       "        buttonEl.style.display =\n",
       "          google.colab.kernel.accessAllowed ? 'block' : 'none';\n",
       "\n",
       "        async function convertToInteractive(key) {\n",
       "          const element = document.querySelector('#df-bd2af8d3-d292-4cdc-b392-7b8f365c2772');\n",
       "          const dataTable =\n",
       "            await google.colab.kernel.invokeFunction('convertToInteractive',\n",
       "                                                     [key], {});\n",
       "          if (!dataTable) return;\n",
       "\n",
       "          const docLinkHtml = 'Like what you see? Visit the ' +\n",
       "            '<a target=\"_blank\" href=https://colab.research.google.com/notebooks/data_table.ipynb>data table notebook</a>'\n",
       "            + ' to learn more about interactive tables.';\n",
       "          element.innerHTML = '';\n",
       "          dataTable['output_type'] = 'display_data';\n",
       "          await google.colab.output.renderOutput(dataTable, element);\n",
       "          const docLink = document.createElement('div');\n",
       "          docLink.innerHTML = docLinkHtml;\n",
       "          element.appendChild(docLink);\n",
       "        }\n",
       "      </script>\n",
       "    </div>\n",
       "  </div>\n",
       "  "
      ],
      "text/plain": [
       "                                                   text  label\n",
       "3562                                     나 요즘 주식을 시작했어.      2\n",
       "547            프로젝트를 진행하느라고 친구들을 못 만났는데, 이번 기회에 만나봐야겠어.      0\n",
       "645                                          나 축하해 달라구.      0\n",
       "6466                           집에 와서 조금 쉬었더니 마음이 진정되었어.      4\n",
       "7248             아직까지는 집 안으로 물이 들어오지 않았어. 내 몸도 아픈데는 없어.      5\n",
       "...                                                 ...    ...\n",
       "1166       내가 너무나 좋아하는 인플루언서가 진행하는 이벤트가 있었는데 거기에 당첨되었어.      0\n",
       "3145                              어. 집에만 있으니까 우울한 거 같애.      2\n",
       "6334                                  산책하다가 목줄이 끊어졌다니까?      4\n",
       "5009  그래야 할 것 같아. 냄새가 너무 독해. 냄새를 맡을 수가 없어. 청소도 더 해야될...      3\n",
       "138                                 그래. 나중에 시간 되면 보여줄게.      0\n",
       "\n",
       "[1678 rows x 2 columns]"
      ]
     },
     "execution_count": 30,
     "metadata": {},
     "output_type": "execute_result"
    }
   ],
   "source": [
    "X_test"
   ]
  },
  {
   "cell_type": "code",
   "execution_count": null,
   "metadata": {
    "colab": {
     "base_uri": "https://localhost:8080/"
    },
    "executionInfo": {
     "elapsed": 261,
     "status": "ok",
     "timestamp": 1654566144467,
     "user": {
      "displayName": "Alex Kim",
      "userId": "14000404201898213847"
     },
     "user_tz": -540
    },
    "id": "4vgKcIiAyj_n",
    "outputId": "6f22d95c-b1a8-4c74-b53e-81621d5c7560"
   },
   "outputs": [
    {
     "data": {
      "text/plain": [
       "6708"
      ]
     },
     "execution_count": 31,
     "metadata": {},
     "output_type": "execute_result"
    }
   ],
   "source": [
    "len(X_train)"
   ]
  },
  {
   "cell_type": "code",
   "execution_count": null,
   "metadata": {
    "id": "XF1NBwS_lk2R"
   },
   "outputs": [],
   "source": [
    "train_dataset = []\n",
    "for sen, label in zip(X_train['text'], X_train['label']):\n",
    "  data_train = []\n",
    "  data_train.append(sen)\n",
    "  data_train.append(str(label))\n",
    "\n",
    "  train_dataset.append(data_train)"
   ]
  },
  {
   "cell_type": "code",
   "execution_count": null,
   "metadata": {
    "colab": {
     "base_uri": "https://localhost:8080/"
    },
    "executionInfo": {
     "elapsed": 280,
     "status": "ok",
     "timestamp": 1654566155365,
     "user": {
      "displayName": "Alex Kim",
      "userId": "14000404201898213847"
     },
     "user_tz": -540
    },
    "id": "w9rvTsWG0-YQ",
    "outputId": "154cd5bf-dfba-4d27-ad57-6860aa6cfacc"
   },
   "outputs": [
    {
     "data": {
      "text/plain": [
       "[['휴가 첫 날 부터 엄청 비가 오기 시작했어.', '1'],\n",
       " ['아. 어 집에 방향제 없는데 그것도 같이 사와야겠다.', '3'],\n",
       " ['맞아. 성격이 별로 안 좋아.', '1'],\n",
       " ['노력해서 받은 결과라 기분이 좋아.', '0'],\n",
       " ['스트레스를 확 날려버릴 음악으로 좀 부탁해.', '1']]"
      ]
     },
     "execution_count": 33,
     "metadata": {},
     "output_type": "execute_result"
    }
   ],
   "source": [
    "train_dataset[:5]"
   ]
  },
  {
   "cell_type": "code",
   "execution_count": null,
   "metadata": {
    "colab": {
     "base_uri": "https://localhost:8080/"
    },
    "executionInfo": {
     "elapsed": 5,
     "status": "ok",
     "timestamp": 1654565020899,
     "user": {
      "displayName": "Alex Kim",
      "userId": "14000404201898213847"
     },
     "user_tz": -540
    },
    "id": "CobmhSaHlmnM",
    "outputId": "572b0acf-278a-4226-99c3-1b6cdf6ceb13"
   },
   "outputs": [
    {
     "name": "stdout",
     "output_type": "stream",
     "text": [
      "6708\n",
      "1678\n"
     ]
    }
   ],
   "source": [
    "print(len(X_train))\n",
    "print(len(X_test))"
   ]
  },
  {
   "cell_type": "code",
   "execution_count": null,
   "metadata": {
    "colab": {
     "base_uri": "https://localhost:8080/"
    },
    "executionInfo": {
     "elapsed": 271,
     "status": "ok",
     "timestamp": 1654565546236,
     "user": {
      "displayName": "Alex Kim",
      "userId": "14000404201898213847"
     },
     "user_tz": -540
    },
    "id": "kx6w5hXSAAWw",
    "outputId": "6c3a6ee3-3cf4-4d35-c510-79d9a56356eb"
   },
   "outputs": [
    {
     "data": {
      "text/plain": [
       "array(['그래 그것도 좋은 방법인 것 같아.',\n",
       "       '그래야지. 친구들이랑 이제 맛있는 음식도 많이 먹고 재미난 것도 많이 하려구.', '나 드디어 프로젝트 끝났어!',\n",
       "       ..., '몸은 괜찮은데 언제 나갈 수 있을지 모르겠어.', '나 엘리베이터에 갇혔어.',\n",
       "       '자취방 엘리베이턴데 정전인가봐.'], dtype=object)"
      ]
     },
     "execution_count": 27,
     "metadata": {},
     "output_type": "execute_result"
    }
   ],
   "source": [
    "train_data['text'].values"
   ]
  },
  {
   "cell_type": "code",
   "execution_count": null,
   "metadata": {
    "colab": {
     "base_uri": "https://localhost:8080/",
     "height": 35
    },
    "executionInfo": {
     "elapsed": 12,
     "status": "ok",
     "timestamp": 1652767576339,
     "user": {
      "displayName": "Alex Kim",
      "userId": "14000404201898213847"
     },
     "user_tz": -540
    },
    "id": "4WOS7GBEMwsv",
    "outputId": "e713b437-e41b-4384-c8a4-7d0c478bb7b3"
   },
   "outputs": [
    {
     "data": {
      "application/vnd.google.colaboratory.intrinsic+json": {
       "type": "string"
      },
      "text/plain": [
       "'그래 그것도 좋은 방법인 것 같아.'"
      ]
     },
     "execution_count": 11,
     "metadata": {},
     "output_type": "execute_result"
    }
   ],
   "source": [
    "str(train_data.values[0][0])"
   ]
  },
  {
   "cell_type": "code",
   "execution_count": null,
   "metadata": {
    "id": "_5Gy_D2OlnkC"
   },
   "outputs": [],
   "source": [
    "class TrainDataset(Dataset):\n",
    "  \n",
    "  def __init__(self, dataset):\n",
    "    self.tokenizer = AutoTokenizer.from_pretrained(\"beomi/KcELECTRA-base\")\n",
    "\n",
    "    self.sentences = [str([i[0]]) for i in dataset]\n",
    "    self.labels = [np.int32(i[1]) for i in dataset]\n",
    "\n",
    "  def __len__(self):\n",
    "    return (len(self.labels))\n",
    "  \n",
    "  def __getitem__(self, i):\n",
    "    text = self.sentences[i]\n",
    "    y = self.labels[i]\n",
    "\n",
    "    inputs = self.tokenizer(\n",
    "        text, \n",
    "        return_tensors='pt',\n",
    "        truncation=True,\n",
    "        max_length=64,\n",
    "        pad_to_max_length=True,\n",
    "        add_special_tokens=True\n",
    "        )\n",
    "    \n",
    "    input_ids = inputs['input_ids'][0]\n",
    "    attention_mask = inputs['attention_mask'][0]\n",
    "\n",
    "    return input_ids, attention_mask, y"
   ]
  },
  {
   "cell_type": "code",
   "execution_count": null,
   "metadata": {
    "id": "_wakwQChlpEr"
   },
   "outputs": [],
   "source": [
    "train_dataset = TrainDataset(train_dataset)"
   ]
  },
  {
   "cell_type": "code",
   "execution_count": null,
   "metadata": {
    "colab": {
     "base_uri": "https://localhost:8080/"
    },
    "executionInfo": {
     "elapsed": 280,
     "status": "ok",
     "timestamp": 1654566206794,
     "user": {
      "displayName": "Alex Kim",
      "userId": "14000404201898213847"
     },
     "user_tz": -540
    },
    "id": "76ukIvKmK1t7",
    "outputId": "962fed41-ffde-4f28-fe7b-f11eb401c4ce"
   },
   "outputs": [
    {
     "name": "stderr",
     "output_type": "stream",
     "text": [
      "/usr/local/lib/python3.7/dist-packages/transformers/tokenization_utils_base.py:2291: FutureWarning: The `pad_to_max_length` argument is deprecated and will be removed in a future version, use `padding=True` or `padding='longest'` to pad to the longest sequence in the batch, or use `padding='max_length'` to pad to a max length. In this case, you can give a specific length with `max_length` (e.g. `max_length=45`) or leave max_length to None to pad to the maximal input size of the model (e.g. 512 for Bert).\n",
      "  FutureWarning,\n"
     ]
    },
    {
     "data": {
      "text/plain": [
       "(tensor([    2,    61,    11, 10648,  3222,   599,  9262,  8516,  1838,  4050,\n",
       "          2571,  4036,  8438, 11357,    18,    11,    63,     3,     0,     0,\n",
       "             0,     0,     0,     0,     0,     0,     0,     0,     0,     0,\n",
       "             0,     0,     0,     0,     0,     0,     0,     0,     0,     0,\n",
       "             0,     0,     0,     0,     0,     0,     0,     0,     0,     0,\n",
       "             0,     0,     0,     0,     0,     0,     0,     0,     0,     0,\n",
       "             0,     0,     0,     0]),\n",
       " tensor([1, 1, 1, 1, 1, 1, 1, 1, 1, 1, 1, 1, 1, 1, 1, 1, 1, 1, 0, 0, 0, 0, 0, 0,\n",
       "         0, 0, 0, 0, 0, 0, 0, 0, 0, 0, 0, 0, 0, 0, 0, 0, 0, 0, 0, 0, 0, 0, 0, 0,\n",
       "         0, 0, 0, 0, 0, 0, 0, 0, 0, 0, 0, 0, 0, 0, 0, 0]),\n",
       " 1)"
      ]
     },
     "execution_count": 37,
     "metadata": {},
     "output_type": "execute_result"
    }
   ],
   "source": [
    "train_dataset[0]"
   ]
  },
  {
   "cell_type": "code",
   "execution_count": null,
   "metadata": {
    "id": "nH0rORLeLIoB"
   },
   "outputs": [],
   "source": [
    "tok = AutoTokenizer.from_pretrained(\"beomi/KcELECTRA-base\")"
   ]
  },
  {
   "cell_type": "code",
   "execution_count": null,
   "metadata": {
    "colab": {
     "base_uri": "https://localhost:8080/",
     "height": 110
    },
    "executionInfo": {
     "elapsed": 291,
     "status": "ok",
     "timestamp": 1654566219164,
     "user": {
      "displayName": "Alex Kim",
      "userId": "14000404201898213847"
     },
     "user_tz": -540
    },
    "id": "U2CRHe2tLESj",
    "outputId": "49ecf6c5-767d-4e2d-d951-bd154aeec2b0"
   },
   "outputs": [
    {
     "name": "stderr",
     "output_type": "stream",
     "text": [
      "/usr/local/lib/python3.7/dist-packages/transformers/tokenization_utils_base.py:2291: FutureWarning: The `pad_to_max_length` argument is deprecated and will be removed in a future version, use `padding=True` or `padding='longest'` to pad to the longest sequence in the batch, or use `padding='max_length'` to pad to a max length. In this case, you can give a specific length with `max_length` (e.g. `max_length=45`) or leave max_length to None to pad to the maximal input size of the model (e.g. 512 for Bert).\n",
      "  FutureWarning,\n"
     ]
    },
    {
     "data": {
      "application/vnd.google.colaboratory.intrinsic+json": {
       "type": "string"
      },
      "text/plain": [
       "\"[CLS] ['휴가 첫 날 부터 엄청 비가 오기 시작했어.'] [SEP] [PAD] [PAD] [PAD] [PAD] [PAD] [PAD] [PAD] [PAD] [PAD] [PAD] [PAD] [PAD] [PAD] [PAD] [PAD] [PAD] [PAD] [PAD] [PAD] [PAD] [PAD] [PAD] [PAD] [PAD] [PAD] [PAD] [PAD] [PAD] [PAD] [PAD] [PAD] [PAD] [PAD] [PAD] [PAD] [PAD] [PAD] [PAD] [PAD] [PAD] [PAD] [PAD] [PAD] [PAD] [PAD] [PAD]\""
      ]
     },
     "execution_count": 39,
     "metadata": {},
     "output_type": "execute_result"
    }
   ],
   "source": [
    "tok.decode(train_dataset[0][0])"
   ]
  },
  {
   "cell_type": "code",
   "execution_count": null,
   "metadata": {
    "colab": {
     "base_uri": "https://localhost:8080/",
     "height": 123,
     "referenced_widgets": [
      "e214c800e55440e3940ac248e2852aa6",
      "dd4d53955a58464aa9ace97a3c82fab7",
      "6c554f676c934ee48fc9e8229af8da11",
      "3dba7e21cb0041519df29f9d28929be0",
      "7ed3805c9140470a813633f4cf18069b",
      "2ce71ef7785b4d20b6de4915a142f6e3",
      "f2f08b7401f7418e8e3297abd0dc3ee1",
      "f920f15c3fde49be857b459444ac8f58",
      "5db4357708ca43c19b870a8a4b72c3d0",
      "983d260252fc44378b97cd41d698186a",
      "ceea53acd8344adb867adfab6b8ebfac"
     ]
    },
    "executionInfo": {
     "elapsed": 26158,
     "status": "ok",
     "timestamp": 1654566262666,
     "user": {
      "displayName": "Alex Kim",
      "userId": "14000404201898213847"
     },
     "user_tz": -540
    },
    "id": "PlMhRuHtlsVy",
    "outputId": "8c3706a9-5e36-4cd4-f63f-2be0d6104bf9"
   },
   "outputs": [
    {
     "data": {
      "application/vnd.jupyter.widget-view+json": {
       "model_id": "e214c800e55440e3940ac248e2852aa6",
       "version_major": 2,
       "version_minor": 0
      },
      "text/plain": [
       "Downloading:   0%|          | 0.00/475M [00:00<?, ?B/s]"
      ]
     },
     "metadata": {},
     "output_type": "display_data"
    },
    {
     "name": "stderr",
     "output_type": "stream",
     "text": [
      "Some weights of the model checkpoint at beomi/KcELECTRA-base were not used when initializing ElectraModel: ['discriminator_predictions.dense.bias', 'discriminator_predictions.dense_prediction.weight', 'discriminator_predictions.dense_prediction.bias', 'discriminator_predictions.dense.weight']\n",
      "- This IS expected if you are initializing ElectraModel from the checkpoint of a model trained on another task or with another architecture (e.g. initializing a BertForSequenceClassification model from a BertForPreTraining model).\n",
      "- This IS NOT expected if you are initializing ElectraModel from the checkpoint of a model that you expect to be exactly identical (initializing a BertForSequenceClassification model from a BertForSequenceClassification model).\n"
     ]
    }
   ],
   "source": [
    "from torch import nn\n",
    "\n",
    "model = AutoModel.from_pretrained(\"beomi/KcELECTRA-base\", num_labels=6)\n",
    "# model.classifier = torch.nn.Sequential(\n",
    "#                                         nn.Linear(768, 768, bias=True),\n",
    "#                                         nn.Dropout(p=0.1, inplace=False),\n",
    "model = model.to(device)"
   ]
  },
  {
   "cell_type": "code",
   "execution_count": null,
   "metadata": {
    "id": "8fSkHCo5lvoE"
   },
   "outputs": [],
   "source": [
    "batch_size = 64\n",
    "epochs = 5"
   ]
  },
  {
   "cell_type": "code",
   "execution_count": null,
   "metadata": {
    "colab": {
     "base_uri": "https://localhost:8080/"
    },
    "executionInfo": {
     "elapsed": 283,
     "status": "ok",
     "timestamp": 1654566266899,
     "user": {
      "displayName": "Alex Kim",
      "userId": "14000404201898213847"
     },
     "user_tz": -540
    },
    "id": "_qTh2O16mj9v",
    "outputId": "e9935022-e496-46e5-f602-629146a32ad3"
   },
   "outputs": [
    {
     "name": "stderr",
     "output_type": "stream",
     "text": [
      "/usr/local/lib/python3.7/dist-packages/transformers/optimization.py:309: FutureWarning: This implementation of AdamW is deprecated and will be removed in a future version. Use the PyTorch implementation torch.optim.AdamW instead, or set `no_deprecation_warning=True` to disable this warning\n",
      "  FutureWarning,\n"
     ]
    }
   ],
   "source": [
    "optimizer = AdamW(model.parameters(), lr=3e-5)\n",
    "train_dataloader = torch.utils.data.DataLoader(train_dataset, batch_size=batch_size, shuffle=True)"
   ]
  },
  {
   "cell_type": "code",
   "execution_count": null,
   "metadata": {
    "colab": {
     "base_uri": "https://localhost:8080/"
    },
    "executionInfo": {
     "elapsed": 4,
     "status": "ok",
     "timestamp": 1654566268316,
     "user": {
      "displayName": "Alex Kim",
      "userId": "14000404201898213847"
     },
     "user_tz": -540
    },
    "id": "wcUNBJpsmZM3",
    "outputId": "5f53fd14-1f98-4444-bb93-8aa0a052ae79"
   },
   "outputs": [
    {
     "name": "stderr",
     "output_type": "stream",
     "text": [
      "/usr/local/lib/python3.7/dist-packages/transformers/tokenization_utils_base.py:2291: FutureWarning: The `pad_to_max_length` argument is deprecated and will be removed in a future version, use `padding=True` or `padding='longest'` to pad to the longest sequence in the batch, or use `padding='max_length'` to pad to a max length. In this case, you can give a specific length with `max_length` (e.g. `max_length=45`) or leave max_length to None to pad to the maximal input size of the model (e.g. 512 for Bert).\n",
      "  FutureWarning,\n"
     ]
    }
   ],
   "source": [
    "input_ids_batch, attention_masks_batch, y_batch = iter(train_dataloader).next()"
   ]
  },
  {
   "cell_type": "code",
   "execution_count": null,
   "metadata": {
    "colab": {
     "base_uri": "https://localhost:8080/"
    },
    "executionInfo": {
     "elapsed": 3,
     "status": "ok",
     "timestamp": 1654566269585,
     "user": {
      "displayName": "Alex Kim",
      "userId": "14000404201898213847"
     },
     "user_tz": -540
    },
    "id": "Vfx2EN7xmmSX",
    "outputId": "b2709426-156d-410a-d4a1-f43a1f295f6e"
   },
   "outputs": [
    {
     "name": "stdout",
     "output_type": "stream",
     "text": [
      "tensor([    2,    61,    11,  8523, 12466,  4006,    18,  2434, 19266,  4033,\n",
      "        13235,  4422,    18,    11,    63,     3,     0,     0,     0,     0,\n",
      "            0,     0,     0,     0,     0,     0,     0,     0,     0,     0,\n",
      "            0,     0,     0,     0,     0,     0,     0,     0,     0,     0,\n",
      "            0,     0,     0,     0,     0,     0,     0,     0,     0,     0,\n",
      "            0,     0,     0,     0,     0,     0,     0,     0,     0,     0,\n",
      "            0,     0,     0,     0])\n",
      "tensor([[1, 1, 1,  ..., 0, 0, 0],\n",
      "        [1, 1, 1,  ..., 0, 0, 0],\n",
      "        [1, 1, 1,  ..., 0, 0, 0],\n",
      "        ...,\n",
      "        [1, 1, 1,  ..., 0, 0, 0],\n",
      "        [1, 1, 1,  ..., 0, 0, 0],\n",
      "        [1, 1, 1,  ..., 0, 0, 0]])\n",
      "tensor([4, 3, 0, 0, 5, 1, 3, 2, 2, 2, 2, 2, 5, 2, 2, 4, 0, 1, 5, 1, 1, 0, 4, 3,\n",
      "        4, 0, 0, 0, 5, 4, 3, 3, 0, 3, 1, 0, 4, 3, 5, 4, 0, 4, 5, 3, 2, 3, 2, 5,\n",
      "        3, 2, 4, 1, 1, 3, 0, 0, 3, 1, 3, 3, 3, 2, 4, 3], dtype=torch.int32)\n"
     ]
    }
   ],
   "source": [
    "print(input_ids_batch[1])\n",
    "print(attention_masks_batch)\n",
    "print(y_batch)"
   ]
  },
  {
   "cell_type": "code",
   "execution_count": null,
   "metadata": {
    "id": "5LJTyinLI97Z"
   },
   "outputs": [],
   "source": [
    "tok = AutoTokenizer.from_pretrained(\"beomi/KcELECTRA-base\")"
   ]
  },
  {
   "cell_type": "code",
   "execution_count": null,
   "metadata": {
    "colab": {
     "base_uri": "https://localhost:8080/"
    },
    "executionInfo": {
     "elapsed": 259,
     "status": "ok",
     "timestamp": 1654566276483,
     "user": {
      "displayName": "Alex Kim",
      "userId": "14000404201898213847"
     },
     "user_tz": -540
    },
    "id": "IrACswzNJ79O",
    "outputId": "7e841830-88af-441a-fd46-e2ba9f867faf"
   },
   "outputs": [
    {
     "data": {
      "text/plain": [
       "tensor([    2,    61,    11,  7983, 13509, 31436, 28977,  8179,  8155,  8516,\n",
       "          702,  4679,  4006,    18,    11,    63,     3,     0,     0,     0,\n",
       "            0,     0,     0,     0,     0,     0,     0,     0,     0,     0,\n",
       "            0,     0,     0,     0,     0,     0,     0,     0,     0,     0,\n",
       "            0,     0,     0,     0,     0,     0,     0,     0,     0,     0,\n",
       "            0,     0,     0,     0,     0,     0,     0,     0,     0,     0,\n",
       "            0,     0,     0,     0])"
      ]
     },
     "execution_count": 46,
     "metadata": {},
     "output_type": "execute_result"
    }
   ],
   "source": [
    "input_ids_batch[0]"
   ]
  },
  {
   "cell_type": "code",
   "execution_count": null,
   "metadata": {
    "colab": {
     "base_uri": "https://localhost:8080/",
     "height": 54
    },
    "executionInfo": {
     "elapsed": 6,
     "status": "ok",
     "timestamp": 1654566277910,
     "user": {
      "displayName": "Alex Kim",
      "userId": "14000404201898213847"
     },
     "user_tz": -540
    },
    "id": "9vpO44n_I0gM",
    "outputId": "12758f8c-f8a0-4e84-9ace-605bd8b250af"
   },
   "outputs": [
    {
     "data": {
      "application/vnd.google.colaboratory.intrinsic+json": {
       "type": "string"
      },
      "text/plain": [
       "\"[CLS] ['아니 아까 해피 산책시키다가 엄청 놀랬어.'] [SEP] [PAD] [PAD] [PAD] [PAD] [PAD] [PAD] [PAD] [PAD] [PAD] [PAD] [PAD] [PAD] [PAD] [PAD] [PAD] [PAD] [PAD] [PAD] [PAD] [PAD] [PAD] [PAD] [PAD] [PAD] [PAD] [PAD] [PAD] [PAD] [PAD] [PAD] [PAD] [PAD] [PAD] [PAD] [PAD] [PAD] [PAD] [PAD] [PAD] [PAD] [PAD] [PAD] [PAD] [PAD] [PAD] [PAD] [PAD]\""
      ]
     },
     "execution_count": 47,
     "metadata": {},
     "output_type": "execute_result"
    }
   ],
   "source": [
    "tok.decode(input_ids_batch[0])"
   ]
  },
  {
   "cell_type": "code",
   "execution_count": null,
   "metadata": {
    "colab": {
     "base_uri": "https://localhost:8080/"
    },
    "executionInfo": {
     "elapsed": 261,
     "status": "ok",
     "timestamp": 1654566289413,
     "user": {
      "displayName": "Alex Kim",
      "userId": "14000404201898213847"
     },
     "user_tz": -540
    },
    "id": "nht1jlhbmsEu",
    "outputId": "5e9dfd7d-bb21-48dd-c330-b9b61d9e2262"
   },
   "outputs": [
    {
     "name": "stdout",
     "output_type": "stream",
     "text": [
      "torch.Size([64, 64])\n",
      "torch.Size([64, 64])\n",
      "torch.Size([64])\n"
     ]
    }
   ],
   "source": [
    "print(input_ids_batch.shape)\n",
    "print(attention_masks_batch.shape)\n",
    "print(y_batch.shape)"
   ]
  },
  {
   "cell_type": "code",
   "execution_count": null,
   "metadata": {
    "colab": {
     "base_uri": "https://localhost:8080/"
    },
    "executionInfo": {
     "elapsed": 268,
     "status": "ok",
     "timestamp": 1654566291285,
     "user": {
      "displayName": "Alex Kim",
      "userId": "14000404201898213847"
     },
     "user_tz": -540
    },
    "id": "GBLg6LoOl1ma",
    "outputId": "ef4d5125-94e3-4467-8855-38600e827a3c"
   },
   "outputs": [
    {
     "data": {
      "text/plain": [
       "torch.Size([64, 768])"
      ]
     },
     "execution_count": 49,
     "metadata": {},
     "output_type": "execute_result"
    }
   ],
   "source": [
    "model(input_ids_batch.to(device), attention_mask=attention_masks_batch.to(device))[0][:,-1,:].shape"
   ]
  },
  {
   "cell_type": "code",
   "execution_count": null,
   "metadata": {
    "id": "AAuNtrfInB8k"
   },
   "outputs": [],
   "source": [
    "test1 = np.array([[[0,1,2],[3,4,5],[6,7,8]],\n",
    "                  [[9,10,11],[12,13,14],[15,16,17]],\n",
    "                  [[18,19,20],[21,22,23],[24,25,26]]])"
   ]
  },
  {
   "cell_type": "code",
   "execution_count": null,
   "metadata": {
    "colab": {
     "base_uri": "https://localhost:8080/"
    },
    "executionInfo": {
     "elapsed": 281,
     "status": "ok",
     "timestamp": 1654566294331,
     "user": {
      "displayName": "Alex Kim",
      "userId": "14000404201898213847"
     },
     "user_tz": -540
    },
    "id": "JWJnKqXJoaT9",
    "outputId": "824e5aad-59dc-4a9a-8427-156589dd2684"
   },
   "outputs": [
    {
     "data": {
      "text/plain": [
       "array([ 8, 17, 26])"
      ]
     },
     "execution_count": 51,
     "metadata": {},
     "output_type": "execute_result"
    }
   ],
   "source": [
    "test1[:,-1,-1]"
   ]
  },
  {
   "cell_type": "code",
   "execution_count": null,
   "metadata": {
    "colab": {
     "base_uri": "https://localhost:8080/",
     "height": 506,
     "referenced_widgets": [
      "b4d4b8a2dcf244e9bca641e65a8abdba",
      "405f547f915849c6908341314053b5cc",
      "ebdd35dd04eb4f64976aced04340e55c",
      "f8cd34c55649495db86f40f04aa6da2f",
      "e717bdcba1a14d5b8b5d0b6ff729179b",
      "2b639edc0a2c46adb7861ef592a91084",
      "91639c5c59f945f0bcd0a070aa1b5782",
      "f667676b62f049c4a9d5339c17965035",
      "a5103d6b77f046399d24cadc3d123817",
      "7e47732826534d499564826ba08d517b",
      "76d48dfee87547baaf5bc2745bb18524",
      "5b314386a7be47799408fcb54f52ba37",
      "92fce6c70d3f4934a266ca3a1ec471c2",
      "fb33180dea624777b6745498bf8fcc4a",
      "46a0b26e0ec0453089eceb07b6fc45ea",
      "8d2dfaea6236498fabcab5cd64401d9b",
      "c1e1274d8da84c22995e3eda5f399f97",
      "4aae25b11d2c4a2296c9e064fda62489",
      "53687a88d8fd482eae9a917da3b96cca",
      "3cbac19b34a4482b96e1b1252a2dd373",
      "2e7dc483f4f64417b0c7918ce410c835",
      "fdc41203415945398aed1dc2990a0660",
      "884d3d3f658c40859c499c188aea9f1f",
      "9550326d5b8f4aa3929fb12d0af7799c",
      "b99d99b82d5549e2a0f4aac6206bcc8f",
      "15dcc8a709ee4d518a3051f19d22ff34",
      "7555055221a14bd88129c6cc85e76d68",
      "0a800c5a461d45c1bbb438e9c4785a01",
      "d63c6e613a7e46d9b7c37a4ca001f51b",
      "5ecd04f9b6304e739b7aa4265ee3a87d",
      "3a4a635bd24c4466be63e755ed3a0fd6",
      "19a78f10700e45a7932f793261d7cffa",
      "c3898cb6748d47578942e4a97b81dddb",
      "c1548a9c24c34ec591c3e82b843bb56c",
      "1c6a6d78c42d4565a9eba6e993d2cd09",
      "c7011b050e07403383f4a26cd46baa2b",
      "fe4675de96c541d5900d61dc3af034dc",
      "dfbc025d4a3e41e09c3e1f72c599b8cd",
      "d6c5c38a67ed48caa4d3397ccc898b8d",
      "76b5b6e3ef334bc7b8d1fb01d4979e9d",
      "40daf8c074504c01852fd0a659d22167",
      "17f6c19f24d9451db5051c666475e098",
      "a43a4b44def34678941b74b4f30bf000",
      "7f88388d9c2641a78d687f29de4be7da",
      "b62e98f35c774f77bbe6f4a1deac941d",
      "9e17ee5732f84f5e8b573c19276e4709",
      "9a304680d3cf449aaa88dfbccebb6939",
      "9a531864582c4c1e8622f8990950626f",
      "275b68cca3824e7fb153cdea80b49fd3",
      "a2691fdbfe0c49209b16293921d04d2d",
      "b262017b6fcb48f08025d94d8e819669",
      "6985402a5b6d45fea35af949b42d9adb",
      "82817bbc1e1549088a5c9bbcdea8594d",
      "0d893442558b4110be13eccce90b3c3d",
      "28a7f85d0c1d4f6a94d3a590ec156580"
     ]
    },
    "executionInfo": {
     "elapsed": 198282,
     "status": "ok",
     "timestamp": 1654566495639,
     "user": {
      "displayName": "Alex Kim",
      "userId": "14000404201898213847"
     },
     "user_tz": -540
    },
    "id": "8J-svsCBobJN",
    "outputId": "1ffd2b8f-8b22-4fb2-ac9e-82d7ab5cfbf4"
   },
   "outputs": [
    {
     "data": {
      "application/vnd.jupyter.widget-view+json": {
       "model_id": "b4d4b8a2dcf244e9bca641e65a8abdba",
       "version_major": 2,
       "version_minor": 0
      },
      "text/plain": [
       "  0%|          | 0/105 [00:00<?, ?it/s]"
      ]
     },
     "metadata": {},
     "output_type": "display_data"
    },
    {
     "name": "stderr",
     "output_type": "stream",
     "text": [
      "/usr/local/lib/python3.7/dist-packages/transformers/tokenization_utils_base.py:2291: FutureWarning: The `pad_to_max_length` argument is deprecated and will be removed in a future version, use `padding=True` or `padding='longest'` to pad to the longest sequence in the batch, or use `padding='max_length'` to pad to a max length. In this case, you can give a specific length with `max_length` (e.g. `max_length=45`) or leave max_length to None to pad to the maximal input size of the model (e.g. 512 for Bert).\n",
      "  FutureWarning,\n"
     ]
    },
    {
     "name": "stdout",
     "output_type": "stream",
     "text": [
      "epoch 1 loss 3.847790479660034 train acc 0.14399509803921567\n",
      "epoch 1 loss 2.8706347942352295 train acc 0.27645420792079206\n",
      "epoch 1 loss 2.1791443824768066 train acc 0.2918632075471698\n"
     ]
    },
    {
     "data": {
      "application/vnd.jupyter.widget-view+json": {
       "model_id": "5b314386a7be47799408fcb54f52ba37",
       "version_major": 2,
       "version_minor": 0
      },
      "text/plain": [
       "  0%|          | 0/105 [00:00<?, ?it/s]"
      ]
     },
     "metadata": {},
     "output_type": "display_data"
    },
    {
     "name": "stdout",
     "output_type": "stream",
     "text": [
      "epoch 2 loss 2.035689353942871 train acc 0.6752450980392157\n",
      "epoch 2 loss 1.8723305463790894 train acc 0.7074566831683168\n",
      "epoch 2 loss 1.6024911403656006 train acc 0.7100190493468795\n"
     ]
    },
    {
     "data": {
      "application/vnd.jupyter.widget-view+json": {
       "model_id": "884d3d3f658c40859c499c188aea9f1f",
       "version_major": 2,
       "version_minor": 0
      },
      "text/plain": [
       "  0%|          | 0/105 [00:00<?, ?it/s]"
      ]
     },
     "metadata": {},
     "output_type": "display_data"
    },
    {
     "name": "stdout",
     "output_type": "stream",
     "text": [
      "epoch 3 loss 0.7275426983833313 train acc 0.8458946078431373\n",
      "epoch 3 loss 1.0226964950561523 train acc 0.8620049504950495\n",
      "epoch 3 loss 1.445241928100586 train acc 0.8638198476052249\n"
     ]
    },
    {
     "data": {
      "application/vnd.jupyter.widget-view+json": {
       "model_id": "c1548a9c24c34ec591c3e82b843bb56c",
       "version_major": 2,
       "version_minor": 0
      },
      "text/plain": [
       "  0%|          | 0/105 [00:00<?, ?it/s]"
      ]
     },
     "metadata": {},
     "output_type": "display_data"
    },
    {
     "name": "stdout",
     "output_type": "stream",
     "text": [
      "epoch 4 loss 1.0372668504714966 train acc 0.8964460784313726\n",
      "epoch 4 loss 0.6607805490493774 train acc 0.9130569306930693\n",
      "epoch 4 loss 1.0294392108917236 train acc 0.9149129172714078\n"
     ]
    },
    {
     "data": {
      "application/vnd.jupyter.widget-view+json": {
       "model_id": "b62e98f35c774f77bbe6f4a1deac941d",
       "version_major": 2,
       "version_minor": 0
      },
      "text/plain": [
       "  0%|          | 0/105 [00:00<?, ?it/s]"
      ]
     },
     "metadata": {},
     "output_type": "display_data"
    },
    {
     "name": "stdout",
     "output_type": "stream",
     "text": [
      "epoch 5 loss 1.1582515239715576 train acc 0.9325980392156863\n",
      "epoch 5 loss 0.6606323719024658 train acc 0.9395111386138614\n",
      "epoch 5 loss 0.9732204079627991 train acc 0.9406748911465893\n"
     ]
    }
   ],
   "source": [
    "losses = []\n",
    "accuracies = []\n",
    "\n",
    "#정확도 측정을 위한 함수 정의\n",
    "def calc_accuracy(X,Y):\n",
    "    max_vals, max_indices = torch.max(X, 1)\n",
    "    train_acc = (max_indices == Y).sum().data.cpu().numpy()/max_indices.size()[0]\n",
    "    return train_acc\n",
    "\n",
    "loss_fn = nn.CrossEntropyLoss()\n",
    "\n",
    "for i in range(epochs):\n",
    "  train_acc = 0.0\n",
    "  total_loss = 0.0\n",
    "  correct = 0\n",
    "  total = 0\n",
    "  batches = 0\n",
    "\n",
    "  model.train()\n",
    "\n",
    "  for input_ids_batch, attention_masks_batch, y_batch in tqdm(train_dataloader):\n",
    "    optimizer.zero_grad()\n",
    "    y_batch = y_batch.long().to(device)\n",
    "    y_pred = model(input_ids_batch.to(device), attention_mask=attention_masks_batch.to(device))[0]\n",
    "    y_pred = y_pred[:, -1, :]\n",
    "    loss = loss_fn(y_pred, y_batch)\n",
    "    loss.backward()\n",
    "    optimizer.step()\n",
    "\n",
    "    total_loss += loss.item()\n",
    "\n",
    "    train_acc += calc_accuracy(y_pred, y_batch)\n",
    "    total += len(y_batch)\n",
    "\n",
    "    batches += 1\n",
    "    if batches % 50 == 0:\n",
    "      print(\"epoch {} loss {} train acc {}\".format(i+1, loss.data.cpu().numpy(), train_acc / (batches+1)))\n",
    "  print(\"epoch {} loss {} train acc {}\".format(i+1, loss.data.cpu().numpy(), train_acc / (batches+1)))\n",
    "  model.eval()\n",
    "  "
   ]
  },
  {
   "cell_type": "code",
   "execution_count": null,
   "metadata": {
    "id": "jcXrgbi786He"
   },
   "outputs": [],
   "source": [
    "def predict(sentence):\n",
    "    data = [sentence, '0']\n",
    "    dataset_another = [data]\n",
    "    logits = 0\n",
    "    another_test = TrainDataset(dataset_another)\n",
    "    test_dataloader = torch.utils.data.DataLoader(another_test)\n",
    "\n",
    "    model.eval()\n",
    "\n",
    "    for input_ids_batch, attention_masks_batch, y_batch in test_dataloader:\n",
    "        y_batch = y_batch.long().to(device)\n",
    "        out = model(input_ids_batch.to(device), attention_mask=attention_masks_batch.to(device))[0]\n",
    "        out = out[:, -1, :]\n",
    "\n",
    "        for i in out:\n",
    "            logits = i\n",
    "            logits = logits.detach().cpu().numpy()\n",
    "            logits = np.argmax(logits)\n",
    "    return logits"
   ]
  },
  {
   "cell_type": "code",
   "execution_count": null,
   "metadata": {
    "colab": {
     "base_uri": "https://localhost:8080/"
    },
    "executionInfo": {
     "elapsed": 4082,
     "status": "ok",
     "timestamp": 1652768867462,
     "user": {
      "displayName": "Alex Kim",
      "userId": "14000404201898213847"
     },
     "user_tz": -540
    },
    "id": "h2G09Jjca5H8",
    "outputId": "4d4a3bcc-cfe7-4c8a-c157-8d14579c8a6d"
   },
   "outputs": [
    {
     "name": "stderr",
     "output_type": "stream",
     "text": [
      "/usr/local/lib/python3.7/dist-packages/transformers/tokenization_utils_base.py:2291: FutureWarning: The `pad_to_max_length` argument is deprecated and will be removed in a future version, use `padding=True` or `padding='longest'` to pad to the longest sequence in the batch, or use `padding='max_length'` to pad to a max length. In this case, you can give a specific length with `max_length` (e.g. `max_length=45`) or leave max_length to None to pad to the maximal input size of the model (e.g. 512 for Bert).\n",
      "  FutureWarning,\n"
     ]
    },
    {
     "data": {
      "text/plain": [
       "1"
      ]
     },
     "execution_count": 38,
     "metadata": {},
     "output_type": "execute_result"
    }
   ],
   "source": [
    "predict('아니 왜 나한테만 이러는거야 생각은 열심히 잘 했는데 결과가 왜이래?')"
   ]
  },
  {
   "cell_type": "code",
   "execution_count": null,
   "metadata": {
    "id": "iMZlYtxAa8ES"
   },
   "outputs": [],
   "source": [
    "#torch.save(model.state_dict(), \"__file_location__/emo_classify_model.pt\")"
   ]
  },
  {
   "cell_type": "code",
   "execution_count": null,
   "metadata": {
    "colab": {
     "base_uri": "https://localhost:8080/",
     "height": 424
    },
    "executionInfo": {
     "elapsed": 355,
     "status": "ok",
     "timestamp": 1654566568007,
     "user": {
      "displayName": "Alex Kim",
      "userId": "14000404201898213847"
     },
     "user_tz": -540
    },
    "id": "JC1Z4blqbn1X",
    "outputId": "0cb0dae5-fda7-48bd-825a-1e2ece54e020",
    "scrolled": true
   },
   "outputs": [
    {
     "data": {
      "text/html": [
       "\n",
       "  <div id=\"df-03b1837f-a682-4c8f-be9a-f17d6875cd00\">\n",
       "    <div class=\"colab-df-container\">\n",
       "      <div>\n",
       "<style scoped>\n",
       "    .dataframe tbody tr th:only-of-type {\n",
       "        vertical-align: middle;\n",
       "    }\n",
       "\n",
       "    .dataframe tbody tr th {\n",
       "        vertical-align: top;\n",
       "    }\n",
       "\n",
       "    .dataframe thead th {\n",
       "        text-align: right;\n",
       "    }\n",
       "</style>\n",
       "<table border=\"1\" class=\"dataframe\">\n",
       "  <thead>\n",
       "    <tr style=\"text-align: right;\">\n",
       "      <th></th>\n",
       "      <th>text</th>\n",
       "      <th>label</th>\n",
       "    </tr>\n",
       "  </thead>\n",
       "  <tbody>\n",
       "    <tr>\n",
       "      <th>3562</th>\n",
       "      <td>나 요즘 주식을 시작했어.</td>\n",
       "      <td>2</td>\n",
       "    </tr>\n",
       "    <tr>\n",
       "      <th>547</th>\n",
       "      <td>프로젝트를 진행하느라고 친구들을 못 만났는데, 이번 기회에 만나봐야겠어.</td>\n",
       "      <td>0</td>\n",
       "    </tr>\n",
       "    <tr>\n",
       "      <th>645</th>\n",
       "      <td>나 축하해 달라구.</td>\n",
       "      <td>0</td>\n",
       "    </tr>\n",
       "    <tr>\n",
       "      <th>6466</th>\n",
       "      <td>집에 와서 조금 쉬었더니 마음이 진정되었어.</td>\n",
       "      <td>4</td>\n",
       "    </tr>\n",
       "    <tr>\n",
       "      <th>7248</th>\n",
       "      <td>아직까지는 집 안으로 물이 들어오지 않았어. 내 몸도 아픈데는 없어.</td>\n",
       "      <td>5</td>\n",
       "    </tr>\n",
       "    <tr>\n",
       "      <th>...</th>\n",
       "      <td>...</td>\n",
       "      <td>...</td>\n",
       "    </tr>\n",
       "    <tr>\n",
       "      <th>1166</th>\n",
       "      <td>내가 너무나 좋아하는 인플루언서가 진행하는 이벤트가 있었는데 거기에 당첨되었어.</td>\n",
       "      <td>0</td>\n",
       "    </tr>\n",
       "    <tr>\n",
       "      <th>3145</th>\n",
       "      <td>어. 집에만 있으니까 우울한 거 같애.</td>\n",
       "      <td>2</td>\n",
       "    </tr>\n",
       "    <tr>\n",
       "      <th>6334</th>\n",
       "      <td>산책하다가 목줄이 끊어졌다니까?</td>\n",
       "      <td>4</td>\n",
       "    </tr>\n",
       "    <tr>\n",
       "      <th>5009</th>\n",
       "      <td>그래야 할 것 같아. 냄새가 너무 독해. 냄새를 맡을 수가 없어. 청소도 더 해야될...</td>\n",
       "      <td>3</td>\n",
       "    </tr>\n",
       "    <tr>\n",
       "      <th>138</th>\n",
       "      <td>그래. 나중에 시간 되면 보여줄게.</td>\n",
       "      <td>0</td>\n",
       "    </tr>\n",
       "  </tbody>\n",
       "</table>\n",
       "<p>1678 rows × 2 columns</p>\n",
       "</div>\n",
       "      <button class=\"colab-df-convert\" onclick=\"convertToInteractive('df-03b1837f-a682-4c8f-be9a-f17d6875cd00')\"\n",
       "              title=\"Convert this dataframe to an interactive table.\"\n",
       "              style=\"display:none;\">\n",
       "        \n",
       "  <svg xmlns=\"http://www.w3.org/2000/svg\" height=\"24px\"viewBox=\"0 0 24 24\"\n",
       "       width=\"24px\">\n",
       "    <path d=\"M0 0h24v24H0V0z\" fill=\"none\"/>\n",
       "    <path d=\"M18.56 5.44l.94 2.06.94-2.06 2.06-.94-2.06-.94-.94-2.06-.94 2.06-2.06.94zm-11 1L8.5 8.5l.94-2.06 2.06-.94-2.06-.94L8.5 2.5l-.94 2.06-2.06.94zm10 10l.94 2.06.94-2.06 2.06-.94-2.06-.94-.94-2.06-.94 2.06-2.06.94z\"/><path d=\"M17.41 7.96l-1.37-1.37c-.4-.4-.92-.59-1.43-.59-.52 0-1.04.2-1.43.59L10.3 9.45l-7.72 7.72c-.78.78-.78 2.05 0 2.83L4 21.41c.39.39.9.59 1.41.59.51 0 1.02-.2 1.41-.59l7.78-7.78 2.81-2.81c.8-.78.8-2.07 0-2.86zM5.41 20L4 18.59l7.72-7.72 1.47 1.35L5.41 20z\"/>\n",
       "  </svg>\n",
       "      </button>\n",
       "      \n",
       "  <style>\n",
       "    .colab-df-container {\n",
       "      display:flex;\n",
       "      flex-wrap:wrap;\n",
       "      gap: 12px;\n",
       "    }\n",
       "\n",
       "    .colab-df-convert {\n",
       "      background-color: #E8F0FE;\n",
       "      border: none;\n",
       "      border-radius: 50%;\n",
       "      cursor: pointer;\n",
       "      display: none;\n",
       "      fill: #1967D2;\n",
       "      height: 32px;\n",
       "      padding: 0 0 0 0;\n",
       "      width: 32px;\n",
       "    }\n",
       "\n",
       "    .colab-df-convert:hover {\n",
       "      background-color: #E2EBFA;\n",
       "      box-shadow: 0px 1px 2px rgba(60, 64, 67, 0.3), 0px 1px 3px 1px rgba(60, 64, 67, 0.15);\n",
       "      fill: #174EA6;\n",
       "    }\n",
       "\n",
       "    [theme=dark] .colab-df-convert {\n",
       "      background-color: #3B4455;\n",
       "      fill: #D2E3FC;\n",
       "    }\n",
       "\n",
       "    [theme=dark] .colab-df-convert:hover {\n",
       "      background-color: #434B5C;\n",
       "      box-shadow: 0px 1px 3px 1px rgba(0, 0, 0, 0.15);\n",
       "      filter: drop-shadow(0px 1px 2px rgba(0, 0, 0, 0.3));\n",
       "      fill: #FFFFFF;\n",
       "    }\n",
       "  </style>\n",
       "\n",
       "      <script>\n",
       "        const buttonEl =\n",
       "          document.querySelector('#df-03b1837f-a682-4c8f-be9a-f17d6875cd00 button.colab-df-convert');\n",
       "        buttonEl.style.display =\n",
       "          google.colab.kernel.accessAllowed ? 'block' : 'none';\n",
       "\n",
       "        async function convertToInteractive(key) {\n",
       "          const element = document.querySelector('#df-03b1837f-a682-4c8f-be9a-f17d6875cd00');\n",
       "          const dataTable =\n",
       "            await google.colab.kernel.invokeFunction('convertToInteractive',\n",
       "                                                     [key], {});\n",
       "          if (!dataTable) return;\n",
       "\n",
       "          const docLinkHtml = 'Like what you see? Visit the ' +\n",
       "            '<a target=\"_blank\" href=https://colab.research.google.com/notebooks/data_table.ipynb>data table notebook</a>'\n",
       "            + ' to learn more about interactive tables.';\n",
       "          element.innerHTML = '';\n",
       "          dataTable['output_type'] = 'display_data';\n",
       "          await google.colab.output.renderOutput(dataTable, element);\n",
       "          const docLink = document.createElement('div');\n",
       "          docLink.innerHTML = docLinkHtml;\n",
       "          element.appendChild(docLink);\n",
       "        }\n",
       "      </script>\n",
       "    </div>\n",
       "  </div>\n",
       "  "
      ],
      "text/plain": [
       "                                                   text  label\n",
       "3562                                     나 요즘 주식을 시작했어.      2\n",
       "547            프로젝트를 진행하느라고 친구들을 못 만났는데, 이번 기회에 만나봐야겠어.      0\n",
       "645                                          나 축하해 달라구.      0\n",
       "6466                           집에 와서 조금 쉬었더니 마음이 진정되었어.      4\n",
       "7248             아직까지는 집 안으로 물이 들어오지 않았어. 내 몸도 아픈데는 없어.      5\n",
       "...                                                 ...    ...\n",
       "1166       내가 너무나 좋아하는 인플루언서가 진행하는 이벤트가 있었는데 거기에 당첨되었어.      0\n",
       "3145                              어. 집에만 있으니까 우울한 거 같애.      2\n",
       "6334                                  산책하다가 목줄이 끊어졌다니까?      4\n",
       "5009  그래야 할 것 같아. 냄새가 너무 독해. 냄새를 맡을 수가 없어. 청소도 더 해야될...      3\n",
       "138                                 그래. 나중에 시간 되면 보여줄게.      0\n",
       "\n",
       "[1678 rows x 2 columns]"
      ]
     },
     "execution_count": 53,
     "metadata": {},
     "output_type": "execute_result"
    }
   ],
   "source": [
    "X_test"
   ]
  },
  {
   "cell_type": "code",
   "execution_count": null,
   "metadata": {
    "colab": {
     "base_uri": "https://localhost:8080/"
    },
    "executionInfo": {
     "elapsed": 3111,
     "status": "ok",
     "timestamp": 1654566615977,
     "user": {
      "displayName": "Alex Kim",
      "userId": "14000404201898213847"
     },
     "user_tz": -540
    },
    "id": "H6EFTRwy2jyG",
    "outputId": "8f603414-b2e6-4a77-de6c-0f82bc041e2f"
   },
   "outputs": [
    {
     "name": "stderr",
     "output_type": "stream",
     "text": [
      "/usr/local/lib/python3.7/dist-packages/transformers/tokenization_utils_base.py:2291: FutureWarning: The `pad_to_max_length` argument is deprecated and will be removed in a future version, use `padding=True` or `padding='longest'` to pad to the longest sequence in the batch, or use `padding='max_length'` to pad to a max length. In this case, you can give a specific length with `max_length` (e.g. `max_length=45`) or leave max_length to None to pad to the maximal input size of the model (e.g. 512 for Bert).\n",
      "  FutureWarning,\n"
     ]
    },
    {
     "data": {
      "text/plain": [
       "2"
      ]
     },
     "execution_count": 56,
     "metadata": {},
     "output_type": "execute_result"
    }
   ],
   "source": [
    "predict('나 요즘 주식을 시작했어.')"
   ]
  },
  {
   "cell_type": "code",
   "execution_count": null,
   "metadata": {
    "colab": {
     "base_uri": "https://localhost:8080/",
     "height": 35
    },
    "executionInfo": {
     "elapsed": 10,
     "status": "ok",
     "timestamp": 1654566751493,
     "user": {
      "displayName": "Alex Kim",
      "userId": "14000404201898213847"
     },
     "user_tz": -540
    },
    "id": "nIe_XpCS3F1C",
    "outputId": "7913a5ef-6125-4b41-b94d-cbe6578140e0"
   },
   "outputs": [
    {
     "data": {
      "application/vnd.google.colaboratory.intrinsic+json": {
       "type": "string"
      },
      "text/plain": [
       "'나 요즘 주식을 시작했어.'"
      ]
     },
     "execution_count": 60,
     "metadata": {},
     "output_type": "execute_result"
    }
   ],
   "source": [
    "X_test['text'].values[0]"
   ]
  },
  {
   "cell_type": "code",
   "execution_count": 65,
   "metadata": {
    "colab": {
     "base_uri": "https://localhost:8080/",
     "height": 105,
     "referenced_widgets": [
      "b8059b0fa9a847d094ea1cc759d1f43f",
      "3a7021aa88f94ddc9c753c6ae6c9987e",
      "13de7d3031f94189b73f2da73b6d5d37",
      "9b409629b0d44c76bbee9bde00329109",
      "535d6e617e174692a50156230c5af036",
      "68566428b9d648e8a038c88e02a0b42a",
      "3e51e0ce7c604e6184320ca6a4007386",
      "6b5d926866b342f190f55f8637e7559e",
      "708714bc8af04bbe9811d510b0b5abdc",
      "35e7d2bbd2024ad9b842c21292ceb2c0",
      "bb1d2090c6db4d51a8b5e60b492c02d5"
     ]
    },
    "executionInfo": {
     "elapsed": 155929,
     "status": "ok",
     "timestamp": 1654571741374,
     "user": {
      "displayName": "Alex Kim",
      "userId": "14000404201898213847"
     },
     "user_tz": -540
    },
    "id": "WkdWZE7j2rji",
    "outputId": "aea92e2d-0b93-4ab8-f63b-e0d5c4c6892d"
   },
   "outputs": [
    {
     "data": {
      "application/vnd.jupyter.widget-view+json": {
       "model_id": "b8059b0fa9a847d094ea1cc759d1f43f",
       "version_major": 2,
       "version_minor": 0
      },
      "text/plain": [
       "  0%|          | 0/1678 [00:00<?, ?it/s]"
      ]
     },
     "metadata": {},
     "output_type": "display_data"
    },
    {
     "metadata": {
      "tags": null
     },
     "name": "stderr",
     "output_type": "stream",
     "text": [
      "/usr/local/lib/python3.7/dist-packages/transformers/tokenization_utils_base.py:2291: FutureWarning: The `pad_to_max_length` argument is deprecated and will be removed in a future version, use `padding=True` or `padding='longest'` to pad to the longest sequence in the batch, or use `padding='max_length'` to pad to a max length. In this case, you can give a specific length with `max_length` (e.g. `max_length=45`) or leave max_length to None to pad to the maximal input size of the model (e.g. 512 for Bert).\n",
      "  FutureWarning,\n"
     ]
    }
   ],
   "source": [
    "predicted_a = []\n",
    "for i in tqdm(range(len(X_test))):\n",
    "  p = predict(X_test['text'].values[i])\n",
    "  predicted_a.append(p)"
   ]
  },
  {
   "cell_type": "code",
   "execution_count": 69,
   "metadata": {
    "colab": {
     "base_uri": "https://localhost:8080/"
    },
    "executionInfo": {
     "elapsed": 296,
     "status": "ok",
     "timestamp": 1654571860011,
     "user": {
      "displayName": "Alex Kim",
      "userId": "14000404201898213847"
     },
     "user_tz": -540
    },
    "id": "e1q_AZoC3TEn",
    "outputId": "865ab780-d2cc-46df-cbd4-54f5e44e43c3"
   },
   "outputs": [
    {
     "name": "stdout",
     "output_type": "stream",
     "text": [
      "[2, 0, 0, 4, 5, 3, 2, 4, 4, 5, 3, 4, 5, 5, 4, 4, 0, 4, 1, 5, 2, 4, 4, 4, 0, 4, 5, 3, 1, 3, 0, 4, 5, 1, 0, 1, 1, 2, 1, 2, 5, 2, 3, 1, 0, 1, 4, 0, 1, 5, 1, 5, 0, 5, 5, 4, 0, 2, 3, 4, 1, 2, 5, 3, 0, 1, 0, 3, 4, 2, 2, 1, 0, 2, 4, 5, 0, 3, 1, 3, 4, 1, 2, 3, 1, 2, 3, 5, 1, 2, 3, 5, 1, 0, 4, 3, 3, 0, 4, 5, 4, 0, 4, 4, 4, 4, 0, 3, 0, 2, 4, 5, 1, 1, 0, 5, 5, 1, 2, 4, 0, 1, 5, 1, 2, 4, 4, 5, 1, 4, 5, 2, 0, 1, 1, 4, 2, 3, 1, 0, 3, 3, 5, 2, 0, 1, 1, 0, 5, 4, 0, 5, 3, 5, 5, 4, 3, 2, 5, 4, 4, 3, 1, 5, 1, 2, 3, 4, 3, 5, 4, 3, 0, 0, 0, 0, 4, 3, 2, 2, 4, 0, 2, 2, 4, 1, 1, 3, 4, 2, 0, 2, 3, 0, 1, 3, 3, 3, 3, 2, 5, 0, 2, 4, 1, 2, 3, 4, 3, 2, 2, 3, 5, 0, 1, 1, 5, 2, 2, 4, 1, 5, 5, 2, 0, 0, 0, 3, 4, 3, 2, 1, 5, 3, 3, 3, 0, 3, 0, 5, 0, 1, 2, 4, 0, 3, 2, 1, 2, 3, 3, 0, 5, 0, 0, 5, 3, 0, 1, 2, 2, 2, 2, 3, 2, 5, 0, 5, 0, 2, 5, 5, 3, 4, 5, 2, 0, 2, 3, 2, 0, 5, 3, 3, 2, 4, 3, 1, 3, 0, 3, 4, 5, 0, 2, 4, 0, 2, 4, 0, 4, 3, 3, 1, 1, 4, 5, 5, 2, 0, 0, 0, 1, 1, 5, 0, 2, 2, 5, 4, 0, 0, 4, 4, 0, 3, 1, 2, 2, 0, 2, 2, 3, 2, 4, 2, 5, 0, 5, 5, 2, 1, 4, 5, 3, 3, 5, 2, 0, 4, 2, 5, 5, 5, 1, 0, 4, 0, 3, 4, 5, 3, 1, 4, 1, 3, 3, 1, 3, 2, 1, 0, 5, 4, 1, 0, 4, 1, 5, 4, 3, 4, 0, 0, 0, 2, 4, 3, 2, 0, 3, 5, 2, 4, 0, 5, 4, 0, 0, 1, 0, 5, 4, 3, 1, 0, 3, 5, 4, 5, 5, 0, 0, 2, 1, 1, 3, 4, 4, 3, 5, 4, 1, 3, 3, 2, 2, 0, 3, 3, 3, 0, 0, 2, 3, 2, 2, 3, 3, 1, 3, 4, 5, 1, 0, 0, 1, 3, 1, 4, 5, 0, 3, 5, 1, 3, 3, 4, 4, 4, 0, 2, 5, 4, 0, 4, 4, 3, 1, 2, 0, 5, 4, 5, 5, 0, 2, 4, 3, 1, 4, 4, 0, 2, 2, 0, 3, 5, 2, 4, 5, 0, 5, 5, 1, 3, 2, 0, 5, 3, 1, 0, 4, 1, 1, 5, 5, 5, 5, 0, 2, 3, 1, 2, 0, 4, 4, 0, 5, 5, 4, 1, 4, 0, 0, 0, 3, 5, 5, 4, 0, 0, 4, 4, 2, 0, 5, 0, 0, 0, 0, 5, 5, 2, 5, 3, 1, 1, 1, 5, 4, 0, 0, 4, 1, 1, 5, 0, 0, 4, 3, 2, 4, 3, 4, 5, 2, 3, 0, 2, 3, 3, 5, 1, 3, 4, 2, 2, 1, 2, 3, 3, 5, 0, 3, 5, 1, 0, 1, 1, 3, 2, 0, 3, 4, 2, 0, 2, 4, 1, 3, 0, 3, 0, 0, 2, 3, 4, 4, 5, 2, 4, 1, 0, 0, 1, 2, 0, 1, 4, 0, 0, 1, 3, 5, 3, 1, 4, 2, 0, 2, 0, 3, 1, 3, 4, 5, 1, 3, 0, 3, 5, 4, 3, 4, 3, 5, 4, 3, 5, 2, 4, 2, 2, 2, 1, 3, 5, 0, 4, 2, 4, 3, 5, 1, 5, 0, 3, 3, 0, 5, 1, 2, 1, 2, 2, 4, 4, 0, 5, 1, 2, 3, 4, 2, 3, 4, 1, 2, 1, 4, 2, 2, 1, 0, 0, 4, 4, 1, 5, 2, 3, 3, 1, 0, 4, 2, 5, 4, 4, 4, 4, 3, 1, 0, 4, 4, 2, 2, 0, 1, 4, 0, 5, 1, 0, 3, 5, 3, 4, 2, 0, 1, 4, 0, 5, 3, 1, 4, 3, 4, 2, 4, 2, 0, 1, 3, 2, 0, 2, 3, 2, 5, 3, 1, 2, 2, 4, 3, 3, 0, 1, 1, 4, 3, 4, 3, 1, 5, 4, 5, 0, 1, 5, 0, 4, 4, 0, 4, 0, 4, 2, 0, 1, 0, 3, 5, 3, 0, 0, 2, 1, 4, 3, 3, 2, 0, 1, 1, 2, 4, 3, 2, 0, 0, 5, 1, 5, 0, 0, 2, 1, 4, 3, 0, 3, 1, 3, 4, 0, 3, 2, 1, 3, 2, 2, 0, 3, 0, 0, 4, 5, 1, 0, 2, 2, 2, 2, 0, 5, 1, 4, 3, 1, 1, 2, 0, 3, 2, 0, 5, 1, 5, 5, 2, 3, 0, 4, 1, 2, 4, 2, 3, 4, 1, 3, 5, 0, 0, 4, 3, 5, 2, 0, 4, 0, 3, 3, 5, 4, 0, 1, 5, 3, 0, 2, 4, 5, 2, 3, 0, 1, 4, 4, 0, 3, 2, 4, 0, 4, 4, 5, 4, 0, 5, 0, 0, 0, 4, 0, 4, 4, 4, 4, 0, 3, 3, 1, 1, 3, 0, 4, 1, 1, 2, 0, 5, 3, 0, 0, 2, 5, 2, 4, 5, 0, 4, 0, 5, 5, 1, 0, 2, 0, 2, 2, 1, 4, 3, 5, 1, 0, 5, 0, 5, 2, 4, 4, 4, 4, 4, 5, 1, 1, 3, 0, 0, 1, 1, 1, 4, 1, 2, 0, 5, 0, 3, 1, 3, 5, 5, 0, 0, 2, 1, 5, 1, 0, 5, 3, 4, 0, 4, 5, 5, 2, 4, 3, 3, 1, 5, 1, 4, 3, 2, 5, 2, 1, 5, 0, 1, 4, 5, 5, 0, 3, 3, 5, 0, 1, 1, 3, 5, 5, 4, 0, 4, 1, 3, 2, 1, 0, 5, 5, 3, 1, 3, 0, 3, 3, 3, 5, 5, 5, 1, 0, 2, 2, 5, 4, 0, 2, 0, 5, 4, 2, 5, 3, 5, 2, 5, 1, 5, 1, 2, 5, 2, 4, 2, 3, 3, 2, 2, 5, 5, 2, 0, 4, 2, 1, 2, 5, 3, 5, 0, 2, 3, 0, 2, 3, 5, 3, 0, 5, 5, 2, 2, 2, 3, 2, 5, 4, 1, 2, 0, 2, 4, 3, 1, 2, 2, 0, 2, 0, 2, 1, 2, 0, 5, 0, 0, 4, 5, 5, 4, 4, 3, 1, 4, 0, 4, 2, 1, 1, 4, 5, 2, 4, 3, 3, 0, 1, 4, 2, 3, 5, 2, 1, 2, 4, 3, 4, 3, 4, 5, 3, 5, 1, 3, 2, 2, 0, 5, 2, 1, 2, 4, 5, 1, 5, 0, 1, 2, 3, 2, 5, 0, 3, 1, 2, 0, 1, 4, 0, 5, 1, 0, 3, 0, 2, 0, 3, 0, 1, 0, 0, 3, 3, 4, 4, 2, 1, 3, 0, 1, 1, 4, 1, 1, 5, 4, 2, 0, 1, 4, 3, 2, 3, 2, 3, 4, 4, 2, 0, 3, 2, 2, 2, 5, 1, 3, 1, 0, 1, 4, 5, 4, 3, 0, 1, 3, 5, 3, 4, 3, 1, 2, 4, 0, 3, 0, 4, 2, 4, 1, 3, 4, 5, 0, 4, 2, 3, 2, 0, 3, 5, 0, 3, 3, 1, 3, 1, 0, 4, 0, 0, 4, 0, 0, 5, 4, 2, 0, 0, 2, 5, 5, 5, 4, 1, 4, 5, 0, 0, 3, 5, 3, 3, 0, 2, 0, 1, 2, 5, 3, 0, 0, 0, 2, 4, 1, 5, 3, 3, 4, 0, 3, 4, 1, 4, 5, 1, 1, 0, 0, 1, 2, 5, 0, 1, 2, 1, 5, 5, 5, 1, 0, 1, 1, 3, 3, 4, 4, 1, 4, 4, 0, 5, 1, 4, 5, 2, 1, 3, 4, 4, 3, 4, 2, 2, 3, 5, 5, 1, 5, 3, 4, 0, 4, 5, 5, 4, 0, 4, 1, 5, 2, 1, 2, 1, 2, 4, 0, 5, 0, 5, 4, 3, 1, 3, 3, 2, 5, 3, 3, 3, 1, 2, 2, 0, 2, 5, 4, 0, 4, 5, 3, 0, 0, 3, 3, 4, 2, 1, 1, 5, 3, 4, 3, 4, 2, 4, 0, 4, 1, 4, 4, 2, 4, 0, 3, 4, 1, 4, 5, 4, 0, 4, 5, 4, 4, 5, 5, 3, 5, 1, 2, 1, 5, 2, 4, 5, 2, 2, 2, 5, 4, 4, 1, 4, 0, 2, 1, 1, 3, 5, 0, 5, 4, 2, 4, 4, 4, 5, 3, 0, 3, 3, 5, 4, 0, 3, 0, 2, 0, 5, 5, 1, 3, 1, 1, 2, 1, 1, 5, 4, 5, 0, 3, 0, 4, 0, 0, 4, 4, 4, 1, 3, 3, 5, 5, 1, 5, 1, 3, 0, 0, 3, 4, 5, 4, 4, 4, 0, 1, 4, 1, 3, 2, 3, 3, 2, 5, 3, 4, 1, 2, 2, 0, 2, 3, 2, 1, 0, 5, 3, 0, 1, 4, 0, 4, 3, 4, 5, 2, 3, 4, 3, 3, 1, 4, 2, 3, 3, 1, 0, 3, 5, 2, 3, 1, 2, 1, 4, 5, 4, 3, 2, 1, 2, 0, 1, 4, 2, 5, 0, 1, 5, 3, 4, 4, 3, 0, 1, 0, 0, 0, 3, 1, 2, 3, 1, 4, 3, 2, 4, 2, 2, 1, 1, 2, 3, 2, 4, 3, 0, 1, 5, 2, 1, 2, 5, 5, 5, 3, 4, 4, 5, 1, 3, 0, 4, 5, 2, 5, 1, 5, 1, 5, 1, 0, 4, 5, 0, 4, 4, 4, 5, 3, 3, 0, 5, 0, 4, 3, 2, 5, 5, 3, 5, 2, 0, 1, 5, 2, 1, 3, 2, 4, 0, 4, 3, 2, 0, 2, 4, 3, 0]\n"
     ]
    }
   ],
   "source": [
    "print(predicted_a)"
   ]
  },
  {
   "cell_type": "code",
   "execution_count": 71,
   "metadata": {
    "colab": {
     "base_uri": "https://localhost:8080/"
    },
    "executionInfo": {
     "elapsed": 5,
     "status": "ok",
     "timestamp": 1654571876487,
     "user": {
      "displayName": "Alex Kim",
      "userId": "14000404201898213847"
     },
     "user_tz": -540
    },
    "id": "cgzct8Vp4A1K",
    "outputId": "951b61da-3060-4a18-97fb-820966d9b03a"
   },
   "outputs": [
    {
     "name": "stdout",
     "output_type": "stream",
     "text": [
      "[2, 0, 0, 4, 5, 3, 2, 4, 4, 5, 3, 4, 5, 5, 4, 4, 0, 4, 1, 5, 2, 4, 4, 4, 0, 4, 5, 3, 1, 3, 0, 4, 5, 1, 0, 1, 1, 2, 1, 2, 5, 2, 3, 1, 0, 1, 4, 0, 1, 5, 1, 5, 0, 5, 5, 4, 0, 2, 3, 4, 1, 2, 5, 1, 0, 1, 0, 3, 4, 2, 2, 1, 0, 2, 4, 5, 0, 3, 1, 3, 4, 1, 2, 3, 1, 2, 3, 5, 1, 0, 4, 5, 1, 0, 4, 3, 2, 0, 4, 5, 4, 0, 4, 4, 4, 4, 0, 3, 0, 2, 5, 5, 1, 5, 0, 5, 5, 1, 2, 4, 0, 5, 5, 1, 2, 4, 4, 5, 3, 4, 5, 2, 0, 1, 5, 4, 2, 3, 2, 0, 3, 3, 5, 2, 0, 1, 0, 0, 5, 4, 0, 5, 3, 5, 5, 4, 3, 2, 5, 5, 4, 3, 1, 5, 2, 2, 3, 4, 3, 5, 4, 3, 0, 0, 0, 0, 4, 3, 2, 2, 4, 0, 2, 1, 4, 1, 0, 3, 4, 2, 0, 2, 3, 0, 1, 3, 3, 3, 3, 2, 5, 0, 2, 4, 1, 2, 0, 4, 1, 2, 2, 3, 5, 0, 1, 1, 5, 2, 2, 4, 1, 5, 5, 2, 0, 0, 4, 3, 4, 3, 2, 1, 5, 3, 3, 2, 0, 3, 0, 5, 0, 1, 2, 4, 0, 3, 2, 1, 2, 3, 3, 0, 5, 0, 0, 5, 3, 0, 1, 2, 2, 2, 2, 3, 2, 5, 0, 5, 2, 2, 5, 5, 3, 4, 5, 2, 0, 2, 3, 3, 0, 5, 3, 3, 2, 4, 3, 1, 3, 0, 3, 4, 5, 0, 2, 4, 0, 2, 4, 0, 4, 3, 3, 1, 1, 4, 5, 5, 2, 0, 0, 0, 1, 1, 5, 0, 2, 2, 5, 4, 0, 0, 4, 4, 0, 3, 2, 2, 2, 2, 2, 2, 3, 2, 4, 2, 5, 0, 5, 5, 2, 1, 4, 5, 3, 3, 5, 2, 0, 4, 2, 5, 5, 5, 2, 0, 4, 3, 5, 4, 5, 3, 1, 4, 1, 3, 3, 1, 3, 2, 1, 0, 5, 4, 1, 0, 4, 1, 5, 4, 3, 4, 0, 0, 0, 2, 4, 3, 2, 0, 3, 5, 2, 4, 0, 5, 4, 2, 0, 0, 3, 2, 4, 3, 3, 0, 3, 2, 4, 5, 5, 0, 0, 2, 1, 1, 3, 4, 4, 3, 5, 4, 1, 0, 3, 2, 2, 0, 2, 3, 3, 0, 0, 2, 3, 2, 0, 1, 3, 1, 3, 4, 2, 3, 0, 0, 1, 1, 1, 4, 5, 0, 3, 5, 1, 2, 3, 4, 4, 4, 0, 2, 5, 4, 0, 4, 4, 3, 1, 2, 0, 5, 5, 5, 5, 0, 2, 4, 3, 1, 4, 5, 0, 2, 2, 0, 3, 5, 2, 4, 5, 0, 5, 5, 1, 3, 2, 0, 5, 3, 1, 0, 1, 1, 1, 5, 5, 5, 5, 0, 2, 3, 1, 2, 0, 4, 4, 0, 5, 5, 4, 1, 4, 0, 0, 0, 3, 5, 5, 4, 0, 0, 4, 4, 2, 0, 5, 0, 0, 0, 0, 5, 5, 2, 5, 3, 1, 1, 1, 5, 4, 0, 0, 4, 1, 1, 5, 0, 0, 4, 3, 2, 4, 3, 4, 5, 2, 3, 0, 3, 3, 3, 3, 1, 3, 4, 2, 2, 1, 2, 1, 3, 5, 0, 3, 5, 1, 0, 1, 0, 3, 2, 0, 3, 4, 2, 0, 2, 4, 1, 3, 0, 3, 0, 0, 0, 1, 4, 4, 5, 2, 5, 1, 0, 0, 1, 2, 0, 2, 4, 0, 0, 1, 3, 5, 3, 1, 4, 2, 1, 2, 2, 1, 1, 3, 4, 5, 1, 3, 0, 3, 5, 4, 3, 4, 3, 5, 4, 3, 5, 2, 4, 1, 0, 2, 1, 2, 5, 0, 4, 2, 4, 3, 5, 1, 5, 0, 3, 3, 1, 5, 1, 2, 1, 2, 2, 4, 4, 2, 0, 1, 2, 3, 4, 2, 3, 4, 1, 2, 1, 4, 2, 2, 1, 0, 0, 4, 4, 2, 5, 2, 3, 3, 1, 0, 4, 2, 5, 4, 4, 4, 4, 3, 1, 0, 4, 4, 2, 2, 0, 1, 4, 0, 5, 1, 0, 3, 5, 3, 4, 2, 0, 1, 4, 0, 5, 3, 1, 4, 1, 4, 2, 4, 2, 3, 1, 3, 2, 0, 2, 3, 2, 5, 3, 1, 2, 2, 4, 3, 3, 0, 1, 1, 4, 3, 4, 2, 1, 5, 4, 5, 0, 1, 5, 0, 3, 4, 0, 1, 0, 4, 2, 0, 1, 0, 3, 5, 3, 0, 1, 2, 0, 4, 3, 3, 2, 0, 1, 1, 2, 1, 1, 2, 0, 0, 5, 1, 5, 0, 0, 3, 1, 4, 3, 0, 3, 1, 3, 4, 0, 3, 2, 1, 3, 2, 2, 0, 3, 0, 0, 4, 5, 0, 0, 2, 2, 2, 2, 0, 5, 1, 4, 3, 1, 1, 2, 0, 3, 2, 0, 5, 1, 5, 5, 2, 3, 0, 4, 1, 2, 4, 2, 3, 4, 1, 3, 1, 0, 0, 4, 1, 5, 2, 0, 4, 0, 3, 0, 5, 4, 0, 3, 5, 1, 2, 2, 4, 5, 2, 1, 0, 1, 4, 4, 0, 3, 2, 4, 0, 4, 4, 5, 4, 0, 5, 0, 0, 0, 5, 0, 4, 4, 4, 4, 0, 3, 3, 1, 1, 3, 0, 4, 1, 2, 2, 0, 5, 3, 0, 0, 2, 5, 2, 4, 5, 0, 4, 0, 5, 5, 1, 0, 2, 0, 2, 5, 3, 4, 1, 5, 1, 0, 5, 0, 5, 2, 4, 4, 4, 4, 4, 5, 1, 0, 3, 0, 0, 1, 1, 0, 4, 1, 2, 0, 5, 0, 3, 1, 5, 5, 5, 0, 0, 2, 1, 5, 1, 0, 5, 3, 4, 0, 4, 5, 5, 2, 4, 3, 3, 1, 5, 1, 4, 2, 2, 5, 2, 2, 5, 0, 1, 4, 5, 5, 2, 3, 3, 5, 0, 1, 1, 3, 5, 5, 4, 0, 4, 0, 3, 1, 1, 0, 5, 5, 3, 1, 3, 0, 3, 5, 3, 5, 5, 5, 1, 0, 2, 2, 5, 4, 0, 1, 0, 5, 4, 2, 5, 3, 5, 2, 5, 1, 5, 1, 2, 4, 2, 4, 2, 3, 3, 2, 2, 5, 5, 2, 0, 4, 2, 1, 2, 5, 3, 5, 0, 2, 1, 0, 2, 3, 5, 3, 0, 5, 5, 2, 2, 2, 3, 2, 5, 4, 2, 2, 1, 5, 4, 3, 1, 2, 2, 2, 2, 0, 2, 1, 2, 0, 5, 0, 0, 4, 5, 5, 4, 4, 3, 1, 4, 0, 4, 2, 1, 1, 4, 5, 2, 4, 1, 3, 0, 1, 4, 2, 3, 5, 2, 0, 2, 4, 3, 4, 3, 4, 5, 3, 5, 1, 3, 2, 2, 0, 5, 2, 1, 2, 4, 5, 1, 5, 0, 1, 2, 3, 2, 5, 0, 3, 1, 2, 0, 1, 4, 2, 5, 3, 0, 3, 0, 2, 0, 1, 0, 1, 0, 0, 0, 1, 4, 1, 2, 1, 3, 0, 1, 1, 4, 1, 1, 5, 4, 2, 0, 1, 4, 3, 2, 3, 2, 3, 4, 4, 2, 0, 1, 2, 2, 2, 5, 1, 3, 1, 0, 1, 4, 5, 4, 1, 0, 1, 3, 5, 3, 4, 3, 1, 2, 4, 0, 3, 0, 4, 2, 4, 1, 3, 4, 5, 0, 4, 2, 3, 2, 0, 3, 5, 3, 3, 3, 1, 1, 1, 0, 4, 0, 0, 4, 0, 0, 5, 4, 2, 0, 0, 2, 5, 5, 5, 4, 1, 4, 5, 0, 0, 3, 5, 3, 3, 0, 2, 0, 1, 2, 5, 3, 0, 0, 0, 2, 4, 1, 5, 3, 3, 4, 0, 3, 3, 1, 4, 5, 1, 1, 0, 0, 1, 2, 5, 0, 1, 2, 1, 5, 5, 5, 1, 0, 1, 1, 2, 3, 4, 4, 1, 4, 4, 0, 5, 1, 4, 5, 2, 1, 3, 4, 4, 3, 4, 2, 3, 1, 5, 5, 1, 5, 3, 4, 0, 4, 4, 5, 4, 0, 3, 1, 5, 2, 1, 2, 1, 2, 4, 0, 5, 0, 5, 4, 1, 1, 1, 0, 2, 5, 3, 3, 1, 1, 2, 2, 0, 2, 5, 4, 0, 4, 5, 3, 0, 0, 3, 3, 4, 2, 1, 1, 5, 3, 4, 3, 4, 2, 4, 0, 4, 1, 4, 4, 2, 4, 0, 3, 4, 1, 4, 5, 4, 0, 4, 5, 4, 4, 5, 5, 1, 5, 1, 2, 0, 5, 2, 4, 5, 2, 2, 2, 5, 4, 4, 1, 4, 0, 2, 1, 1, 3, 5, 0, 5, 4, 2, 4, 4, 4, 5, 3, 0, 3, 3, 5, 4, 0, 3, 0, 2, 0, 5, 5, 1, 3, 1, 1, 2, 1, 2, 5, 4, 5, 0, 3, 0, 4, 0, 0, 4, 4, 4, 1, 3, 3, 5, 5, 2, 5, 1, 3, 0, 0, 3, 4, 5, 4, 4, 4, 0, 1, 4, 1, 1, 2, 3, 3, 2, 5, 3, 4, 2, 2, 2, 0, 2, 3, 2, 5, 0, 5, 3, 0, 1, 4, 0, 4, 3, 0, 5, 2, 3, 4, 3, 3, 1, 4, 2, 3, 3, 1, 0, 1, 5, 2, 3, 1, 2, 1, 4, 5, 4, 3, 2, 1, 2, 0, 1, 4, 2, 5, 2, 0, 5, 3, 4, 5, 3, 0, 1, 0, 0, 0, 3, 1, 2, 3, 1, 4, 3, 2, 4, 2, 2, 1, 1, 2, 3, 2, 4, 3, 0, 0, 5, 2, 1, 2, 5, 5, 5, 3, 4, 4, 5, 1, 3, 0, 4, 5, 2, 5, 1, 5, 1, 5, 1, 0, 4, 5, 0, 4, 0, 4, 5, 3, 3, 0, 5, 0, 3, 2, 2, 5, 5, 3, 5, 2, 0, 1, 4, 1, 1, 3, 2, 4, 0, 4, 3, 2, 0, 2, 4, 3, 0]\n"
     ]
    }
   ],
   "source": [
    "print(X_test['label'].values.tolist())"
   ]
  },
  {
   "cell_type": "code",
   "execution_count": 72,
   "metadata": {
    "colab": {
     "base_uri": "https://localhost:8080/"
    },
    "executionInfo": {
     "elapsed": 287,
     "status": "ok",
     "timestamp": 1654571888164,
     "user": {
      "displayName": "Alex Kim",
      "userId": "14000404201898213847"
     },
     "user_tz": -540
    },
    "id": "zEbpC5fsKru3",
    "outputId": "a431aaff-c5c6-47fc-8d23-74c1745e3b03"
   },
   "outputs": [
    {
     "data": {
      "text/plain": [
       "False"
      ]
     },
     "execution_count": 72,
     "metadata": {},
     "output_type": "execute_result"
    }
   ],
   "source": [
    "predicted_a == X_test['label'].values.tolist()"
   ]
  },
  {
   "cell_type": "code",
   "execution_count": 73,
   "metadata": {
    "executionInfo": {
     "elapsed": 274,
     "status": "ok",
     "timestamp": 1654571961189,
     "user": {
      "displayName": "Alex Kim",
      "userId": "14000404201898213847"
     },
     "user_tz": -540
    },
    "id": "FB2x7Wg4K2sI"
   },
   "outputs": [],
   "source": [
    "answer = 0\n",
    "for x, y in zip(predicted_a, X_test['label'].values.tolist()):\n",
    "  if x == y:\n",
    "    answer += 1\n"
   ]
  },
  {
   "cell_type": "code",
   "execution_count": 75,
   "metadata": {
    "colab": {
     "base_uri": "https://localhost:8080/"
    },
    "executionInfo": {
     "elapsed": 272,
     "status": "ok",
     "timestamp": 1654571978103,
     "user": {
      "displayName": "Alex Kim",
      "userId": "14000404201898213847"
     },
     "user_tz": -540
    },
    "id": "PSjhDj_jLIgk",
    "outputId": "0e669435-8891-4c0f-d300-eed73ea7b921"
   },
   "outputs": [
    {
     "data": {
      "text/plain": [
       "0.9165673420738975"
      ]
     },
     "execution_count": 75,
     "metadata": {},
     "output_type": "execute_result"
    }
   ],
   "source": [
    "answer/len(predicted_a)"
   ]
  }
 ],
 "metadata": {
  "accelerator": "GPU",
  "colab": {
   "authorship_tag": "ABX9TyOk+uZHOu52gPcXlPp6Upy9",
   "background_execution": "on",
   "mount_file_id": "1_9BJpNinkWvX1beRQs2EaE4Ai6LhBNCH",
   "name": "plz_comple.ipynb의 사본의 사본",
   "provenance": [
    {
     "file_id": "1c8ylimQfN5n_4Vlg9qHnn7WRM-rQeL2R",
     "timestamp": 1654564847575
    },
    {
     "file_id": "1_9BJpNinkWvX1beRQs2EaE4Ai6LhBNCH",
     "timestamp": 1652706463974
    }
   ]
  },
  "kernelspec": {
   "display_name": "Python 3 (ipykernel)",
   "language": "python",
   "name": "python3"
  },
  "language_info": {
   "codemirror_mode": {
    "name": "ipython",
    "version": 3
   },
   "file_extension": ".py",
   "mimetype": "text/x-python",
   "name": "python",
   "nbconvert_exporter": "python",
   "pygments_lexer": "ipython3",
   "version": "3.9.7"
  },
  "widgets": {
   "application/vnd.jupyter.widget-state+json": {
    "0a800c5a461d45c1bbb438e9c4785a01": {
     "model_module": "@jupyter-widgets/base",
     "model_module_version": "1.2.0",
     "model_name": "LayoutModel",
     "state": {
      "_model_module": "@jupyter-widgets/base",
      "_model_module_version": "1.2.0",
      "_model_name": "LayoutModel",
      "_view_count": null,
      "_view_module": "@jupyter-widgets/base",
      "_view_module_version": "1.2.0",
      "_view_name": "LayoutView",
      "align_content": null,
      "align_items": null,
      "align_self": null,
      "border": null,
      "bottom": null,
      "display": null,
      "flex": null,
      "flex_flow": null,
      "grid_area": null,
      "grid_auto_columns": null,
      "grid_auto_flow": null,
      "grid_auto_rows": null,
      "grid_column": null,
      "grid_gap": null,
      "grid_row": null,
      "grid_template_areas": null,
      "grid_template_columns": null,
      "grid_template_rows": null,
      "height": null,
      "justify_content": null,
      "justify_items": null,
      "left": null,
      "margin": null,
      "max_height": null,
      "max_width": null,
      "min_height": null,
      "min_width": null,
      "object_fit": null,
      "object_position": null,
      "order": null,
      "overflow": null,
      "overflow_x": null,
      "overflow_y": null,
      "padding": null,
      "right": null,
      "top": null,
      "visibility": null,
      "width": null
     }
    },
    "0d893442558b4110be13eccce90b3c3d": {
     "model_module": "@jupyter-widgets/base",
     "model_module_version": "1.2.0",
     "model_name": "LayoutModel",
     "state": {
      "_model_module": "@jupyter-widgets/base",
      "_model_module_version": "1.2.0",
      "_model_name": "LayoutModel",
      "_view_count": null,
      "_view_module": "@jupyter-widgets/base",
      "_view_module_version": "1.2.0",
      "_view_name": "LayoutView",
      "align_content": null,
      "align_items": null,
      "align_self": null,
      "border": null,
      "bottom": null,
      "display": null,
      "flex": null,
      "flex_flow": null,
      "grid_area": null,
      "grid_auto_columns": null,
      "grid_auto_flow": null,
      "grid_auto_rows": null,
      "grid_column": null,
      "grid_gap": null,
      "grid_row": null,
      "grid_template_areas": null,
      "grid_template_columns": null,
      "grid_template_rows": null,
      "height": null,
      "justify_content": null,
      "justify_items": null,
      "left": null,
      "margin": null,
      "max_height": null,
      "max_width": null,
      "min_height": null,
      "min_width": null,
      "object_fit": null,
      "object_position": null,
      "order": null,
      "overflow": null,
      "overflow_x": null,
      "overflow_y": null,
      "padding": null,
      "right": null,
      "top": null,
      "visibility": null,
      "width": null
     }
    },
    "13de7d3031f94189b73f2da73b6d5d37": {
     "model_module": "@jupyter-widgets/controls",
     "model_module_version": "1.5.0",
     "model_name": "FloatProgressModel",
     "state": {
      "_dom_classes": [],
      "_model_module": "@jupyter-widgets/controls",
      "_model_module_version": "1.5.0",
      "_model_name": "FloatProgressModel",
      "_view_count": null,
      "_view_module": "@jupyter-widgets/controls",
      "_view_module_version": "1.5.0",
      "_view_name": "ProgressView",
      "bar_style": "success",
      "description": "",
      "description_tooltip": null,
      "layout": "IPY_MODEL_6b5d926866b342f190f55f8637e7559e",
      "max": 1678,
      "min": 0,
      "orientation": "horizontal",
      "style": "IPY_MODEL_708714bc8af04bbe9811d510b0b5abdc",
      "value": 1678
     }
    },
    "15dcc8a709ee4d518a3051f19d22ff34": {
     "model_module": "@jupyter-widgets/controls",
     "model_module_version": "1.5.0",
     "model_name": "HTMLModel",
     "state": {
      "_dom_classes": [],
      "_model_module": "@jupyter-widgets/controls",
      "_model_module_version": "1.5.0",
      "_model_name": "HTMLModel",
      "_view_count": null,
      "_view_module": "@jupyter-widgets/controls",
      "_view_module_version": "1.5.0",
      "_view_name": "HTMLView",
      "description": "",
      "description_tooltip": null,
      "layout": "IPY_MODEL_19a78f10700e45a7932f793261d7cffa",
      "placeholder": "​",
      "style": "IPY_MODEL_c3898cb6748d47578942e4a97b81dddb",
      "value": " 105/105 [00:39&lt;00:00,  2.78it/s]"
     }
    },
    "17f6c19f24d9451db5051c666475e098": {
     "model_module": "@jupyter-widgets/controls",
     "model_module_version": "1.5.0",
     "model_name": "ProgressStyleModel",
     "state": {
      "_model_module": "@jupyter-widgets/controls",
      "_model_module_version": "1.5.0",
      "_model_name": "ProgressStyleModel",
      "_view_count": null,
      "_view_module": "@jupyter-widgets/base",
      "_view_module_version": "1.2.0",
      "_view_name": "StyleView",
      "bar_color": null,
      "description_width": ""
     }
    },
    "19a78f10700e45a7932f793261d7cffa": {
     "model_module": "@jupyter-widgets/base",
     "model_module_version": "1.2.0",
     "model_name": "LayoutModel",
     "state": {
      "_model_module": "@jupyter-widgets/base",
      "_model_module_version": "1.2.0",
      "_model_name": "LayoutModel",
      "_view_count": null,
      "_view_module": "@jupyter-widgets/base",
      "_view_module_version": "1.2.0",
      "_view_name": "LayoutView",
      "align_content": null,
      "align_items": null,
      "align_self": null,
      "border": null,
      "bottom": null,
      "display": null,
      "flex": null,
      "flex_flow": null,
      "grid_area": null,
      "grid_auto_columns": null,
      "grid_auto_flow": null,
      "grid_auto_rows": null,
      "grid_column": null,
      "grid_gap": null,
      "grid_row": null,
      "grid_template_areas": null,
      "grid_template_columns": null,
      "grid_template_rows": null,
      "height": null,
      "justify_content": null,
      "justify_items": null,
      "left": null,
      "margin": null,
      "max_height": null,
      "max_width": null,
      "min_height": null,
      "min_width": null,
      "object_fit": null,
      "object_position": null,
      "order": null,
      "overflow": null,
      "overflow_x": null,
      "overflow_y": null,
      "padding": null,
      "right": null,
      "top": null,
      "visibility": null,
      "width": null
     }
    },
    "1c6a6d78c42d4565a9eba6e993d2cd09": {
     "model_module": "@jupyter-widgets/controls",
     "model_module_version": "1.5.0",
     "model_name": "HTMLModel",
     "state": {
      "_dom_classes": [],
      "_model_module": "@jupyter-widgets/controls",
      "_model_module_version": "1.5.0",
      "_model_name": "HTMLModel",
      "_view_count": null,
      "_view_module": "@jupyter-widgets/controls",
      "_view_module_version": "1.5.0",
      "_view_name": "HTMLView",
      "description": "",
      "description_tooltip": null,
      "layout": "IPY_MODEL_d6c5c38a67ed48caa4d3397ccc898b8d",
      "placeholder": "​",
      "style": "IPY_MODEL_76b5b6e3ef334bc7b8d1fb01d4979e9d",
      "value": "100%"
     }
    },
    "275b68cca3824e7fb153cdea80b49fd3": {
     "model_module": "@jupyter-widgets/base",
     "model_module_version": "1.2.0",
     "model_name": "LayoutModel",
     "state": {
      "_model_module": "@jupyter-widgets/base",
      "_model_module_version": "1.2.0",
      "_model_name": "LayoutModel",
      "_view_count": null,
      "_view_module": "@jupyter-widgets/base",
      "_view_module_version": "1.2.0",
      "_view_name": "LayoutView",
      "align_content": null,
      "align_items": null,
      "align_self": null,
      "border": null,
      "bottom": null,
      "display": null,
      "flex": null,
      "flex_flow": null,
      "grid_area": null,
      "grid_auto_columns": null,
      "grid_auto_flow": null,
      "grid_auto_rows": null,
      "grid_column": null,
      "grid_gap": null,
      "grid_row": null,
      "grid_template_areas": null,
      "grid_template_columns": null,
      "grid_template_rows": null,
      "height": null,
      "justify_content": null,
      "justify_items": null,
      "left": null,
      "margin": null,
      "max_height": null,
      "max_width": null,
      "min_height": null,
      "min_width": null,
      "object_fit": null,
      "object_position": null,
      "order": null,
      "overflow": null,
      "overflow_x": null,
      "overflow_y": null,
      "padding": null,
      "right": null,
      "top": null,
      "visibility": null,
      "width": null
     }
    },
    "28a7f85d0c1d4f6a94d3a590ec156580": {
     "model_module": "@jupyter-widgets/controls",
     "model_module_version": "1.5.0",
     "model_name": "DescriptionStyleModel",
     "state": {
      "_model_module": "@jupyter-widgets/controls",
      "_model_module_version": "1.5.0",
      "_model_name": "DescriptionStyleModel",
      "_view_count": null,
      "_view_module": "@jupyter-widgets/base",
      "_view_module_version": "1.2.0",
      "_view_name": "StyleView",
      "description_width": ""
     }
    },
    "2b639edc0a2c46adb7861ef592a91084": {
     "model_module": "@jupyter-widgets/base",
     "model_module_version": "1.2.0",
     "model_name": "LayoutModel",
     "state": {
      "_model_module": "@jupyter-widgets/base",
      "_model_module_version": "1.2.0",
      "_model_name": "LayoutModel",
      "_view_count": null,
      "_view_module": "@jupyter-widgets/base",
      "_view_module_version": "1.2.0",
      "_view_name": "LayoutView",
      "align_content": null,
      "align_items": null,
      "align_self": null,
      "border": null,
      "bottom": null,
      "display": null,
      "flex": null,
      "flex_flow": null,
      "grid_area": null,
      "grid_auto_columns": null,
      "grid_auto_flow": null,
      "grid_auto_rows": null,
      "grid_column": null,
      "grid_gap": null,
      "grid_row": null,
      "grid_template_areas": null,
      "grid_template_columns": null,
      "grid_template_rows": null,
      "height": null,
      "justify_content": null,
      "justify_items": null,
      "left": null,
      "margin": null,
      "max_height": null,
      "max_width": null,
      "min_height": null,
      "min_width": null,
      "object_fit": null,
      "object_position": null,
      "order": null,
      "overflow": null,
      "overflow_x": null,
      "overflow_y": null,
      "padding": null,
      "right": null,
      "top": null,
      "visibility": null,
      "width": null
     }
    },
    "2ce71ef7785b4d20b6de4915a142f6e3": {
     "model_module": "@jupyter-widgets/base",
     "model_module_version": "1.2.0",
     "model_name": "LayoutModel",
     "state": {
      "_model_module": "@jupyter-widgets/base",
      "_model_module_version": "1.2.0",
      "_model_name": "LayoutModel",
      "_view_count": null,
      "_view_module": "@jupyter-widgets/base",
      "_view_module_version": "1.2.0",
      "_view_name": "LayoutView",
      "align_content": null,
      "align_items": null,
      "align_self": null,
      "border": null,
      "bottom": null,
      "display": null,
      "flex": null,
      "flex_flow": null,
      "grid_area": null,
      "grid_auto_columns": null,
      "grid_auto_flow": null,
      "grid_auto_rows": null,
      "grid_column": null,
      "grid_gap": null,
      "grid_row": null,
      "grid_template_areas": null,
      "grid_template_columns": null,
      "grid_template_rows": null,
      "height": null,
      "justify_content": null,
      "justify_items": null,
      "left": null,
      "margin": null,
      "max_height": null,
      "max_width": null,
      "min_height": null,
      "min_width": null,
      "object_fit": null,
      "object_position": null,
      "order": null,
      "overflow": null,
      "overflow_x": null,
      "overflow_y": null,
      "padding": null,
      "right": null,
      "top": null,
      "visibility": null,
      "width": null
     }
    },
    "2e7dc483f4f64417b0c7918ce410c835": {
     "model_module": "@jupyter-widgets/base",
     "model_module_version": "1.2.0",
     "model_name": "LayoutModel",
     "state": {
      "_model_module": "@jupyter-widgets/base",
      "_model_module_version": "1.2.0",
      "_model_name": "LayoutModel",
      "_view_count": null,
      "_view_module": "@jupyter-widgets/base",
      "_view_module_version": "1.2.0",
      "_view_name": "LayoutView",
      "align_content": null,
      "align_items": null,
      "align_self": null,
      "border": null,
      "bottom": null,
      "display": null,
      "flex": null,
      "flex_flow": null,
      "grid_area": null,
      "grid_auto_columns": null,
      "grid_auto_flow": null,
      "grid_auto_rows": null,
      "grid_column": null,
      "grid_gap": null,
      "grid_row": null,
      "grid_template_areas": null,
      "grid_template_columns": null,
      "grid_template_rows": null,
      "height": null,
      "justify_content": null,
      "justify_items": null,
      "left": null,
      "margin": null,
      "max_height": null,
      "max_width": null,
      "min_height": null,
      "min_width": null,
      "object_fit": null,
      "object_position": null,
      "order": null,
      "overflow": null,
      "overflow_x": null,
      "overflow_y": null,
      "padding": null,
      "right": null,
      "top": null,
      "visibility": null,
      "width": null
     }
    },
    "35e7d2bbd2024ad9b842c21292ceb2c0": {
     "model_module": "@jupyter-widgets/base",
     "model_module_version": "1.2.0",
     "model_name": "LayoutModel",
     "state": {
      "_model_module": "@jupyter-widgets/base",
      "_model_module_version": "1.2.0",
      "_model_name": "LayoutModel",
      "_view_count": null,
      "_view_module": "@jupyter-widgets/base",
      "_view_module_version": "1.2.0",
      "_view_name": "LayoutView",
      "align_content": null,
      "align_items": null,
      "align_self": null,
      "border": null,
      "bottom": null,
      "display": null,
      "flex": null,
      "flex_flow": null,
      "grid_area": null,
      "grid_auto_columns": null,
      "grid_auto_flow": null,
      "grid_auto_rows": null,
      "grid_column": null,
      "grid_gap": null,
      "grid_row": null,
      "grid_template_areas": null,
      "grid_template_columns": null,
      "grid_template_rows": null,
      "height": null,
      "justify_content": null,
      "justify_items": null,
      "left": null,
      "margin": null,
      "max_height": null,
      "max_width": null,
      "min_height": null,
      "min_width": null,
      "object_fit": null,
      "object_position": null,
      "order": null,
      "overflow": null,
      "overflow_x": null,
      "overflow_y": null,
      "padding": null,
      "right": null,
      "top": null,
      "visibility": null,
      "width": null
     }
    },
    "3a4a635bd24c4466be63e755ed3a0fd6": {
     "model_module": "@jupyter-widgets/controls",
     "model_module_version": "1.5.0",
     "model_name": "ProgressStyleModel",
     "state": {
      "_model_module": "@jupyter-widgets/controls",
      "_model_module_version": "1.5.0",
      "_model_name": "ProgressStyleModel",
      "_view_count": null,
      "_view_module": "@jupyter-widgets/base",
      "_view_module_version": "1.2.0",
      "_view_name": "StyleView",
      "bar_color": null,
      "description_width": ""
     }
    },
    "3a7021aa88f94ddc9c753c6ae6c9987e": {
     "model_module": "@jupyter-widgets/controls",
     "model_module_version": "1.5.0",
     "model_name": "HTMLModel",
     "state": {
      "_dom_classes": [],
      "_model_module": "@jupyter-widgets/controls",
      "_model_module_version": "1.5.0",
      "_model_name": "HTMLModel",
      "_view_count": null,
      "_view_module": "@jupyter-widgets/controls",
      "_view_module_version": "1.5.0",
      "_view_name": "HTMLView",
      "description": "",
      "description_tooltip": null,
      "layout": "IPY_MODEL_68566428b9d648e8a038c88e02a0b42a",
      "placeholder": "​",
      "style": "IPY_MODEL_3e51e0ce7c604e6184320ca6a4007386",
      "value": "100%"
     }
    },
    "3cbac19b34a4482b96e1b1252a2dd373": {
     "model_module": "@jupyter-widgets/controls",
     "model_module_version": "1.5.0",
     "model_name": "ProgressStyleModel",
     "state": {
      "_model_module": "@jupyter-widgets/controls",
      "_model_module_version": "1.5.0",
      "_model_name": "ProgressStyleModel",
      "_view_count": null,
      "_view_module": "@jupyter-widgets/base",
      "_view_module_version": "1.2.0",
      "_view_name": "StyleView",
      "bar_color": null,
      "description_width": ""
     }
    },
    "3dba7e21cb0041519df29f9d28929be0": {
     "model_module": "@jupyter-widgets/controls",
     "model_module_version": "1.5.0",
     "model_name": "HTMLModel",
     "state": {
      "_dom_classes": [],
      "_model_module": "@jupyter-widgets/controls",
      "_model_module_version": "1.5.0",
      "_model_name": "HTMLModel",
      "_view_count": null,
      "_view_module": "@jupyter-widgets/controls",
      "_view_module_version": "1.5.0",
      "_view_name": "HTMLView",
      "description": "",
      "description_tooltip": null,
      "layout": "IPY_MODEL_983d260252fc44378b97cd41d698186a",
      "placeholder": "​",
      "style": "IPY_MODEL_ceea53acd8344adb867adfab6b8ebfac",
      "value": " 475M/475M [00:08&lt;00:00, 62.7MB/s]"
     }
    },
    "3e51e0ce7c604e6184320ca6a4007386": {
     "model_module": "@jupyter-widgets/controls",
     "model_module_version": "1.5.0",
     "model_name": "DescriptionStyleModel",
     "state": {
      "_model_module": "@jupyter-widgets/controls",
      "_model_module_version": "1.5.0",
      "_model_name": "DescriptionStyleModel",
      "_view_count": null,
      "_view_module": "@jupyter-widgets/base",
      "_view_module_version": "1.2.0",
      "_view_name": "StyleView",
      "description_width": ""
     }
    },
    "405f547f915849c6908341314053b5cc": {
     "model_module": "@jupyter-widgets/controls",
     "model_module_version": "1.5.0",
     "model_name": "HTMLModel",
     "state": {
      "_dom_classes": [],
      "_model_module": "@jupyter-widgets/controls",
      "_model_module_version": "1.5.0",
      "_model_name": "HTMLModel",
      "_view_count": null,
      "_view_module": "@jupyter-widgets/controls",
      "_view_module_version": "1.5.0",
      "_view_name": "HTMLView",
      "description": "",
      "description_tooltip": null,
      "layout": "IPY_MODEL_2b639edc0a2c46adb7861ef592a91084",
      "placeholder": "​",
      "style": "IPY_MODEL_91639c5c59f945f0bcd0a070aa1b5782",
      "value": "100%"
     }
    },
    "40daf8c074504c01852fd0a659d22167": {
     "model_module": "@jupyter-widgets/base",
     "model_module_version": "1.2.0",
     "model_name": "LayoutModel",
     "state": {
      "_model_module": "@jupyter-widgets/base",
      "_model_module_version": "1.2.0",
      "_model_name": "LayoutModel",
      "_view_count": null,
      "_view_module": "@jupyter-widgets/base",
      "_view_module_version": "1.2.0",
      "_view_name": "LayoutView",
      "align_content": null,
      "align_items": null,
      "align_self": null,
      "border": null,
      "bottom": null,
      "display": null,
      "flex": null,
      "flex_flow": null,
      "grid_area": null,
      "grid_auto_columns": null,
      "grid_auto_flow": null,
      "grid_auto_rows": null,
      "grid_column": null,
      "grid_gap": null,
      "grid_row": null,
      "grid_template_areas": null,
      "grid_template_columns": null,
      "grid_template_rows": null,
      "height": null,
      "justify_content": null,
      "justify_items": null,
      "left": null,
      "margin": null,
      "max_height": null,
      "max_width": null,
      "min_height": null,
      "min_width": null,
      "object_fit": null,
      "object_position": null,
      "order": null,
      "overflow": null,
      "overflow_x": null,
      "overflow_y": null,
      "padding": null,
      "right": null,
      "top": null,
      "visibility": null,
      "width": null
     }
    },
    "46a0b26e0ec0453089eceb07b6fc45ea": {
     "model_module": "@jupyter-widgets/controls",
     "model_module_version": "1.5.0",
     "model_name": "HTMLModel",
     "state": {
      "_dom_classes": [],
      "_model_module": "@jupyter-widgets/controls",
      "_model_module_version": "1.5.0",
      "_model_name": "HTMLModel",
      "_view_count": null,
      "_view_module": "@jupyter-widgets/controls",
      "_view_module_version": "1.5.0",
      "_view_name": "HTMLView",
      "description": "",
      "description_tooltip": null,
      "layout": "IPY_MODEL_2e7dc483f4f64417b0c7918ce410c835",
      "placeholder": "​",
      "style": "IPY_MODEL_fdc41203415945398aed1dc2990a0660",
      "value": " 105/105 [00:39&lt;00:00,  2.79it/s]"
     }
    },
    "4aae25b11d2c4a2296c9e064fda62489": {
     "model_module": "@jupyter-widgets/controls",
     "model_module_version": "1.5.0",
     "model_name": "DescriptionStyleModel",
     "state": {
      "_model_module": "@jupyter-widgets/controls",
      "_model_module_version": "1.5.0",
      "_model_name": "DescriptionStyleModel",
      "_view_count": null,
      "_view_module": "@jupyter-widgets/base",
      "_view_module_version": "1.2.0",
      "_view_name": "StyleView",
      "description_width": ""
     }
    },
    "535d6e617e174692a50156230c5af036": {
     "model_module": "@jupyter-widgets/base",
     "model_module_version": "1.2.0",
     "model_name": "LayoutModel",
     "state": {
      "_model_module": "@jupyter-widgets/base",
      "_model_module_version": "1.2.0",
      "_model_name": "LayoutModel",
      "_view_count": null,
      "_view_module": "@jupyter-widgets/base",
      "_view_module_version": "1.2.0",
      "_view_name": "LayoutView",
      "align_content": null,
      "align_items": null,
      "align_self": null,
      "border": null,
      "bottom": null,
      "display": null,
      "flex": null,
      "flex_flow": null,
      "grid_area": null,
      "grid_auto_columns": null,
      "grid_auto_flow": null,
      "grid_auto_rows": null,
      "grid_column": null,
      "grid_gap": null,
      "grid_row": null,
      "grid_template_areas": null,
      "grid_template_columns": null,
      "grid_template_rows": null,
      "height": null,
      "justify_content": null,
      "justify_items": null,
      "left": null,
      "margin": null,
      "max_height": null,
      "max_width": null,
      "min_height": null,
      "min_width": null,
      "object_fit": null,
      "object_position": null,
      "order": null,
      "overflow": null,
      "overflow_x": null,
      "overflow_y": null,
      "padding": null,
      "right": null,
      "top": null,
      "visibility": null,
      "width": null
     }
    },
    "53687a88d8fd482eae9a917da3b96cca": {
     "model_module": "@jupyter-widgets/base",
     "model_module_version": "1.2.0",
     "model_name": "LayoutModel",
     "state": {
      "_model_module": "@jupyter-widgets/base",
      "_model_module_version": "1.2.0",
      "_model_name": "LayoutModel",
      "_view_count": null,
      "_view_module": "@jupyter-widgets/base",
      "_view_module_version": "1.2.0",
      "_view_name": "LayoutView",
      "align_content": null,
      "align_items": null,
      "align_self": null,
      "border": null,
      "bottom": null,
      "display": null,
      "flex": null,
      "flex_flow": null,
      "grid_area": null,
      "grid_auto_columns": null,
      "grid_auto_flow": null,
      "grid_auto_rows": null,
      "grid_column": null,
      "grid_gap": null,
      "grid_row": null,
      "grid_template_areas": null,
      "grid_template_columns": null,
      "grid_template_rows": null,
      "height": null,
      "justify_content": null,
      "justify_items": null,
      "left": null,
      "margin": null,
      "max_height": null,
      "max_width": null,
      "min_height": null,
      "min_width": null,
      "object_fit": null,
      "object_position": null,
      "order": null,
      "overflow": null,
      "overflow_x": null,
      "overflow_y": null,
      "padding": null,
      "right": null,
      "top": null,
      "visibility": null,
      "width": null
     }
    },
    "5b314386a7be47799408fcb54f52ba37": {
     "model_module": "@jupyter-widgets/controls",
     "model_module_version": "1.5.0",
     "model_name": "HBoxModel",
     "state": {
      "_dom_classes": [],
      "_model_module": "@jupyter-widgets/controls",
      "_model_module_version": "1.5.0",
      "_model_name": "HBoxModel",
      "_view_count": null,
      "_view_module": "@jupyter-widgets/controls",
      "_view_module_version": "1.5.0",
      "_view_name": "HBoxView",
      "box_style": "",
      "children": [
       "IPY_MODEL_92fce6c70d3f4934a266ca3a1ec471c2",
       "IPY_MODEL_fb33180dea624777b6745498bf8fcc4a",
       "IPY_MODEL_46a0b26e0ec0453089eceb07b6fc45ea"
      ],
      "layout": "IPY_MODEL_8d2dfaea6236498fabcab5cd64401d9b"
     }
    },
    "5db4357708ca43c19b870a8a4b72c3d0": {
     "model_module": "@jupyter-widgets/controls",
     "model_module_version": "1.5.0",
     "model_name": "ProgressStyleModel",
     "state": {
      "_model_module": "@jupyter-widgets/controls",
      "_model_module_version": "1.5.0",
      "_model_name": "ProgressStyleModel",
      "_view_count": null,
      "_view_module": "@jupyter-widgets/base",
      "_view_module_version": "1.2.0",
      "_view_name": "StyleView",
      "bar_color": null,
      "description_width": ""
     }
    },
    "5ecd04f9b6304e739b7aa4265ee3a87d": {
     "model_module": "@jupyter-widgets/base",
     "model_module_version": "1.2.0",
     "model_name": "LayoutModel",
     "state": {
      "_model_module": "@jupyter-widgets/base",
      "_model_module_version": "1.2.0",
      "_model_name": "LayoutModel",
      "_view_count": null,
      "_view_module": "@jupyter-widgets/base",
      "_view_module_version": "1.2.0",
      "_view_name": "LayoutView",
      "align_content": null,
      "align_items": null,
      "align_self": null,
      "border": null,
      "bottom": null,
      "display": null,
      "flex": null,
      "flex_flow": null,
      "grid_area": null,
      "grid_auto_columns": null,
      "grid_auto_flow": null,
      "grid_auto_rows": null,
      "grid_column": null,
      "grid_gap": null,
      "grid_row": null,
      "grid_template_areas": null,
      "grid_template_columns": null,
      "grid_template_rows": null,
      "height": null,
      "justify_content": null,
      "justify_items": null,
      "left": null,
      "margin": null,
      "max_height": null,
      "max_width": null,
      "min_height": null,
      "min_width": null,
      "object_fit": null,
      "object_position": null,
      "order": null,
      "overflow": null,
      "overflow_x": null,
      "overflow_y": null,
      "padding": null,
      "right": null,
      "top": null,
      "visibility": null,
      "width": null
     }
    },
    "68566428b9d648e8a038c88e02a0b42a": {
     "model_module": "@jupyter-widgets/base",
     "model_module_version": "1.2.0",
     "model_name": "LayoutModel",
     "state": {
      "_model_module": "@jupyter-widgets/base",
      "_model_module_version": "1.2.0",
      "_model_name": "LayoutModel",
      "_view_count": null,
      "_view_module": "@jupyter-widgets/base",
      "_view_module_version": "1.2.0",
      "_view_name": "LayoutView",
      "align_content": null,
      "align_items": null,
      "align_self": null,
      "border": null,
      "bottom": null,
      "display": null,
      "flex": null,
      "flex_flow": null,
      "grid_area": null,
      "grid_auto_columns": null,
      "grid_auto_flow": null,
      "grid_auto_rows": null,
      "grid_column": null,
      "grid_gap": null,
      "grid_row": null,
      "grid_template_areas": null,
      "grid_template_columns": null,
      "grid_template_rows": null,
      "height": null,
      "justify_content": null,
      "justify_items": null,
      "left": null,
      "margin": null,
      "max_height": null,
      "max_width": null,
      "min_height": null,
      "min_width": null,
      "object_fit": null,
      "object_position": null,
      "order": null,
      "overflow": null,
      "overflow_x": null,
      "overflow_y": null,
      "padding": null,
      "right": null,
      "top": null,
      "visibility": null,
      "width": null
     }
    },
    "6985402a5b6d45fea35af949b42d9adb": {
     "model_module": "@jupyter-widgets/base",
     "model_module_version": "1.2.0",
     "model_name": "LayoutModel",
     "state": {
      "_model_module": "@jupyter-widgets/base",
      "_model_module_version": "1.2.0",
      "_model_name": "LayoutModel",
      "_view_count": null,
      "_view_module": "@jupyter-widgets/base",
      "_view_module_version": "1.2.0",
      "_view_name": "LayoutView",
      "align_content": null,
      "align_items": null,
      "align_self": null,
      "border": null,
      "bottom": null,
      "display": null,
      "flex": null,
      "flex_flow": null,
      "grid_area": null,
      "grid_auto_columns": null,
      "grid_auto_flow": null,
      "grid_auto_rows": null,
      "grid_column": null,
      "grid_gap": null,
      "grid_row": null,
      "grid_template_areas": null,
      "grid_template_columns": null,
      "grid_template_rows": null,
      "height": null,
      "justify_content": null,
      "justify_items": null,
      "left": null,
      "margin": null,
      "max_height": null,
      "max_width": null,
      "min_height": null,
      "min_width": null,
      "object_fit": null,
      "object_position": null,
      "order": null,
      "overflow": null,
      "overflow_x": null,
      "overflow_y": null,
      "padding": null,
      "right": null,
      "top": null,
      "visibility": null,
      "width": null
     }
    },
    "6b5d926866b342f190f55f8637e7559e": {
     "model_module": "@jupyter-widgets/base",
     "model_module_version": "1.2.0",
     "model_name": "LayoutModel",
     "state": {
      "_model_module": "@jupyter-widgets/base",
      "_model_module_version": "1.2.0",
      "_model_name": "LayoutModel",
      "_view_count": null,
      "_view_module": "@jupyter-widgets/base",
      "_view_module_version": "1.2.0",
      "_view_name": "LayoutView",
      "align_content": null,
      "align_items": null,
      "align_self": null,
      "border": null,
      "bottom": null,
      "display": null,
      "flex": null,
      "flex_flow": null,
      "grid_area": null,
      "grid_auto_columns": null,
      "grid_auto_flow": null,
      "grid_auto_rows": null,
      "grid_column": null,
      "grid_gap": null,
      "grid_row": null,
      "grid_template_areas": null,
      "grid_template_columns": null,
      "grid_template_rows": null,
      "height": null,
      "justify_content": null,
      "justify_items": null,
      "left": null,
      "margin": null,
      "max_height": null,
      "max_width": null,
      "min_height": null,
      "min_width": null,
      "object_fit": null,
      "object_position": null,
      "order": null,
      "overflow": null,
      "overflow_x": null,
      "overflow_y": null,
      "padding": null,
      "right": null,
      "top": null,
      "visibility": null,
      "width": null
     }
    },
    "6c554f676c934ee48fc9e8229af8da11": {
     "model_module": "@jupyter-widgets/controls",
     "model_module_version": "1.5.0",
     "model_name": "FloatProgressModel",
     "state": {
      "_dom_classes": [],
      "_model_module": "@jupyter-widgets/controls",
      "_model_module_version": "1.5.0",
      "_model_name": "FloatProgressModel",
      "_view_count": null,
      "_view_module": "@jupyter-widgets/controls",
      "_view_module_version": "1.5.0",
      "_view_name": "ProgressView",
      "bar_style": "success",
      "description": "",
      "description_tooltip": null,
      "layout": "IPY_MODEL_f920f15c3fde49be857b459444ac8f58",
      "max": 498271049,
      "min": 0,
      "orientation": "horizontal",
      "style": "IPY_MODEL_5db4357708ca43c19b870a8a4b72c3d0",
      "value": 498271049
     }
    },
    "708714bc8af04bbe9811d510b0b5abdc": {
     "model_module": "@jupyter-widgets/controls",
     "model_module_version": "1.5.0",
     "model_name": "ProgressStyleModel",
     "state": {
      "_model_module": "@jupyter-widgets/controls",
      "_model_module_version": "1.5.0",
      "_model_name": "ProgressStyleModel",
      "_view_count": null,
      "_view_module": "@jupyter-widgets/base",
      "_view_module_version": "1.2.0",
      "_view_name": "StyleView",
      "bar_color": null,
      "description_width": ""
     }
    },
    "7555055221a14bd88129c6cc85e76d68": {
     "model_module": "@jupyter-widgets/base",
     "model_module_version": "1.2.0",
     "model_name": "LayoutModel",
     "state": {
      "_model_module": "@jupyter-widgets/base",
      "_model_module_version": "1.2.0",
      "_model_name": "LayoutModel",
      "_view_count": null,
      "_view_module": "@jupyter-widgets/base",
      "_view_module_version": "1.2.0",
      "_view_name": "LayoutView",
      "align_content": null,
      "align_items": null,
      "align_self": null,
      "border": null,
      "bottom": null,
      "display": null,
      "flex": null,
      "flex_flow": null,
      "grid_area": null,
      "grid_auto_columns": null,
      "grid_auto_flow": null,
      "grid_auto_rows": null,
      "grid_column": null,
      "grid_gap": null,
      "grid_row": null,
      "grid_template_areas": null,
      "grid_template_columns": null,
      "grid_template_rows": null,
      "height": null,
      "justify_content": null,
      "justify_items": null,
      "left": null,
      "margin": null,
      "max_height": null,
      "max_width": null,
      "min_height": null,
      "min_width": null,
      "object_fit": null,
      "object_position": null,
      "order": null,
      "overflow": null,
      "overflow_x": null,
      "overflow_y": null,
      "padding": null,
      "right": null,
      "top": null,
      "visibility": null,
      "width": null
     }
    },
    "76b5b6e3ef334bc7b8d1fb01d4979e9d": {
     "model_module": "@jupyter-widgets/controls",
     "model_module_version": "1.5.0",
     "model_name": "DescriptionStyleModel",
     "state": {
      "_model_module": "@jupyter-widgets/controls",
      "_model_module_version": "1.5.0",
      "_model_name": "DescriptionStyleModel",
      "_view_count": null,
      "_view_module": "@jupyter-widgets/base",
      "_view_module_version": "1.2.0",
      "_view_name": "StyleView",
      "description_width": ""
     }
    },
    "76d48dfee87547baaf5bc2745bb18524": {
     "model_module": "@jupyter-widgets/controls",
     "model_module_version": "1.5.0",
     "model_name": "DescriptionStyleModel",
     "state": {
      "_model_module": "@jupyter-widgets/controls",
      "_model_module_version": "1.5.0",
      "_model_name": "DescriptionStyleModel",
      "_view_count": null,
      "_view_module": "@jupyter-widgets/base",
      "_view_module_version": "1.2.0",
      "_view_name": "StyleView",
      "description_width": ""
     }
    },
    "7e47732826534d499564826ba08d517b": {
     "model_module": "@jupyter-widgets/base",
     "model_module_version": "1.2.0",
     "model_name": "LayoutModel",
     "state": {
      "_model_module": "@jupyter-widgets/base",
      "_model_module_version": "1.2.0",
      "_model_name": "LayoutModel",
      "_view_count": null,
      "_view_module": "@jupyter-widgets/base",
      "_view_module_version": "1.2.0",
      "_view_name": "LayoutView",
      "align_content": null,
      "align_items": null,
      "align_self": null,
      "border": null,
      "bottom": null,
      "display": null,
      "flex": null,
      "flex_flow": null,
      "grid_area": null,
      "grid_auto_columns": null,
      "grid_auto_flow": null,
      "grid_auto_rows": null,
      "grid_column": null,
      "grid_gap": null,
      "grid_row": null,
      "grid_template_areas": null,
      "grid_template_columns": null,
      "grid_template_rows": null,
      "height": null,
      "justify_content": null,
      "justify_items": null,
      "left": null,
      "margin": null,
      "max_height": null,
      "max_width": null,
      "min_height": null,
      "min_width": null,
      "object_fit": null,
      "object_position": null,
      "order": null,
      "overflow": null,
      "overflow_x": null,
      "overflow_y": null,
      "padding": null,
      "right": null,
      "top": null,
      "visibility": null,
      "width": null
     }
    },
    "7ed3805c9140470a813633f4cf18069b": {
     "model_module": "@jupyter-widgets/base",
     "model_module_version": "1.2.0",
     "model_name": "LayoutModel",
     "state": {
      "_model_module": "@jupyter-widgets/base",
      "_model_module_version": "1.2.0",
      "_model_name": "LayoutModel",
      "_view_count": null,
      "_view_module": "@jupyter-widgets/base",
      "_view_module_version": "1.2.0",
      "_view_name": "LayoutView",
      "align_content": null,
      "align_items": null,
      "align_self": null,
      "border": null,
      "bottom": null,
      "display": null,
      "flex": null,
      "flex_flow": null,
      "grid_area": null,
      "grid_auto_columns": null,
      "grid_auto_flow": null,
      "grid_auto_rows": null,
      "grid_column": null,
      "grid_gap": null,
      "grid_row": null,
      "grid_template_areas": null,
      "grid_template_columns": null,
      "grid_template_rows": null,
      "height": null,
      "justify_content": null,
      "justify_items": null,
      "left": null,
      "margin": null,
      "max_height": null,
      "max_width": null,
      "min_height": null,
      "min_width": null,
      "object_fit": null,
      "object_position": null,
      "order": null,
      "overflow": null,
      "overflow_x": null,
      "overflow_y": null,
      "padding": null,
      "right": null,
      "top": null,
      "visibility": null,
      "width": null
     }
    },
    "7f88388d9c2641a78d687f29de4be7da": {
     "model_module": "@jupyter-widgets/controls",
     "model_module_version": "1.5.0",
     "model_name": "DescriptionStyleModel",
     "state": {
      "_model_module": "@jupyter-widgets/controls",
      "_model_module_version": "1.5.0",
      "_model_name": "DescriptionStyleModel",
      "_view_count": null,
      "_view_module": "@jupyter-widgets/base",
      "_view_module_version": "1.2.0",
      "_view_name": "StyleView",
      "description_width": ""
     }
    },
    "82817bbc1e1549088a5c9bbcdea8594d": {
     "model_module": "@jupyter-widgets/controls",
     "model_module_version": "1.5.0",
     "model_name": "ProgressStyleModel",
     "state": {
      "_model_module": "@jupyter-widgets/controls",
      "_model_module_version": "1.5.0",
      "_model_name": "ProgressStyleModel",
      "_view_count": null,
      "_view_module": "@jupyter-widgets/base",
      "_view_module_version": "1.2.0",
      "_view_name": "StyleView",
      "bar_color": null,
      "description_width": ""
     }
    },
    "884d3d3f658c40859c499c188aea9f1f": {
     "model_module": "@jupyter-widgets/controls",
     "model_module_version": "1.5.0",
     "model_name": "HBoxModel",
     "state": {
      "_dom_classes": [],
      "_model_module": "@jupyter-widgets/controls",
      "_model_module_version": "1.5.0",
      "_model_name": "HBoxModel",
      "_view_count": null,
      "_view_module": "@jupyter-widgets/controls",
      "_view_module_version": "1.5.0",
      "_view_name": "HBoxView",
      "box_style": "",
      "children": [
       "IPY_MODEL_9550326d5b8f4aa3929fb12d0af7799c",
       "IPY_MODEL_b99d99b82d5549e2a0f4aac6206bcc8f",
       "IPY_MODEL_15dcc8a709ee4d518a3051f19d22ff34"
      ],
      "layout": "IPY_MODEL_7555055221a14bd88129c6cc85e76d68"
     }
    },
    "8d2dfaea6236498fabcab5cd64401d9b": {
     "model_module": "@jupyter-widgets/base",
     "model_module_version": "1.2.0",
     "model_name": "LayoutModel",
     "state": {
      "_model_module": "@jupyter-widgets/base",
      "_model_module_version": "1.2.0",
      "_model_name": "LayoutModel",
      "_view_count": null,
      "_view_module": "@jupyter-widgets/base",
      "_view_module_version": "1.2.0",
      "_view_name": "LayoutView",
      "align_content": null,
      "align_items": null,
      "align_self": null,
      "border": null,
      "bottom": null,
      "display": null,
      "flex": null,
      "flex_flow": null,
      "grid_area": null,
      "grid_auto_columns": null,
      "grid_auto_flow": null,
      "grid_auto_rows": null,
      "grid_column": null,
      "grid_gap": null,
      "grid_row": null,
      "grid_template_areas": null,
      "grid_template_columns": null,
      "grid_template_rows": null,
      "height": null,
      "justify_content": null,
      "justify_items": null,
      "left": null,
      "margin": null,
      "max_height": null,
      "max_width": null,
      "min_height": null,
      "min_width": null,
      "object_fit": null,
      "object_position": null,
      "order": null,
      "overflow": null,
      "overflow_x": null,
      "overflow_y": null,
      "padding": null,
      "right": null,
      "top": null,
      "visibility": null,
      "width": null
     }
    },
    "91639c5c59f945f0bcd0a070aa1b5782": {
     "model_module": "@jupyter-widgets/controls",
     "model_module_version": "1.5.0",
     "model_name": "DescriptionStyleModel",
     "state": {
      "_model_module": "@jupyter-widgets/controls",
      "_model_module_version": "1.5.0",
      "_model_name": "DescriptionStyleModel",
      "_view_count": null,
      "_view_module": "@jupyter-widgets/base",
      "_view_module_version": "1.2.0",
      "_view_name": "StyleView",
      "description_width": ""
     }
    },
    "92fce6c70d3f4934a266ca3a1ec471c2": {
     "model_module": "@jupyter-widgets/controls",
     "model_module_version": "1.5.0",
     "model_name": "HTMLModel",
     "state": {
      "_dom_classes": [],
      "_model_module": "@jupyter-widgets/controls",
      "_model_module_version": "1.5.0",
      "_model_name": "HTMLModel",
      "_view_count": null,
      "_view_module": "@jupyter-widgets/controls",
      "_view_module_version": "1.5.0",
      "_view_name": "HTMLView",
      "description": "",
      "description_tooltip": null,
      "layout": "IPY_MODEL_c1e1274d8da84c22995e3eda5f399f97",
      "placeholder": "​",
      "style": "IPY_MODEL_4aae25b11d2c4a2296c9e064fda62489",
      "value": "100%"
     }
    },
    "9550326d5b8f4aa3929fb12d0af7799c": {
     "model_module": "@jupyter-widgets/controls",
     "model_module_version": "1.5.0",
     "model_name": "HTMLModel",
     "state": {
      "_dom_classes": [],
      "_model_module": "@jupyter-widgets/controls",
      "_model_module_version": "1.5.0",
      "_model_name": "HTMLModel",
      "_view_count": null,
      "_view_module": "@jupyter-widgets/controls",
      "_view_module_version": "1.5.0",
      "_view_name": "HTMLView",
      "description": "",
      "description_tooltip": null,
      "layout": "IPY_MODEL_0a800c5a461d45c1bbb438e9c4785a01",
      "placeholder": "​",
      "style": "IPY_MODEL_d63c6e613a7e46d9b7c37a4ca001f51b",
      "value": "100%"
     }
    },
    "983d260252fc44378b97cd41d698186a": {
     "model_module": "@jupyter-widgets/base",
     "model_module_version": "1.2.0",
     "model_name": "LayoutModel",
     "state": {
      "_model_module": "@jupyter-widgets/base",
      "_model_module_version": "1.2.0",
      "_model_name": "LayoutModel",
      "_view_count": null,
      "_view_module": "@jupyter-widgets/base",
      "_view_module_version": "1.2.0",
      "_view_name": "LayoutView",
      "align_content": null,
      "align_items": null,
      "align_self": null,
      "border": null,
      "bottom": null,
      "display": null,
      "flex": null,
      "flex_flow": null,
      "grid_area": null,
      "grid_auto_columns": null,
      "grid_auto_flow": null,
      "grid_auto_rows": null,
      "grid_column": null,
      "grid_gap": null,
      "grid_row": null,
      "grid_template_areas": null,
      "grid_template_columns": null,
      "grid_template_rows": null,
      "height": null,
      "justify_content": null,
      "justify_items": null,
      "left": null,
      "margin": null,
      "max_height": null,
      "max_width": null,
      "min_height": null,
      "min_width": null,
      "object_fit": null,
      "object_position": null,
      "order": null,
      "overflow": null,
      "overflow_x": null,
      "overflow_y": null,
      "padding": null,
      "right": null,
      "top": null,
      "visibility": null,
      "width": null
     }
    },
    "9a304680d3cf449aaa88dfbccebb6939": {
     "model_module": "@jupyter-widgets/controls",
     "model_module_version": "1.5.0",
     "model_name": "FloatProgressModel",
     "state": {
      "_dom_classes": [],
      "_model_module": "@jupyter-widgets/controls",
      "_model_module_version": "1.5.0",
      "_model_name": "FloatProgressModel",
      "_view_count": null,
      "_view_module": "@jupyter-widgets/controls",
      "_view_module_version": "1.5.0",
      "_view_name": "ProgressView",
      "bar_style": "success",
      "description": "",
      "description_tooltip": null,
      "layout": "IPY_MODEL_6985402a5b6d45fea35af949b42d9adb",
      "max": 105,
      "min": 0,
      "orientation": "horizontal",
      "style": "IPY_MODEL_82817bbc1e1549088a5c9bbcdea8594d",
      "value": 105
     }
    },
    "9a531864582c4c1e8622f8990950626f": {
     "model_module": "@jupyter-widgets/controls",
     "model_module_version": "1.5.0",
     "model_name": "HTMLModel",
     "state": {
      "_dom_classes": [],
      "_model_module": "@jupyter-widgets/controls",
      "_model_module_version": "1.5.0",
      "_model_name": "HTMLModel",
      "_view_count": null,
      "_view_module": "@jupyter-widgets/controls",
      "_view_module_version": "1.5.0",
      "_view_name": "HTMLView",
      "description": "",
      "description_tooltip": null,
      "layout": "IPY_MODEL_0d893442558b4110be13eccce90b3c3d",
      "placeholder": "​",
      "style": "IPY_MODEL_28a7f85d0c1d4f6a94d3a590ec156580",
      "value": " 105/105 [00:39&lt;00:00,  2.80it/s]"
     }
    },
    "9b409629b0d44c76bbee9bde00329109": {
     "model_module": "@jupyter-widgets/controls",
     "model_module_version": "1.5.0",
     "model_name": "HTMLModel",
     "state": {
      "_dom_classes": [],
      "_model_module": "@jupyter-widgets/controls",
      "_model_module_version": "1.5.0",
      "_model_name": "HTMLModel",
      "_view_count": null,
      "_view_module": "@jupyter-widgets/controls",
      "_view_module_version": "1.5.0",
      "_view_name": "HTMLView",
      "description": "",
      "description_tooltip": null,
      "layout": "IPY_MODEL_35e7d2bbd2024ad9b842c21292ceb2c0",
      "placeholder": "​",
      "style": "IPY_MODEL_bb1d2090c6db4d51a8b5e60b492c02d5",
      "value": " 1678/1678 [1:19:28&lt;00:00,  2.84s/it]"
     }
    },
    "9e17ee5732f84f5e8b573c19276e4709": {
     "model_module": "@jupyter-widgets/controls",
     "model_module_version": "1.5.0",
     "model_name": "HTMLModel",
     "state": {
      "_dom_classes": [],
      "_model_module": "@jupyter-widgets/controls",
      "_model_module_version": "1.5.0",
      "_model_name": "HTMLModel",
      "_view_count": null,
      "_view_module": "@jupyter-widgets/controls",
      "_view_module_version": "1.5.0",
      "_view_name": "HTMLView",
      "description": "",
      "description_tooltip": null,
      "layout": "IPY_MODEL_a2691fdbfe0c49209b16293921d04d2d",
      "placeholder": "​",
      "style": "IPY_MODEL_b262017b6fcb48f08025d94d8e819669",
      "value": "100%"
     }
    },
    "a2691fdbfe0c49209b16293921d04d2d": {
     "model_module": "@jupyter-widgets/base",
     "model_module_version": "1.2.0",
     "model_name": "LayoutModel",
     "state": {
      "_model_module": "@jupyter-widgets/base",
      "_model_module_version": "1.2.0",
      "_model_name": "LayoutModel",
      "_view_count": null,
      "_view_module": "@jupyter-widgets/base",
      "_view_module_version": "1.2.0",
      "_view_name": "LayoutView",
      "align_content": null,
      "align_items": null,
      "align_self": null,
      "border": null,
      "bottom": null,
      "display": null,
      "flex": null,
      "flex_flow": null,
      "grid_area": null,
      "grid_auto_columns": null,
      "grid_auto_flow": null,
      "grid_auto_rows": null,
      "grid_column": null,
      "grid_gap": null,
      "grid_row": null,
      "grid_template_areas": null,
      "grid_template_columns": null,
      "grid_template_rows": null,
      "height": null,
      "justify_content": null,
      "justify_items": null,
      "left": null,
      "margin": null,
      "max_height": null,
      "max_width": null,
      "min_height": null,
      "min_width": null,
      "object_fit": null,
      "object_position": null,
      "order": null,
      "overflow": null,
      "overflow_x": null,
      "overflow_y": null,
      "padding": null,
      "right": null,
      "top": null,
      "visibility": null,
      "width": null
     }
    },
    "a43a4b44def34678941b74b4f30bf000": {
     "model_module": "@jupyter-widgets/base",
     "model_module_version": "1.2.0",
     "model_name": "LayoutModel",
     "state": {
      "_model_module": "@jupyter-widgets/base",
      "_model_module_version": "1.2.0",
      "_model_name": "LayoutModel",
      "_view_count": null,
      "_view_module": "@jupyter-widgets/base",
      "_view_module_version": "1.2.0",
      "_view_name": "LayoutView",
      "align_content": null,
      "align_items": null,
      "align_self": null,
      "border": null,
      "bottom": null,
      "display": null,
      "flex": null,
      "flex_flow": null,
      "grid_area": null,
      "grid_auto_columns": null,
      "grid_auto_flow": null,
      "grid_auto_rows": null,
      "grid_column": null,
      "grid_gap": null,
      "grid_row": null,
      "grid_template_areas": null,
      "grid_template_columns": null,
      "grid_template_rows": null,
      "height": null,
      "justify_content": null,
      "justify_items": null,
      "left": null,
      "margin": null,
      "max_height": null,
      "max_width": null,
      "min_height": null,
      "min_width": null,
      "object_fit": null,
      "object_position": null,
      "order": null,
      "overflow": null,
      "overflow_x": null,
      "overflow_y": null,
      "padding": null,
      "right": null,
      "top": null,
      "visibility": null,
      "width": null
     }
    },
    "a5103d6b77f046399d24cadc3d123817": {
     "model_module": "@jupyter-widgets/controls",
     "model_module_version": "1.5.0",
     "model_name": "ProgressStyleModel",
     "state": {
      "_model_module": "@jupyter-widgets/controls",
      "_model_module_version": "1.5.0",
      "_model_name": "ProgressStyleModel",
      "_view_count": null,
      "_view_module": "@jupyter-widgets/base",
      "_view_module_version": "1.2.0",
      "_view_name": "StyleView",
      "bar_color": null,
      "description_width": ""
     }
    },
    "b262017b6fcb48f08025d94d8e819669": {
     "model_module": "@jupyter-widgets/controls",
     "model_module_version": "1.5.0",
     "model_name": "DescriptionStyleModel",
     "state": {
      "_model_module": "@jupyter-widgets/controls",
      "_model_module_version": "1.5.0",
      "_model_name": "DescriptionStyleModel",
      "_view_count": null,
      "_view_module": "@jupyter-widgets/base",
      "_view_module_version": "1.2.0",
      "_view_name": "StyleView",
      "description_width": ""
     }
    },
    "b4d4b8a2dcf244e9bca641e65a8abdba": {
     "model_module": "@jupyter-widgets/controls",
     "model_module_version": "1.5.0",
     "model_name": "HBoxModel",
     "state": {
      "_dom_classes": [],
      "_model_module": "@jupyter-widgets/controls",
      "_model_module_version": "1.5.0",
      "_model_name": "HBoxModel",
      "_view_count": null,
      "_view_module": "@jupyter-widgets/controls",
      "_view_module_version": "1.5.0",
      "_view_name": "HBoxView",
      "box_style": "",
      "children": [
       "IPY_MODEL_405f547f915849c6908341314053b5cc",
       "IPY_MODEL_ebdd35dd04eb4f64976aced04340e55c",
       "IPY_MODEL_f8cd34c55649495db86f40f04aa6da2f"
      ],
      "layout": "IPY_MODEL_e717bdcba1a14d5b8b5d0b6ff729179b"
     }
    },
    "b62e98f35c774f77bbe6f4a1deac941d": {
     "model_module": "@jupyter-widgets/controls",
     "model_module_version": "1.5.0",
     "model_name": "HBoxModel",
     "state": {
      "_dom_classes": [],
      "_model_module": "@jupyter-widgets/controls",
      "_model_module_version": "1.5.0",
      "_model_name": "HBoxModel",
      "_view_count": null,
      "_view_module": "@jupyter-widgets/controls",
      "_view_module_version": "1.5.0",
      "_view_name": "HBoxView",
      "box_style": "",
      "children": [
       "IPY_MODEL_9e17ee5732f84f5e8b573c19276e4709",
       "IPY_MODEL_9a304680d3cf449aaa88dfbccebb6939",
       "IPY_MODEL_9a531864582c4c1e8622f8990950626f"
      ],
      "layout": "IPY_MODEL_275b68cca3824e7fb153cdea80b49fd3"
     }
    },
    "b8059b0fa9a847d094ea1cc759d1f43f": {
     "model_module": "@jupyter-widgets/controls",
     "model_module_version": "1.5.0",
     "model_name": "HBoxModel",
     "state": {
      "_dom_classes": [],
      "_model_module": "@jupyter-widgets/controls",
      "_model_module_version": "1.5.0",
      "_model_name": "HBoxModel",
      "_view_count": null,
      "_view_module": "@jupyter-widgets/controls",
      "_view_module_version": "1.5.0",
      "_view_name": "HBoxView",
      "box_style": "",
      "children": [
       "IPY_MODEL_3a7021aa88f94ddc9c753c6ae6c9987e",
       "IPY_MODEL_13de7d3031f94189b73f2da73b6d5d37",
       "IPY_MODEL_9b409629b0d44c76bbee9bde00329109"
      ],
      "layout": "IPY_MODEL_535d6e617e174692a50156230c5af036"
     }
    },
    "b99d99b82d5549e2a0f4aac6206bcc8f": {
     "model_module": "@jupyter-widgets/controls",
     "model_module_version": "1.5.0",
     "model_name": "FloatProgressModel",
     "state": {
      "_dom_classes": [],
      "_model_module": "@jupyter-widgets/controls",
      "_model_module_version": "1.5.0",
      "_model_name": "FloatProgressModel",
      "_view_count": null,
      "_view_module": "@jupyter-widgets/controls",
      "_view_module_version": "1.5.0",
      "_view_name": "ProgressView",
      "bar_style": "success",
      "description": "",
      "description_tooltip": null,
      "layout": "IPY_MODEL_5ecd04f9b6304e739b7aa4265ee3a87d",
      "max": 105,
      "min": 0,
      "orientation": "horizontal",
      "style": "IPY_MODEL_3a4a635bd24c4466be63e755ed3a0fd6",
      "value": 105
     }
    },
    "bb1d2090c6db4d51a8b5e60b492c02d5": {
     "model_module": "@jupyter-widgets/controls",
     "model_module_version": "1.5.0",
     "model_name": "DescriptionStyleModel",
     "state": {
      "_model_module": "@jupyter-widgets/controls",
      "_model_module_version": "1.5.0",
      "_model_name": "DescriptionStyleModel",
      "_view_count": null,
      "_view_module": "@jupyter-widgets/base",
      "_view_module_version": "1.2.0",
      "_view_name": "StyleView",
      "description_width": ""
     }
    },
    "c1548a9c24c34ec591c3e82b843bb56c": {
     "model_module": "@jupyter-widgets/controls",
     "model_module_version": "1.5.0",
     "model_name": "HBoxModel",
     "state": {
      "_dom_classes": [],
      "_model_module": "@jupyter-widgets/controls",
      "_model_module_version": "1.5.0",
      "_model_name": "HBoxModel",
      "_view_count": null,
      "_view_module": "@jupyter-widgets/controls",
      "_view_module_version": "1.5.0",
      "_view_name": "HBoxView",
      "box_style": "",
      "children": [
       "IPY_MODEL_1c6a6d78c42d4565a9eba6e993d2cd09",
       "IPY_MODEL_c7011b050e07403383f4a26cd46baa2b",
       "IPY_MODEL_fe4675de96c541d5900d61dc3af034dc"
      ],
      "layout": "IPY_MODEL_dfbc025d4a3e41e09c3e1f72c599b8cd"
     }
    },
    "c1e1274d8da84c22995e3eda5f399f97": {
     "model_module": "@jupyter-widgets/base",
     "model_module_version": "1.2.0",
     "model_name": "LayoutModel",
     "state": {
      "_model_module": "@jupyter-widgets/base",
      "_model_module_version": "1.2.0",
      "_model_name": "LayoutModel",
      "_view_count": null,
      "_view_module": "@jupyter-widgets/base",
      "_view_module_version": "1.2.0",
      "_view_name": "LayoutView",
      "align_content": null,
      "align_items": null,
      "align_self": null,
      "border": null,
      "bottom": null,
      "display": null,
      "flex": null,
      "flex_flow": null,
      "grid_area": null,
      "grid_auto_columns": null,
      "grid_auto_flow": null,
      "grid_auto_rows": null,
      "grid_column": null,
      "grid_gap": null,
      "grid_row": null,
      "grid_template_areas": null,
      "grid_template_columns": null,
      "grid_template_rows": null,
      "height": null,
      "justify_content": null,
      "justify_items": null,
      "left": null,
      "margin": null,
      "max_height": null,
      "max_width": null,
      "min_height": null,
      "min_width": null,
      "object_fit": null,
      "object_position": null,
      "order": null,
      "overflow": null,
      "overflow_x": null,
      "overflow_y": null,
      "padding": null,
      "right": null,
      "top": null,
      "visibility": null,
      "width": null
     }
    },
    "c3898cb6748d47578942e4a97b81dddb": {
     "model_module": "@jupyter-widgets/controls",
     "model_module_version": "1.5.0",
     "model_name": "DescriptionStyleModel",
     "state": {
      "_model_module": "@jupyter-widgets/controls",
      "_model_module_version": "1.5.0",
      "_model_name": "DescriptionStyleModel",
      "_view_count": null,
      "_view_module": "@jupyter-widgets/base",
      "_view_module_version": "1.2.0",
      "_view_name": "StyleView",
      "description_width": ""
     }
    },
    "c7011b050e07403383f4a26cd46baa2b": {
     "model_module": "@jupyter-widgets/controls",
     "model_module_version": "1.5.0",
     "model_name": "FloatProgressModel",
     "state": {
      "_dom_classes": [],
      "_model_module": "@jupyter-widgets/controls",
      "_model_module_version": "1.5.0",
      "_model_name": "FloatProgressModel",
      "_view_count": null,
      "_view_module": "@jupyter-widgets/controls",
      "_view_module_version": "1.5.0",
      "_view_name": "ProgressView",
      "bar_style": "success",
      "description": "",
      "description_tooltip": null,
      "layout": "IPY_MODEL_40daf8c074504c01852fd0a659d22167",
      "max": 105,
      "min": 0,
      "orientation": "horizontal",
      "style": "IPY_MODEL_17f6c19f24d9451db5051c666475e098",
      "value": 105
     }
    },
    "ceea53acd8344adb867adfab6b8ebfac": {
     "model_module": "@jupyter-widgets/controls",
     "model_module_version": "1.5.0",
     "model_name": "DescriptionStyleModel",
     "state": {
      "_model_module": "@jupyter-widgets/controls",
      "_model_module_version": "1.5.0",
      "_model_name": "DescriptionStyleModel",
      "_view_count": null,
      "_view_module": "@jupyter-widgets/base",
      "_view_module_version": "1.2.0",
      "_view_name": "StyleView",
      "description_width": ""
     }
    },
    "d63c6e613a7e46d9b7c37a4ca001f51b": {
     "model_module": "@jupyter-widgets/controls",
     "model_module_version": "1.5.0",
     "model_name": "DescriptionStyleModel",
     "state": {
      "_model_module": "@jupyter-widgets/controls",
      "_model_module_version": "1.5.0",
      "_model_name": "DescriptionStyleModel",
      "_view_count": null,
      "_view_module": "@jupyter-widgets/base",
      "_view_module_version": "1.2.0",
      "_view_name": "StyleView",
      "description_width": ""
     }
    },
    "d6c5c38a67ed48caa4d3397ccc898b8d": {
     "model_module": "@jupyter-widgets/base",
     "model_module_version": "1.2.0",
     "model_name": "LayoutModel",
     "state": {
      "_model_module": "@jupyter-widgets/base",
      "_model_module_version": "1.2.0",
      "_model_name": "LayoutModel",
      "_view_count": null,
      "_view_module": "@jupyter-widgets/base",
      "_view_module_version": "1.2.0",
      "_view_name": "LayoutView",
      "align_content": null,
      "align_items": null,
      "align_self": null,
      "border": null,
      "bottom": null,
      "display": null,
      "flex": null,
      "flex_flow": null,
      "grid_area": null,
      "grid_auto_columns": null,
      "grid_auto_flow": null,
      "grid_auto_rows": null,
      "grid_column": null,
      "grid_gap": null,
      "grid_row": null,
      "grid_template_areas": null,
      "grid_template_columns": null,
      "grid_template_rows": null,
      "height": null,
      "justify_content": null,
      "justify_items": null,
      "left": null,
      "margin": null,
      "max_height": null,
      "max_width": null,
      "min_height": null,
      "min_width": null,
      "object_fit": null,
      "object_position": null,
      "order": null,
      "overflow": null,
      "overflow_x": null,
      "overflow_y": null,
      "padding": null,
      "right": null,
      "top": null,
      "visibility": null,
      "width": null
     }
    },
    "dd4d53955a58464aa9ace97a3c82fab7": {
     "model_module": "@jupyter-widgets/controls",
     "model_module_version": "1.5.0",
     "model_name": "HTMLModel",
     "state": {
      "_dom_classes": [],
      "_model_module": "@jupyter-widgets/controls",
      "_model_module_version": "1.5.0",
      "_model_name": "HTMLModel",
      "_view_count": null,
      "_view_module": "@jupyter-widgets/controls",
      "_view_module_version": "1.5.0",
      "_view_name": "HTMLView",
      "description": "",
      "description_tooltip": null,
      "layout": "IPY_MODEL_2ce71ef7785b4d20b6de4915a142f6e3",
      "placeholder": "​",
      "style": "IPY_MODEL_f2f08b7401f7418e8e3297abd0dc3ee1",
      "value": "Downloading: 100%"
     }
    },
    "dfbc025d4a3e41e09c3e1f72c599b8cd": {
     "model_module": "@jupyter-widgets/base",
     "model_module_version": "1.2.0",
     "model_name": "LayoutModel",
     "state": {
      "_model_module": "@jupyter-widgets/base",
      "_model_module_version": "1.2.0",
      "_model_name": "LayoutModel",
      "_view_count": null,
      "_view_module": "@jupyter-widgets/base",
      "_view_module_version": "1.2.0",
      "_view_name": "LayoutView",
      "align_content": null,
      "align_items": null,
      "align_self": null,
      "border": null,
      "bottom": null,
      "display": null,
      "flex": null,
      "flex_flow": null,
      "grid_area": null,
      "grid_auto_columns": null,
      "grid_auto_flow": null,
      "grid_auto_rows": null,
      "grid_column": null,
      "grid_gap": null,
      "grid_row": null,
      "grid_template_areas": null,
      "grid_template_columns": null,
      "grid_template_rows": null,
      "height": null,
      "justify_content": null,
      "justify_items": null,
      "left": null,
      "margin": null,
      "max_height": null,
      "max_width": null,
      "min_height": null,
      "min_width": null,
      "object_fit": null,
      "object_position": null,
      "order": null,
      "overflow": null,
      "overflow_x": null,
      "overflow_y": null,
      "padding": null,
      "right": null,
      "top": null,
      "visibility": null,
      "width": null
     }
    },
    "e214c800e55440e3940ac248e2852aa6": {
     "model_module": "@jupyter-widgets/controls",
     "model_module_version": "1.5.0",
     "model_name": "HBoxModel",
     "state": {
      "_dom_classes": [],
      "_model_module": "@jupyter-widgets/controls",
      "_model_module_version": "1.5.0",
      "_model_name": "HBoxModel",
      "_view_count": null,
      "_view_module": "@jupyter-widgets/controls",
      "_view_module_version": "1.5.0",
      "_view_name": "HBoxView",
      "box_style": "",
      "children": [
       "IPY_MODEL_dd4d53955a58464aa9ace97a3c82fab7",
       "IPY_MODEL_6c554f676c934ee48fc9e8229af8da11",
       "IPY_MODEL_3dba7e21cb0041519df29f9d28929be0"
      ],
      "layout": "IPY_MODEL_7ed3805c9140470a813633f4cf18069b"
     }
    },
    "e717bdcba1a14d5b8b5d0b6ff729179b": {
     "model_module": "@jupyter-widgets/base",
     "model_module_version": "1.2.0",
     "model_name": "LayoutModel",
     "state": {
      "_model_module": "@jupyter-widgets/base",
      "_model_module_version": "1.2.0",
      "_model_name": "LayoutModel",
      "_view_count": null,
      "_view_module": "@jupyter-widgets/base",
      "_view_module_version": "1.2.0",
      "_view_name": "LayoutView",
      "align_content": null,
      "align_items": null,
      "align_self": null,
      "border": null,
      "bottom": null,
      "display": null,
      "flex": null,
      "flex_flow": null,
      "grid_area": null,
      "grid_auto_columns": null,
      "grid_auto_flow": null,
      "grid_auto_rows": null,
      "grid_column": null,
      "grid_gap": null,
      "grid_row": null,
      "grid_template_areas": null,
      "grid_template_columns": null,
      "grid_template_rows": null,
      "height": null,
      "justify_content": null,
      "justify_items": null,
      "left": null,
      "margin": null,
      "max_height": null,
      "max_width": null,
      "min_height": null,
      "min_width": null,
      "object_fit": null,
      "object_position": null,
      "order": null,
      "overflow": null,
      "overflow_x": null,
      "overflow_y": null,
      "padding": null,
      "right": null,
      "top": null,
      "visibility": null,
      "width": null
     }
    },
    "ebdd35dd04eb4f64976aced04340e55c": {
     "model_module": "@jupyter-widgets/controls",
     "model_module_version": "1.5.0",
     "model_name": "FloatProgressModel",
     "state": {
      "_dom_classes": [],
      "_model_module": "@jupyter-widgets/controls",
      "_model_module_version": "1.5.0",
      "_model_name": "FloatProgressModel",
      "_view_count": null,
      "_view_module": "@jupyter-widgets/controls",
      "_view_module_version": "1.5.0",
      "_view_name": "ProgressView",
      "bar_style": "success",
      "description": "",
      "description_tooltip": null,
      "layout": "IPY_MODEL_f667676b62f049c4a9d5339c17965035",
      "max": 105,
      "min": 0,
      "orientation": "horizontal",
      "style": "IPY_MODEL_a5103d6b77f046399d24cadc3d123817",
      "value": 105
     }
    },
    "f2f08b7401f7418e8e3297abd0dc3ee1": {
     "model_module": "@jupyter-widgets/controls",
     "model_module_version": "1.5.0",
     "model_name": "DescriptionStyleModel",
     "state": {
      "_model_module": "@jupyter-widgets/controls",
      "_model_module_version": "1.5.0",
      "_model_name": "DescriptionStyleModel",
      "_view_count": null,
      "_view_module": "@jupyter-widgets/base",
      "_view_module_version": "1.2.0",
      "_view_name": "StyleView",
      "description_width": ""
     }
    },
    "f667676b62f049c4a9d5339c17965035": {
     "model_module": "@jupyter-widgets/base",
     "model_module_version": "1.2.0",
     "model_name": "LayoutModel",
     "state": {
      "_model_module": "@jupyter-widgets/base",
      "_model_module_version": "1.2.0",
      "_model_name": "LayoutModel",
      "_view_count": null,
      "_view_module": "@jupyter-widgets/base",
      "_view_module_version": "1.2.0",
      "_view_name": "LayoutView",
      "align_content": null,
      "align_items": null,
      "align_self": null,
      "border": null,
      "bottom": null,
      "display": null,
      "flex": null,
      "flex_flow": null,
      "grid_area": null,
      "grid_auto_columns": null,
      "grid_auto_flow": null,
      "grid_auto_rows": null,
      "grid_column": null,
      "grid_gap": null,
      "grid_row": null,
      "grid_template_areas": null,
      "grid_template_columns": null,
      "grid_template_rows": null,
      "height": null,
      "justify_content": null,
      "justify_items": null,
      "left": null,
      "margin": null,
      "max_height": null,
      "max_width": null,
      "min_height": null,
      "min_width": null,
      "object_fit": null,
      "object_position": null,
      "order": null,
      "overflow": null,
      "overflow_x": null,
      "overflow_y": null,
      "padding": null,
      "right": null,
      "top": null,
      "visibility": null,
      "width": null
     }
    },
    "f8cd34c55649495db86f40f04aa6da2f": {
     "model_module": "@jupyter-widgets/controls",
     "model_module_version": "1.5.0",
     "model_name": "HTMLModel",
     "state": {
      "_dom_classes": [],
      "_model_module": "@jupyter-widgets/controls",
      "_model_module_version": "1.5.0",
      "_model_name": "HTMLModel",
      "_view_count": null,
      "_view_module": "@jupyter-widgets/controls",
      "_view_module_version": "1.5.0",
      "_view_name": "HTMLView",
      "description": "",
      "description_tooltip": null,
      "layout": "IPY_MODEL_7e47732826534d499564826ba08d517b",
      "placeholder": "​",
      "style": "IPY_MODEL_76d48dfee87547baaf5bc2745bb18524",
      "value": " 105/105 [00:39&lt;00:00,  2.79it/s]"
     }
    },
    "f920f15c3fde49be857b459444ac8f58": {
     "model_module": "@jupyter-widgets/base",
     "model_module_version": "1.2.0",
     "model_name": "LayoutModel",
     "state": {
      "_model_module": "@jupyter-widgets/base",
      "_model_module_version": "1.2.0",
      "_model_name": "LayoutModel",
      "_view_count": null,
      "_view_module": "@jupyter-widgets/base",
      "_view_module_version": "1.2.0",
      "_view_name": "LayoutView",
      "align_content": null,
      "align_items": null,
      "align_self": null,
      "border": null,
      "bottom": null,
      "display": null,
      "flex": null,
      "flex_flow": null,
      "grid_area": null,
      "grid_auto_columns": null,
      "grid_auto_flow": null,
      "grid_auto_rows": null,
      "grid_column": null,
      "grid_gap": null,
      "grid_row": null,
      "grid_template_areas": null,
      "grid_template_columns": null,
      "grid_template_rows": null,
      "height": null,
      "justify_content": null,
      "justify_items": null,
      "left": null,
      "margin": null,
      "max_height": null,
      "max_width": null,
      "min_height": null,
      "min_width": null,
      "object_fit": null,
      "object_position": null,
      "order": null,
      "overflow": null,
      "overflow_x": null,
      "overflow_y": null,
      "padding": null,
      "right": null,
      "top": null,
      "visibility": null,
      "width": null
     }
    },
    "fb33180dea624777b6745498bf8fcc4a": {
     "model_module": "@jupyter-widgets/controls",
     "model_module_version": "1.5.0",
     "model_name": "FloatProgressModel",
     "state": {
      "_dom_classes": [],
      "_model_module": "@jupyter-widgets/controls",
      "_model_module_version": "1.5.0",
      "_model_name": "FloatProgressModel",
      "_view_count": null,
      "_view_module": "@jupyter-widgets/controls",
      "_view_module_version": "1.5.0",
      "_view_name": "ProgressView",
      "bar_style": "success",
      "description": "",
      "description_tooltip": null,
      "layout": "IPY_MODEL_53687a88d8fd482eae9a917da3b96cca",
      "max": 105,
      "min": 0,
      "orientation": "horizontal",
      "style": "IPY_MODEL_3cbac19b34a4482b96e1b1252a2dd373",
      "value": 105
     }
    },
    "fdc41203415945398aed1dc2990a0660": {
     "model_module": "@jupyter-widgets/controls",
     "model_module_version": "1.5.0",
     "model_name": "DescriptionStyleModel",
     "state": {
      "_model_module": "@jupyter-widgets/controls",
      "_model_module_version": "1.5.0",
      "_model_name": "DescriptionStyleModel",
      "_view_count": null,
      "_view_module": "@jupyter-widgets/base",
      "_view_module_version": "1.2.0",
      "_view_name": "StyleView",
      "description_width": ""
     }
    },
    "fe4675de96c541d5900d61dc3af034dc": {
     "model_module": "@jupyter-widgets/controls",
     "model_module_version": "1.5.0",
     "model_name": "HTMLModel",
     "state": {
      "_dom_classes": [],
      "_model_module": "@jupyter-widgets/controls",
      "_model_module_version": "1.5.0",
      "_model_name": "HTMLModel",
      "_view_count": null,
      "_view_module": "@jupyter-widgets/controls",
      "_view_module_version": "1.5.0",
      "_view_name": "HTMLView",
      "description": "",
      "description_tooltip": null,
      "layout": "IPY_MODEL_a43a4b44def34678941b74b4f30bf000",
      "placeholder": "​",
      "style": "IPY_MODEL_7f88388d9c2641a78d687f29de4be7da",
      "value": " 105/105 [00:39&lt;00:00,  2.79it/s]"
     }
    }
   }
  }
 },
 "nbformat": 4,
 "nbformat_minor": 1
}
