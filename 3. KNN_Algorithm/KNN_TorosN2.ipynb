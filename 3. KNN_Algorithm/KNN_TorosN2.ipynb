{
 "cells": [
  {
   "cell_type": "code",
   "execution_count": 1,
   "metadata": {
    "colab": {
     "base_uri": "https://localhost:8080/"
    },
    "executionInfo": {
     "elapsed": 53652,
     "status": "ok",
     "timestamp": 1653977517966,
     "user": {
      "displayName": "Alex Kim",
      "userId": "14000404201898213847"
     },
     "user_tz": -540
    },
    "id": "Jtkfz1KnkLDe",
    "outputId": "562d07bf-4b1a-45ab-cc84-44a156d052ef"
   },
   "outputs": [
    {
     "name": "stdout",
     "output_type": "stream",
     "text": [
      "Looking in indexes: https://pypi.org/simple, https://us-python.pkg.dev/colab-wheels/public/simple/\n",
      "Collecting n2\n",
      "  Downloading n2-0.1.7.tar.gz (8.6 MB)\n",
      "\u001b[K     |████████████████████████████████| 8.6 MB 23.0 MB/s \n",
      "\u001b[?25hRequirement already satisfied: cython in /usr/local/lib/python3.7/dist-packages (from n2) (0.29.30)\n",
      "Building wheels for collected packages: n2\n",
      "  Building wheel for n2 (setup.py) ... \u001b[?25l\u001b[?25hdone\n",
      "  Created wheel for n2: filename=n2-0.1.7-cp37-cp37m-linux_x86_64.whl size=2303034 sha256=bbb4851869012dc4bbeeedd898c9b8da3f9e5b5b869c6d83668bd9f8c8960ab5\n",
      "  Stored in directory: /root/.cache/pip/wheels/36/da/12/b157ca1c9dcdd5fd3fa5e15b7823f805396fb6e6b30427465a\n",
      "Successfully built n2\n",
      "Installing collected packages: n2\n",
      "Successfully installed n2-0.1.7\n"
     ]
    }
   ],
   "source": [
    "#!pip install n2"
   ]
  },
  {
   "cell_type": "code",
   "execution_count": 2,
   "metadata": {
    "executionInfo": {
     "elapsed": 658,
     "status": "ok",
     "timestamp": 1653977540693,
     "user": {
      "displayName": "Alex Kim",
      "userId": "14000404201898213847"
     },
     "user_tz": -540
    },
    "id": "3FTM9TZ5j_Z2"
   },
   "outputs": [],
   "source": [
    "from n2 import HnswIndex\n",
    "import pandas as pd"
   ]
  },
  {
   "cell_type": "code",
   "execution_count": null,
   "metadata": {
    "id": "OtC-SKU-kunM"
   },
   "outputs": [],
   "source": [
    "music_feature = pd.read_csv('__file_location__/music_data_220527.csv', index_col = None)"
   ]
  },
  {
   "cell_type": "code",
   "execution_count": null,
   "metadata": {
    "id": "rSXqIgGxk25e"
   },
   "outputs": [],
   "source": [
    "#'happiness' : 0, 'angry' : 1, 'sadness' : 2, 'disgust' :3 , 'surprise' : 4,'fear' :5\n",
    "selected_music = music_feature[(music_feature['labels'] == 'Happy') | (music_feature['labels'] =='Angry') | (music_feature['labels'] =='Sad') | (music_feature['labels'] =='Calm') | (music_feature['labels'] =='Dramatic') | (music_feature['labels'] =='Dark')]\n",
    "selected_music.reset_index(inplace=True, drop = True)"
   ]
  },
  {
   "cell_type": "code",
   "execution_count": null,
   "metadata": {
    "id": "SyKy4qsnkP70"
   },
   "outputs": [],
   "source": [
    "music_index = HnswIndex(57)\n",
    "for i in range(len(selected_music)):\n",
    "    music_index.add_data(selected_music.iloc[i, 3:])\n",
    "music_index.build()"
   ]
  },
  {
   "cell_type": "code",
   "execution_count": null,
   "metadata": {
    "id": "_yNGkTpinVPZ"
   },
   "outputs": [],
   "source": [
    "music_index.save('six_genre_index.hnsw')"
   ]
  },
  {
   "cell_type": "code",
   "execution_count": null,
   "metadata": {
    "colab": {
     "base_uri": "https://localhost:8080/",
     "height": 577
    },
    "executionInfo": {
     "elapsed": 282,
     "status": "ok",
     "timestamp": 1653895279508,
     "user": {
      "displayName": "김용철",
      "userId": "10594767541461235845"
     },
     "user_tz": -540
    },
    "id": "gOlBzvxfokGg",
    "outputId": "ff0bd96b-2b85-4788-f53f-8f9f9c44939f"
   },
   "outputs": [
    {
     "data": {
      "text/html": [
       "\n",
       "  <div id=\"df-97827751-9c24-4980-8105-49427030783a\">\n",
       "    <div class=\"colab-df-container\">\n",
       "      <div>\n",
       "<style scoped>\n",
       "    .dataframe tbody tr th:only-of-type {\n",
       "        vertical-align: middle;\n",
       "    }\n",
       "\n",
       "    .dataframe tbody tr th {\n",
       "        vertical-align: top;\n",
       "    }\n",
       "\n",
       "    .dataframe thead th {\n",
       "        text-align: right;\n",
       "    }\n",
       "</style>\n",
       "<table border=\"1\" class=\"dataframe\">\n",
       "  <thead>\n",
       "    <tr style=\"text-align: right;\">\n",
       "      <th></th>\n",
       "      <th>Unnamed: 0</th>\n",
       "      <th>music_names</th>\n",
       "      <th>labels</th>\n",
       "      <th>chroma_rms_mean</th>\n",
       "      <th>chroma_rms_var</th>\n",
       "      <th>chroma_stft_mean</th>\n",
       "      <th>chroma_stft_var</th>\n",
       "      <th>spectral_centroid_mean</th>\n",
       "      <th>spectral_centroid_var</th>\n",
       "      <th>spectral_bandwidth_mean</th>\n",
       "      <th>...</th>\n",
       "      <th>mfcc_mean_16</th>\n",
       "      <th>mfcc_var_16</th>\n",
       "      <th>mfcc_mean_17</th>\n",
       "      <th>mfcc_var_17</th>\n",
       "      <th>mfcc_mean_18</th>\n",
       "      <th>mfcc_var_18</th>\n",
       "      <th>mfcc_mean_19</th>\n",
       "      <th>mfcc_var_19</th>\n",
       "      <th>mfcc_mean_20</th>\n",
       "      <th>mfcc_var_20</th>\n",
       "    </tr>\n",
       "  </thead>\n",
       "  <tbody>\n",
       "    <tr>\n",
       "      <th>0</th>\n",
       "      <td>0</td>\n",
       "      <td>Tell Me That I Can't (Clean) - NEFFEX.mp3</td>\n",
       "      <td>Angry</td>\n",
       "      <td>0.336170</td>\n",
       "      <td>0.030709</td>\n",
       "      <td>0.504131</td>\n",
       "      <td>0.084681</td>\n",
       "      <td>2118.428100</td>\n",
       "      <td>9.756422e+05</td>\n",
       "      <td>2458.834163</td>\n",
       "      <td>...</td>\n",
       "      <td>4.136426</td>\n",
       "      <td>44.906210</td>\n",
       "      <td>-0.065393</td>\n",
       "      <td>43.347076</td>\n",
       "      <td>2.655090</td>\n",
       "      <td>49.822586</td>\n",
       "      <td>-3.587426</td>\n",
       "      <td>39.159620</td>\n",
       "      <td>-0.362364</td>\n",
       "      <td>44.010452</td>\n",
       "    </tr>\n",
       "    <tr>\n",
       "      <th>1</th>\n",
       "      <td>1</td>\n",
       "      <td>It's Only Worth It If You Work For It (Clean) ...</td>\n",
       "      <td>Angry</td>\n",
       "      <td>0.229996</td>\n",
       "      <td>0.011787</td>\n",
       "      <td>0.382390</td>\n",
       "      <td>0.096317</td>\n",
       "      <td>1986.543565</td>\n",
       "      <td>9.884038e+05</td>\n",
       "      <td>2333.305230</td>\n",
       "      <td>...</td>\n",
       "      <td>-1.104181</td>\n",
       "      <td>53.218056</td>\n",
       "      <td>-9.090735</td>\n",
       "      <td>58.107212</td>\n",
       "      <td>-4.072828</td>\n",
       "      <td>67.380030</td>\n",
       "      <td>-9.011088</td>\n",
       "      <td>55.313988</td>\n",
       "      <td>-6.383667</td>\n",
       "      <td>83.276054</td>\n",
       "    </tr>\n",
       "    <tr>\n",
       "      <th>2</th>\n",
       "      <td>2</td>\n",
       "      <td>Statement (Clean) - NEFFEX.mp3</td>\n",
       "      <td>Angry</td>\n",
       "      <td>0.254628</td>\n",
       "      <td>0.014235</td>\n",
       "      <td>0.435461</td>\n",
       "      <td>0.086562</td>\n",
       "      <td>2186.280481</td>\n",
       "      <td>7.754239e+05</td>\n",
       "      <td>2490.128772</td>\n",
       "      <td>...</td>\n",
       "      <td>1.895623</td>\n",
       "      <td>31.033130</td>\n",
       "      <td>-6.536465</td>\n",
       "      <td>38.985590</td>\n",
       "      <td>0.901428</td>\n",
       "      <td>35.720013</td>\n",
       "      <td>-3.552503</td>\n",
       "      <td>30.856724</td>\n",
       "      <td>-3.057429</td>\n",
       "      <td>32.160133</td>\n",
       "    </tr>\n",
       "    <tr>\n",
       "      <th>3</th>\n",
       "      <td>3</td>\n",
       "      <td>No Turning Back (Clean) - NEFFEX.mp3</td>\n",
       "      <td>Angry</td>\n",
       "      <td>0.194401</td>\n",
       "      <td>0.017006</td>\n",
       "      <td>0.357778</td>\n",
       "      <td>0.104193</td>\n",
       "      <td>1768.157461</td>\n",
       "      <td>1.897606e+06</td>\n",
       "      <td>2050.120820</td>\n",
       "      <td>...</td>\n",
       "      <td>-0.417216</td>\n",
       "      <td>66.672590</td>\n",
       "      <td>-10.211936</td>\n",
       "      <td>80.495500</td>\n",
       "      <td>-5.495617</td>\n",
       "      <td>131.986180</td>\n",
       "      <td>-7.060772</td>\n",
       "      <td>68.881490</td>\n",
       "      <td>-1.843115</td>\n",
       "      <td>63.655922</td>\n",
       "    </tr>\n",
       "    <tr>\n",
       "      <th>4</th>\n",
       "      <td>4</td>\n",
       "      <td>No Turning Back (Instrumental) - NEFFEX.mp3</td>\n",
       "      <td>Angry</td>\n",
       "      <td>0.172122</td>\n",
       "      <td>0.019367</td>\n",
       "      <td>0.321783</td>\n",
       "      <td>0.111694</td>\n",
       "      <td>795.101779</td>\n",
       "      <td>3.382726e+05</td>\n",
       "      <td>1067.885933</td>\n",
       "      <td>...</td>\n",
       "      <td>-1.446617</td>\n",
       "      <td>66.532300</td>\n",
       "      <td>-8.476983</td>\n",
       "      <td>83.030464</td>\n",
       "      <td>-10.983328</td>\n",
       "      <td>101.891640</td>\n",
       "      <td>-3.865174</td>\n",
       "      <td>68.955270</td>\n",
       "      <td>-2.467369</td>\n",
       "      <td>56.117060</td>\n",
       "    </tr>\n",
       "  </tbody>\n",
       "</table>\n",
       "<p>5 rows × 60 columns</p>\n",
       "</div>\n",
       "      <button class=\"colab-df-convert\" onclick=\"convertToInteractive('df-97827751-9c24-4980-8105-49427030783a')\"\n",
       "              title=\"Convert this dataframe to an interactive table.\"\n",
       "              style=\"display:none;\">\n",
       "        \n",
       "  <svg xmlns=\"http://www.w3.org/2000/svg\" height=\"24px\"viewBox=\"0 0 24 24\"\n",
       "       width=\"24px\">\n",
       "    <path d=\"M0 0h24v24H0V0z\" fill=\"none\"/>\n",
       "    <path d=\"M18.56 5.44l.94 2.06.94-2.06 2.06-.94-2.06-.94-.94-2.06-.94 2.06-2.06.94zm-11 1L8.5 8.5l.94-2.06 2.06-.94-2.06-.94L8.5 2.5l-.94 2.06-2.06.94zm10 10l.94 2.06.94-2.06 2.06-.94-2.06-.94-.94-2.06-.94 2.06-2.06.94z\"/><path d=\"M17.41 7.96l-1.37-1.37c-.4-.4-.92-.59-1.43-.59-.52 0-1.04.2-1.43.59L10.3 9.45l-7.72 7.72c-.78.78-.78 2.05 0 2.83L4 21.41c.39.39.9.59 1.41.59.51 0 1.02-.2 1.41-.59l7.78-7.78 2.81-2.81c.8-.78.8-2.07 0-2.86zM5.41 20L4 18.59l7.72-7.72 1.47 1.35L5.41 20z\"/>\n",
       "  </svg>\n",
       "      </button>\n",
       "      \n",
       "  <style>\n",
       "    .colab-df-container {\n",
       "      display:flex;\n",
       "      flex-wrap:wrap;\n",
       "      gap: 12px;\n",
       "    }\n",
       "\n",
       "    .colab-df-convert {\n",
       "      background-color: #E8F0FE;\n",
       "      border: none;\n",
       "      border-radius: 50%;\n",
       "      cursor: pointer;\n",
       "      display: none;\n",
       "      fill: #1967D2;\n",
       "      height: 32px;\n",
       "      padding: 0 0 0 0;\n",
       "      width: 32px;\n",
       "    }\n",
       "\n",
       "    .colab-df-convert:hover {\n",
       "      background-color: #E2EBFA;\n",
       "      box-shadow: 0px 1px 2px rgba(60, 64, 67, 0.3), 0px 1px 3px 1px rgba(60, 64, 67, 0.15);\n",
       "      fill: #174EA6;\n",
       "    }\n",
       "\n",
       "    [theme=dark] .colab-df-convert {\n",
       "      background-color: #3B4455;\n",
       "      fill: #D2E3FC;\n",
       "    }\n",
       "\n",
       "    [theme=dark] .colab-df-convert:hover {\n",
       "      background-color: #434B5C;\n",
       "      box-shadow: 0px 1px 3px 1px rgba(0, 0, 0, 0.15);\n",
       "      filter: drop-shadow(0px 1px 2px rgba(0, 0, 0, 0.3));\n",
       "      fill: #FFFFFF;\n",
       "    }\n",
       "  </style>\n",
       "\n",
       "      <script>\n",
       "        const buttonEl =\n",
       "          document.querySelector('#df-97827751-9c24-4980-8105-49427030783a button.colab-df-convert');\n",
       "        buttonEl.style.display =\n",
       "          google.colab.kernel.accessAllowed ? 'block' : 'none';\n",
       "\n",
       "        async function convertToInteractive(key) {\n",
       "          const element = document.querySelector('#df-97827751-9c24-4980-8105-49427030783a');\n",
       "          const dataTable =\n",
       "            await google.colab.kernel.invokeFunction('convertToInteractive',\n",
       "                                                     [key], {});\n",
       "          if (!dataTable) return;\n",
       "\n",
       "          const docLinkHtml = 'Like what you see? Visit the ' +\n",
       "            '<a target=\"_blank\" href=https://colab.research.google.com/notebooks/data_table.ipynb>data table notebook</a>'\n",
       "            + ' to learn more about interactive tables.';\n",
       "          element.innerHTML = '';\n",
       "          dataTable['output_type'] = 'display_data';\n",
       "          await google.colab.output.renderOutput(dataTable, element);\n",
       "          const docLink = document.createElement('div');\n",
       "          docLink.innerHTML = docLinkHtml;\n",
       "          element.appendChild(docLink);\n",
       "        }\n",
       "      </script>\n",
       "    </div>\n",
       "  </div>\n",
       "  "
      ],
      "text/plain": [
       "   Unnamed: 0                                        music_names labels  \\\n",
       "0           0          Tell Me That I Can't (Clean) - NEFFEX.mp3  Angry   \n",
       "1           1  It's Only Worth It If You Work For It (Clean) ...  Angry   \n",
       "2           2                     Statement (Clean) - NEFFEX.mp3  Angry   \n",
       "3           3               No Turning Back (Clean) - NEFFEX.mp3  Angry   \n",
       "4           4        No Turning Back (Instrumental) - NEFFEX.mp3  Angry   \n",
       "\n",
       "   chroma_rms_mean  chroma_rms_var  chroma_stft_mean  chroma_stft_var  \\\n",
       "0         0.336170        0.030709          0.504131         0.084681   \n",
       "1         0.229996        0.011787          0.382390         0.096317   \n",
       "2         0.254628        0.014235          0.435461         0.086562   \n",
       "3         0.194401        0.017006          0.357778         0.104193   \n",
       "4         0.172122        0.019367          0.321783         0.111694   \n",
       "\n",
       "   spectral_centroid_mean  spectral_centroid_var  spectral_bandwidth_mean  \\\n",
       "0             2118.428100           9.756422e+05              2458.834163   \n",
       "1             1986.543565           9.884038e+05              2333.305230   \n",
       "2             2186.280481           7.754239e+05              2490.128772   \n",
       "3             1768.157461           1.897606e+06              2050.120820   \n",
       "4              795.101779           3.382726e+05              1067.885933   \n",
       "\n",
       "   ...  mfcc_mean_16  mfcc_var_16  mfcc_mean_17  mfcc_var_17  mfcc_mean_18  \\\n",
       "0  ...      4.136426    44.906210     -0.065393    43.347076      2.655090   \n",
       "1  ...     -1.104181    53.218056     -9.090735    58.107212     -4.072828   \n",
       "2  ...      1.895623    31.033130     -6.536465    38.985590      0.901428   \n",
       "3  ...     -0.417216    66.672590    -10.211936    80.495500     -5.495617   \n",
       "4  ...     -1.446617    66.532300     -8.476983    83.030464    -10.983328   \n",
       "\n",
       "   mfcc_var_18  mfcc_mean_19  mfcc_var_19  mfcc_mean_20  mfcc_var_20  \n",
       "0    49.822586     -3.587426    39.159620     -0.362364    44.010452  \n",
       "1    67.380030     -9.011088    55.313988     -6.383667    83.276054  \n",
       "2    35.720013     -3.552503    30.856724     -3.057429    32.160133  \n",
       "3   131.986180     -7.060772    68.881490     -1.843115    63.655922  \n",
       "4   101.891640     -3.865174    68.955270     -2.467369    56.117060  \n",
       "\n",
       "[5 rows x 60 columns]"
      ]
     },
     "execution_count": 48,
     "metadata": {},
     "output_type": "execute_result"
    }
   ],
   "source": [
    "selected_music.head()"
   ]
  },
  {
   "cell_type": "code",
   "execution_count": null,
   "metadata": {
    "id": "cVeFO9xRoafo"
   },
   "outputs": [],
   "source": [
    "# 0~119 : Angry | 120~239 : Happy | 240~359 : Calm | 360~479 : Dark | 480~599 : Sad | 600~719 : Dramatic"
   ]
  },
  {
   "cell_type": "markdown",
   "metadata": {
    "id": "bgNvLvWhrU11"
   },
   "source": [
    "ID 넣으면 음악 추천해주는 Class"
   ]
  },
  {
   "cell_type": "code",
   "execution_count": 11,
   "metadata": {
    "colab": {
     "base_uri": "https://localhost:8080/"
    },
    "executionInfo": {
     "elapsed": 4049,
     "status": "ok",
     "timestamp": 1653977668509,
     "user": {
      "displayName": "Alex Kim",
      "userId": "14000404201898213847"
     },
     "user_tz": -540
    },
    "id": "H7A4QwItmBIZ",
    "outputId": "5b434979-bd76-44c6-e36f-64491974b974"
   },
   "outputs": [
    {
     "name": "stdout",
     "output_type": "stream",
     "text": [
      "Looking in indexes: https://pypi.org/simple, https://us-python.pkg.dev/colab-wheels/public/simple/\n",
      "Requirement already satisfied: n2 in /usr/local/lib/python3.7/dist-packages (0.1.7)\n",
      "Requirement already satisfied: cython in /usr/local/lib/python3.7/dist-packages (from n2) (0.29.30)\n"
     ]
    }
   ],
   "source": [
    "!pip install n2\n",
    "from n2 import HnswIndex\n",
    "import pandas as pd\n",
    "\n",
    "class music_recommendation():\n",
    "  def __init__(self):\n",
    "    self.m_index = HnswIndex(57)\n",
    "    # 저장된 인덱스 호출\n",
    "    self.m_index.load('__file_location__/six_genre_index.hnsw')\n",
    "    \n",
    "    # 음악 추출 데이터 호출\n",
    "    music_feature = pd.read_csv('__file_location__/music_data_220527.csv', index_col = None)\n",
    "    \n",
    "    # 6가지 감정만 사용\n",
    "    selected_music = music_feature[(music_feature['labels'] == 'Happy') | (music_feature['labels'] =='Angry') | (music_feature['labels'] =='Sad') | (music_feature['labels'] =='Calm') | (music_feature['labels'] =='Dramatic') | (music_feature['labels'] =='Dark')]\n",
    "    selected_music.reset_index(inplace=True, drop = True)\n",
    "\n",
    "    self.index_and_music = {i:k for i, k in enumerate(selected_music['music_names'])}\n",
    "\n",
    "  def recommendation_by_id(self, id):\n",
    "    # 0~119 : Angry\n",
    "    if id in range(0,120):\n",
    "      music_mood = 'Angry'\n",
    "      music_range = range(0,120)\n",
    "      music_list = [musics for musics in self.m_index.search_by_id(id, 720) if musics in music_range]\n",
    "    # 120~239 : Happy\n",
    "    elif id in range(120,240):\n",
    "      music_mood = 'Happy'\n",
    "      music_range = range(120,240)\n",
    "      music_list = [musics for musics in self.m_index.search_by_id(id, 720) if musics in music_range]\n",
    "    # 240~359 : Calm\n",
    "    elif id in range(240,360):\n",
    "      music_mood = 'Calm' \n",
    "      music_range = range(240,360)\n",
    "      music_list = [musics for musics in self.m_index.search_by_id(id, 720) if musics in music_range]\n",
    "    # 360~479 : Dark\n",
    "    elif id in range(360,480):\n",
    "      music_mood = 'Dark'       \n",
    "      music_range = range(360,480)\n",
    "      music_list = [musics for musics in self.m_index.search_by_id(id, 720) if musics in music_range]\n",
    "    # 480~599 : Sad\n",
    "    elif id in range(480,600):\n",
    "      music_mood = 'Sad'         \n",
    "      music_range = range(480,600)\n",
    "      music_list = [musics for musics in self.m_index.search_by_id(id, 720) if musics in music_range]\n",
    "    # 600~719 : Dramatic\n",
    "    elif id in range(600,720):\n",
    "      music_mood = 'Dramatic'   \n",
    "      music_range = range(600,720)\n",
    "      music_list = [musics for musics in self.m_index.search_by_id(id, 720) if musics in music_range]\n",
    "    \n",
    "    return music_mood, [self.index_and_music[recomend_music] for recomend_music in music_list[1:21]]"
   ]
  },
  {
   "cell_type": "code",
   "execution_count": 13,
   "metadata": {
    "executionInfo": {
     "elapsed": 2,
     "status": "ok",
     "timestamp": 1653977673044,
     "user": {
      "displayName": "Alex Kim",
      "userId": "14000404201898213847"
     },
     "user_tz": -540
    },
    "id": "pqt_wSwtoezm"
   },
   "outputs": [],
   "source": [
    "test = music_recommendation()"
   ]
  },
  {
   "cell_type": "code",
   "execution_count": 14,
   "metadata": {
    "colab": {
     "base_uri": "https://localhost:8080/"
    },
    "executionInfo": {
     "elapsed": 249,
     "status": "ok",
     "timestamp": 1653977674921,
     "user": {
      "displayName": "Alex Kim",
      "userId": "14000404201898213847"
     },
     "user_tz": -540
    },
    "id": "6YaGYqDKpy8e",
    "outputId": "96ead25e-c6a4-4675-aa13-25edc39b92bd"
   },
   "outputs": [
    {
     "name": "stdout",
     "output_type": "stream",
     "text": [
      "Sad ['Somewhere Fuse - French Fuse.mp3', 'Boards - Francis Preve.mp3', \"Sad Sunday - E's Jammy Jams.mp3\", 'Scapes - Silent Partner.mp3', 'Mist - Odonis Odonis.mp3', 'Coming Home - Dan Lebowitz.mp3', 'Through and Through - Amulets.mp3', 'Surrender - Dan Lebowitz.mp3', 'Last Train to Mars - Dan Lebowitz.mp3', 'Called Upon - Silent Partner.mp3', \"80's Video Game Death - Sir Cubworth.mp3\", 'Ether - Silent Partner.mp3', 'Sailing - Anno Domini Beats.mp3', 'Bring Me Your Sorrows - Dan Lebowitz.mp3', 'Late Night Train - Vans in Japan.mp3', 'Back Home - Coyote Hearing.mp3', 'Till I Let Go - NEFFEX.mp3', 'Frost - HOVATOFF.mp3', 'Elegy - Asher Fulero.mp3', \"Suzuki's Theme - Endless Love.mp3\"]\n"
     ]
    }
   ],
   "source": [
    "atmosphere, music_list_test = test.recommendation_by_id(563)\n",
    "print(atmosphere, music_list_test)"
   ]
  }
 ],
 "metadata": {
  "colab": {
   "collapsed_sections": [],
   "name": "annoy_retrieval_kakao.ipynb",
   "provenance": []
  },
  "kernelspec": {
   "display_name": "Python 3 (ipykernel)",
   "language": "python",
   "name": "python3"
  },
  "language_info": {
   "codemirror_mode": {
    "name": "ipython",
    "version": 3
   },
   "file_extension": ".py",
   "mimetype": "text/x-python",
   "name": "python",
   "nbconvert_exporter": "python",
   "pygments_lexer": "ipython3",
   "version": "3.9.7"
  }
 },
 "nbformat": 4,
 "nbformat_minor": 1
}
